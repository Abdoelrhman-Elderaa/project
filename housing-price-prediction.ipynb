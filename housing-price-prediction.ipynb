{
 "cells": [
  {
   "cell_type": "markdown",
   "id": "6fb09fa1",
   "metadata": {
    "papermill": {
     "duration": 0.027923,
     "end_time": "2023-08-15T09:20:18.452562",
     "exception": false,
     "start_time": "2023-08-15T09:20:18.424639",
     "status": "completed"
    },
    "tags": []
   },
   "source": [
    "# import libraries"
   ]
  },
  {
   "cell_type": "code",
   "execution_count": 1,
   "id": "8b1ca070",
   "metadata": {
    "execution": {
     "iopub.execute_input": "2023-08-15T09:20:18.509009Z",
     "iopub.status.busy": "2023-08-15T09:20:18.507876Z",
     "iopub.status.idle": "2023-08-15T09:20:20.418193Z",
     "shell.execute_reply": "2023-08-15T09:20:20.417072Z"
    },
    "papermill": {
     "duration": 1.941442,
     "end_time": "2023-08-15T09:20:20.420972",
     "exception": false,
     "start_time": "2023-08-15T09:20:18.479530",
     "status": "completed"
    },
    "tags": []
   },
   "outputs": [
    {
     "name": "stderr",
     "output_type": "stream",
     "text": [
      "/opt/conda/lib/python3.10/site-packages/scipy/__init__.py:146: UserWarning: A NumPy version >=1.16.5 and <1.23.0 is required for this version of SciPy (detected version 1.23.5\n",
      "  warnings.warn(f\"A NumPy version >={np_minversion} and <{np_maxversion}\"\n"
     ]
    }
   ],
   "source": [
    "import numpy as np\n",
    "import pandas as pd\n",
    "import plotly.express as px\n",
    "import matplotlib.pyplot as plt\n",
    "import sklearn"
   ]
  },
  {
   "cell_type": "markdown",
   "id": "97d4a046",
   "metadata": {
    "papermill": {
     "duration": 0.026979,
     "end_time": "2023-08-15T09:20:20.475694",
     "exception": false,
     "start_time": "2023-08-15T09:20:20.448715",
     "status": "completed"
    },
    "tags": []
   },
   "source": [
    "# import dataset"
   ]
  },
  {
   "cell_type": "code",
   "execution_count": 2,
   "id": "784de9a8",
   "metadata": {
    "execution": {
     "iopub.execute_input": "2023-08-15T09:20:20.531355Z",
     "iopub.status.busy": "2023-08-15T09:20:20.530954Z",
     "iopub.status.idle": "2023-08-15T09:20:20.580512Z",
     "shell.execute_reply": "2023-08-15T09:20:20.579358Z"
    },
    "papermill": {
     "duration": 0.080611,
     "end_time": "2023-08-15T09:20:20.583195",
     "exception": false,
     "start_time": "2023-08-15T09:20:20.502584",
     "status": "completed"
    },
    "tags": []
   },
   "outputs": [
    {
     "data": {
      "text/html": [
       "<div>\n",
       "<style scoped>\n",
       "    .dataframe tbody tr th:only-of-type {\n",
       "        vertical-align: middle;\n",
       "    }\n",
       "\n",
       "    .dataframe tbody tr th {\n",
       "        vertical-align: top;\n",
       "    }\n",
       "\n",
       "    .dataframe thead th {\n",
       "        text-align: right;\n",
       "    }\n",
       "</style>\n",
       "<table border=\"1\" class=\"dataframe\">\n",
       "  <thead>\n",
       "    <tr style=\"text-align: right;\">\n",
       "      <th></th>\n",
       "      <th>price</th>\n",
       "      <th>area</th>\n",
       "      <th>bedrooms</th>\n",
       "      <th>bathrooms</th>\n",
       "      <th>stories</th>\n",
       "      <th>mainroad</th>\n",
       "      <th>guestroom</th>\n",
       "      <th>basement</th>\n",
       "      <th>hotwaterheating</th>\n",
       "      <th>airconditioning</th>\n",
       "      <th>parking</th>\n",
       "      <th>prefarea</th>\n",
       "      <th>furnishingstatus</th>\n",
       "    </tr>\n",
       "  </thead>\n",
       "  <tbody>\n",
       "    <tr>\n",
       "      <th>0</th>\n",
       "      <td>13300000</td>\n",
       "      <td>7420</td>\n",
       "      <td>4</td>\n",
       "      <td>2</td>\n",
       "      <td>3</td>\n",
       "      <td>yes</td>\n",
       "      <td>no</td>\n",
       "      <td>no</td>\n",
       "      <td>no</td>\n",
       "      <td>yes</td>\n",
       "      <td>2</td>\n",
       "      <td>yes</td>\n",
       "      <td>furnished</td>\n",
       "    </tr>\n",
       "    <tr>\n",
       "      <th>1</th>\n",
       "      <td>12250000</td>\n",
       "      <td>8960</td>\n",
       "      <td>4</td>\n",
       "      <td>4</td>\n",
       "      <td>4</td>\n",
       "      <td>yes</td>\n",
       "      <td>no</td>\n",
       "      <td>no</td>\n",
       "      <td>no</td>\n",
       "      <td>yes</td>\n",
       "      <td>3</td>\n",
       "      <td>no</td>\n",
       "      <td>furnished</td>\n",
       "    </tr>\n",
       "    <tr>\n",
       "      <th>2</th>\n",
       "      <td>12250000</td>\n",
       "      <td>9960</td>\n",
       "      <td>3</td>\n",
       "      <td>2</td>\n",
       "      <td>2</td>\n",
       "      <td>yes</td>\n",
       "      <td>no</td>\n",
       "      <td>yes</td>\n",
       "      <td>no</td>\n",
       "      <td>no</td>\n",
       "      <td>2</td>\n",
       "      <td>yes</td>\n",
       "      <td>semi-furnished</td>\n",
       "    </tr>\n",
       "    <tr>\n",
       "      <th>3</th>\n",
       "      <td>12215000</td>\n",
       "      <td>7500</td>\n",
       "      <td>4</td>\n",
       "      <td>2</td>\n",
       "      <td>2</td>\n",
       "      <td>yes</td>\n",
       "      <td>no</td>\n",
       "      <td>yes</td>\n",
       "      <td>no</td>\n",
       "      <td>yes</td>\n",
       "      <td>3</td>\n",
       "      <td>yes</td>\n",
       "      <td>furnished</td>\n",
       "    </tr>\n",
       "    <tr>\n",
       "      <th>4</th>\n",
       "      <td>11410000</td>\n",
       "      <td>7420</td>\n",
       "      <td>4</td>\n",
       "      <td>1</td>\n",
       "      <td>2</td>\n",
       "      <td>yes</td>\n",
       "      <td>yes</td>\n",
       "      <td>yes</td>\n",
       "      <td>no</td>\n",
       "      <td>yes</td>\n",
       "      <td>2</td>\n",
       "      <td>no</td>\n",
       "      <td>furnished</td>\n",
       "    </tr>\n",
       "  </tbody>\n",
       "</table>\n",
       "</div>"
      ],
      "text/plain": [
       "      price  area  bedrooms  bathrooms  stories mainroad guestroom basement  \\\n",
       "0  13300000  7420         4          2        3      yes        no       no   \n",
       "1  12250000  8960         4          4        4      yes        no       no   \n",
       "2  12250000  9960         3          2        2      yes        no      yes   \n",
       "3  12215000  7500         4          2        2      yes        no      yes   \n",
       "4  11410000  7420         4          1        2      yes       yes      yes   \n",
       "\n",
       "  hotwaterheating airconditioning  parking prefarea furnishingstatus  \n",
       "0              no             yes        2      yes        furnished  \n",
       "1              no             yes        3       no        furnished  \n",
       "2              no              no        2      yes   semi-furnished  \n",
       "3              no             yes        3      yes        furnished  \n",
       "4              no             yes        2       no        furnished  "
      ]
     },
     "execution_count": 2,
     "metadata": {},
     "output_type": "execute_result"
    }
   ],
   "source": [
    "path = '/kaggle/input/housing-price-prediction/Housing.csv'\n",
    "houses = pd.read_csv(path)\n",
    "houses.head()"
   ]
  },
  {
   "cell_type": "markdown",
   "id": "7be2d712",
   "metadata": {
    "papermill": {
     "duration": 0.027876,
     "end_time": "2023-08-15T09:20:20.639185",
     "exception": false,
     "start_time": "2023-08-15T09:20:20.611309",
     "status": "completed"
    },
    "tags": []
   },
   "source": [
    "# date cleaning"
   ]
  },
  {
   "cell_type": "markdown",
   "id": "daf9f0cc",
   "metadata": {
    "papermill": {
     "duration": 0.028207,
     "end_time": "2023-08-15T09:20:20.694922",
     "exception": false,
     "start_time": "2023-08-15T09:20:20.666715",
     "status": "completed"
    },
    "tags": []
   },
   "source": [
    "# check data types"
   ]
  },
  {
   "cell_type": "code",
   "execution_count": 3,
   "id": "046d2d80",
   "metadata": {
    "execution": {
     "iopub.execute_input": "2023-08-15T09:20:20.753106Z",
     "iopub.status.busy": "2023-08-15T09:20:20.752410Z",
     "iopub.status.idle": "2023-08-15T09:20:20.760783Z",
     "shell.execute_reply": "2023-08-15T09:20:20.759735Z"
    },
    "papermill": {
     "duration": 0.040143,
     "end_time": "2023-08-15T09:20:20.763059",
     "exception": false,
     "start_time": "2023-08-15T09:20:20.722916",
     "status": "completed"
    },
    "tags": []
   },
   "outputs": [
    {
     "data": {
      "text/plain": [
       "price                int64\n",
       "area                 int64\n",
       "bedrooms             int64\n",
       "bathrooms            int64\n",
       "stories              int64\n",
       "mainroad            object\n",
       "guestroom           object\n",
       "basement            object\n",
       "hotwaterheating     object\n",
       "airconditioning     object\n",
       "parking              int64\n",
       "prefarea            object\n",
       "furnishingstatus    object\n",
       "dtype: object"
      ]
     },
     "execution_count": 3,
     "metadata": {},
     "output_type": "execute_result"
    }
   ],
   "source": [
    "houses.dtypes"
   ]
  },
  {
   "cell_type": "code",
   "execution_count": 4,
   "id": "e84b152a",
   "metadata": {
    "execution": {
     "iopub.execute_input": "2023-08-15T09:20:20.819902Z",
     "iopub.status.busy": "2023-08-15T09:20:20.819464Z",
     "iopub.status.idle": "2023-08-15T09:20:20.831626Z",
     "shell.execute_reply": "2023-08-15T09:20:20.830650Z"
    },
    "papermill": {
     "duration": 0.043346,
     "end_time": "2023-08-15T09:20:20.833809",
     "exception": false,
     "start_time": "2023-08-15T09:20:20.790463",
     "status": "completed"
    },
    "tags": []
   },
   "outputs": [
    {
     "data": {
      "text/plain": [
       "0      13300000.0\n",
       "1      12250000.0\n",
       "2      12250000.0\n",
       "3      12215000.0\n",
       "4      11410000.0\n",
       "          ...    \n",
       "540     1820000.0\n",
       "541     1767150.0\n",
       "542     1750000.0\n",
       "543     1750000.0\n",
       "544     1750000.0\n",
       "Name: price, Length: 545, dtype: float64"
      ]
     },
     "execution_count": 4,
     "metadata": {},
     "output_type": "execute_result"
    }
   ],
   "source": [
    "houses['price'] = houses['price'].astype(float)\n",
    "houses['price']"
   ]
  },
  {
   "cell_type": "code",
   "execution_count": 5,
   "id": "53df3d65",
   "metadata": {
    "execution": {
     "iopub.execute_input": "2023-08-15T09:20:20.891804Z",
     "iopub.status.busy": "2023-08-15T09:20:20.891400Z",
     "iopub.status.idle": "2023-08-15T09:20:20.901538Z",
     "shell.execute_reply": "2023-08-15T09:20:20.900453Z"
    },
    "papermill": {
     "duration": 0.042669,
     "end_time": "2023-08-15T09:20:20.903976",
     "exception": false,
     "start_time": "2023-08-15T09:20:20.861307",
     "status": "completed"
    },
    "tags": []
   },
   "outputs": [
    {
     "data": {
      "text/plain": [
       "0      7420.0\n",
       "1      8960.0\n",
       "2      9960.0\n",
       "3      7500.0\n",
       "4      7420.0\n",
       "        ...  \n",
       "540    3000.0\n",
       "541    2400.0\n",
       "542    3620.0\n",
       "543    2910.0\n",
       "544    3850.0\n",
       "Name: area, Length: 545, dtype: float64"
      ]
     },
     "execution_count": 5,
     "metadata": {},
     "output_type": "execute_result"
    }
   ],
   "source": [
    "houses['area'] = houses['area'].astype(float)\n",
    "houses['area']"
   ]
  },
  {
   "cell_type": "markdown",
   "id": "a8c6723b",
   "metadata": {
    "papermill": {
     "duration": 0.027295,
     "end_time": "2023-08-15T09:20:20.959241",
     "exception": false,
     "start_time": "2023-08-15T09:20:20.931946",
     "status": "completed"
    },
    "tags": []
   },
   "source": [
    "# check Null values"
   ]
  },
  {
   "cell_type": "code",
   "execution_count": 6,
   "id": "8e5f76e3",
   "metadata": {
    "execution": {
     "iopub.execute_input": "2023-08-15T09:20:21.017687Z",
     "iopub.status.busy": "2023-08-15T09:20:21.017297Z",
     "iopub.status.idle": "2023-08-15T09:20:21.030690Z",
     "shell.execute_reply": "2023-08-15T09:20:21.029454Z"
    },
    "papermill": {
     "duration": 0.046412,
     "end_time": "2023-08-15T09:20:21.033175",
     "exception": false,
     "start_time": "2023-08-15T09:20:20.986763",
     "status": "completed"
    },
    "tags": []
   },
   "outputs": [
    {
     "data": {
      "text/plain": [
       "price               0\n",
       "area                0\n",
       "bedrooms            0\n",
       "bathrooms           0\n",
       "stories             0\n",
       "mainroad            0\n",
       "guestroom           0\n",
       "basement            0\n",
       "hotwaterheating     0\n",
       "airconditioning     0\n",
       "parking             0\n",
       "prefarea            0\n",
       "furnishingstatus    0\n",
       "dtype: int64"
      ]
     },
     "execution_count": 6,
     "metadata": {},
     "output_type": "execute_result"
    }
   ],
   "source": [
    "houses.isnull().sum()"
   ]
  },
  {
   "cell_type": "markdown",
   "id": "28cd5cc2",
   "metadata": {
    "papermill": {
     "duration": 0.027714,
     "end_time": "2023-08-15T09:20:21.089991",
     "exception": false,
     "start_time": "2023-08-15T09:20:21.062277",
     "status": "completed"
    },
    "tags": []
   },
   "source": [
    "# check duplicated values"
   ]
  },
  {
   "cell_type": "code",
   "execution_count": 7,
   "id": "80ec980b",
   "metadata": {
    "execution": {
     "iopub.execute_input": "2023-08-15T09:20:21.147470Z",
     "iopub.status.busy": "2023-08-15T09:20:21.147039Z",
     "iopub.status.idle": "2023-08-15T09:20:21.162968Z",
     "shell.execute_reply": "2023-08-15T09:20:21.162034Z"
    },
    "papermill": {
     "duration": 0.047617,
     "end_time": "2023-08-15T09:20:21.165390",
     "exception": false,
     "start_time": "2023-08-15T09:20:21.117773",
     "status": "completed"
    },
    "tags": []
   },
   "outputs": [
    {
     "data": {
      "text/plain": [
       "0"
      ]
     },
     "execution_count": 7,
     "metadata": {},
     "output_type": "execute_result"
    }
   ],
   "source": [
    "houses.duplicated().sum()"
   ]
  },
  {
   "cell_type": "markdown",
   "id": "2644464f",
   "metadata": {
    "papermill": {
     "duration": 0.027772,
     "end_time": "2023-08-15T09:20:21.221735",
     "exception": false,
     "start_time": "2023-08-15T09:20:21.193963",
     "status": "completed"
    },
    "tags": []
   },
   "source": [
    "# check data validity"
   ]
  },
  {
   "cell_type": "code",
   "execution_count": 8,
   "id": "80b00a2b",
   "metadata": {
    "execution": {
     "iopub.execute_input": "2023-08-15T09:20:21.281232Z",
     "iopub.status.busy": "2023-08-15T09:20:21.280797Z",
     "iopub.status.idle": "2023-08-15T09:20:21.303889Z",
     "shell.execute_reply": "2023-08-15T09:20:21.302109Z"
    },
    "papermill": {
     "duration": 0.055028,
     "end_time": "2023-08-15T09:20:21.306438",
     "exception": false,
     "start_time": "2023-08-15T09:20:21.251410",
     "status": "completed"
    },
    "tags": []
   },
   "outputs": [
    {
     "name": "stdout",
     "output_type": "stream",
     "text": [
      "<class 'pandas.core.frame.DataFrame'>\n",
      "RangeIndex: 545 entries, 0 to 544\n",
      "Data columns (total 13 columns):\n",
      " #   Column            Non-Null Count  Dtype  \n",
      "---  ------            --------------  -----  \n",
      " 0   price             545 non-null    float64\n",
      " 1   area              545 non-null    float64\n",
      " 2   bedrooms          545 non-null    int64  \n",
      " 3   bathrooms         545 non-null    int64  \n",
      " 4   stories           545 non-null    int64  \n",
      " 5   mainroad          545 non-null    object \n",
      " 6   guestroom         545 non-null    object \n",
      " 7   basement          545 non-null    object \n",
      " 8   hotwaterheating   545 non-null    object \n",
      " 9   airconditioning   545 non-null    object \n",
      " 10  parking           545 non-null    int64  \n",
      " 11  prefarea          545 non-null    object \n",
      " 12  furnishingstatus  545 non-null    object \n",
      "dtypes: float64(2), int64(4), object(7)\n",
      "memory usage: 55.5+ KB\n"
     ]
    }
   ],
   "source": [
    "houses.info()"
   ]
  },
  {
   "cell_type": "code",
   "execution_count": 9,
   "id": "07a94e1b",
   "metadata": {
    "execution": {
     "iopub.execute_input": "2023-08-15T09:20:21.365297Z",
     "iopub.status.busy": "2023-08-15T09:20:21.364875Z",
     "iopub.status.idle": "2023-08-15T09:20:21.372585Z",
     "shell.execute_reply": "2023-08-15T09:20:21.371239Z"
    },
    "papermill": {
     "duration": 0.040213,
     "end_time": "2023-08-15T09:20:21.374989",
     "exception": false,
     "start_time": "2023-08-15T09:20:21.334776",
     "status": "completed"
    },
    "tags": []
   },
   "outputs": [
    {
     "data": {
      "text/plain": [
       "array(['furnished', 'semi-furnished', 'unfurnished'], dtype=object)"
      ]
     },
     "execution_count": 9,
     "metadata": {},
     "output_type": "execute_result"
    }
   ],
   "source": [
    "houses['furnishingstatus'].unique()"
   ]
  },
  {
   "cell_type": "code",
   "execution_count": 10,
   "id": "e207b82d",
   "metadata": {
    "execution": {
     "iopub.execute_input": "2023-08-15T09:20:21.433264Z",
     "iopub.status.busy": "2023-08-15T09:20:21.432849Z",
     "iopub.status.idle": "2023-08-15T09:20:21.468980Z",
     "shell.execute_reply": "2023-08-15T09:20:21.468106Z"
    },
    "papermill": {
     "duration": 0.06824,
     "end_time": "2023-08-15T09:20:21.471464",
     "exception": false,
     "start_time": "2023-08-15T09:20:21.403224",
     "status": "completed"
    },
    "tags": []
   },
   "outputs": [
    {
     "data": {
      "text/html": [
       "<div>\n",
       "<style scoped>\n",
       "    .dataframe tbody tr th:only-of-type {\n",
       "        vertical-align: middle;\n",
       "    }\n",
       "\n",
       "    .dataframe tbody tr th {\n",
       "        vertical-align: top;\n",
       "    }\n",
       "\n",
       "    .dataframe thead th {\n",
       "        text-align: right;\n",
       "    }\n",
       "</style>\n",
       "<table border=\"1\" class=\"dataframe\">\n",
       "  <thead>\n",
       "    <tr style=\"text-align: right;\">\n",
       "      <th></th>\n",
       "      <th>price</th>\n",
       "      <th>area</th>\n",
       "      <th>bedrooms</th>\n",
       "      <th>bathrooms</th>\n",
       "      <th>stories</th>\n",
       "      <th>parking</th>\n",
       "    </tr>\n",
       "  </thead>\n",
       "  <tbody>\n",
       "    <tr>\n",
       "      <th>count</th>\n",
       "      <td>5.450000e+02</td>\n",
       "      <td>545.000000</td>\n",
       "      <td>545.000000</td>\n",
       "      <td>545.000000</td>\n",
       "      <td>545.000000</td>\n",
       "      <td>545.000000</td>\n",
       "    </tr>\n",
       "    <tr>\n",
       "      <th>mean</th>\n",
       "      <td>4.766729e+06</td>\n",
       "      <td>5150.541284</td>\n",
       "      <td>2.965138</td>\n",
       "      <td>1.286239</td>\n",
       "      <td>1.805505</td>\n",
       "      <td>0.693578</td>\n",
       "    </tr>\n",
       "    <tr>\n",
       "      <th>std</th>\n",
       "      <td>1.870440e+06</td>\n",
       "      <td>2170.141023</td>\n",
       "      <td>0.738064</td>\n",
       "      <td>0.502470</td>\n",
       "      <td>0.867492</td>\n",
       "      <td>0.861586</td>\n",
       "    </tr>\n",
       "    <tr>\n",
       "      <th>min</th>\n",
       "      <td>1.750000e+06</td>\n",
       "      <td>1650.000000</td>\n",
       "      <td>1.000000</td>\n",
       "      <td>1.000000</td>\n",
       "      <td>1.000000</td>\n",
       "      <td>0.000000</td>\n",
       "    </tr>\n",
       "    <tr>\n",
       "      <th>25%</th>\n",
       "      <td>3.430000e+06</td>\n",
       "      <td>3600.000000</td>\n",
       "      <td>2.000000</td>\n",
       "      <td>1.000000</td>\n",
       "      <td>1.000000</td>\n",
       "      <td>0.000000</td>\n",
       "    </tr>\n",
       "    <tr>\n",
       "      <th>50%</th>\n",
       "      <td>4.340000e+06</td>\n",
       "      <td>4600.000000</td>\n",
       "      <td>3.000000</td>\n",
       "      <td>1.000000</td>\n",
       "      <td>2.000000</td>\n",
       "      <td>0.000000</td>\n",
       "    </tr>\n",
       "    <tr>\n",
       "      <th>75%</th>\n",
       "      <td>5.740000e+06</td>\n",
       "      <td>6360.000000</td>\n",
       "      <td>3.000000</td>\n",
       "      <td>2.000000</td>\n",
       "      <td>2.000000</td>\n",
       "      <td>1.000000</td>\n",
       "    </tr>\n",
       "    <tr>\n",
       "      <th>max</th>\n",
       "      <td>1.330000e+07</td>\n",
       "      <td>16200.000000</td>\n",
       "      <td>6.000000</td>\n",
       "      <td>4.000000</td>\n",
       "      <td>4.000000</td>\n",
       "      <td>3.000000</td>\n",
       "    </tr>\n",
       "  </tbody>\n",
       "</table>\n",
       "</div>"
      ],
      "text/plain": [
       "              price          area    bedrooms   bathrooms     stories  \\\n",
       "count  5.450000e+02    545.000000  545.000000  545.000000  545.000000   \n",
       "mean   4.766729e+06   5150.541284    2.965138    1.286239    1.805505   \n",
       "std    1.870440e+06   2170.141023    0.738064    0.502470    0.867492   \n",
       "min    1.750000e+06   1650.000000    1.000000    1.000000    1.000000   \n",
       "25%    3.430000e+06   3600.000000    2.000000    1.000000    1.000000   \n",
       "50%    4.340000e+06   4600.000000    3.000000    1.000000    2.000000   \n",
       "75%    5.740000e+06   6360.000000    3.000000    2.000000    2.000000   \n",
       "max    1.330000e+07  16200.000000    6.000000    4.000000    4.000000   \n",
       "\n",
       "          parking  \n",
       "count  545.000000  \n",
       "mean     0.693578  \n",
       "std      0.861586  \n",
       "min      0.000000  \n",
       "25%      0.000000  \n",
       "50%      0.000000  \n",
       "75%      1.000000  \n",
       "max      3.000000  "
      ]
     },
     "execution_count": 10,
     "metadata": {},
     "output_type": "execute_result"
    }
   ],
   "source": [
    "houses.describe()"
   ]
  },
  {
   "cell_type": "markdown",
   "id": "1eff8e48",
   "metadata": {
    "papermill": {
     "duration": 0.028429,
     "end_time": "2023-08-15T09:20:21.528405",
     "exception": false,
     "start_time": "2023-08-15T09:20:21.499976",
     "status": "completed"
    },
    "tags": []
   },
   "source": [
    "# analysis"
   ]
  },
  {
   "cell_type": "code",
   "execution_count": 11,
   "id": "b14454a2",
   "metadata": {
    "execution": {
     "iopub.execute_input": "2023-08-15T09:20:21.587786Z",
     "iopub.status.busy": "2023-08-15T09:20:21.587394Z",
     "iopub.status.idle": "2023-08-15T09:20:21.603658Z",
     "shell.execute_reply": "2023-08-15T09:20:21.602629Z"
    },
    "papermill": {
     "duration": 0.048935,
     "end_time": "2023-08-15T09:20:21.606088",
     "exception": false,
     "start_time": "2023-08-15T09:20:21.557153",
     "status": "completed"
    },
    "tags": []
   },
   "outputs": [
    {
     "data": {
      "text/html": [
       "<div>\n",
       "<style scoped>\n",
       "    .dataframe tbody tr th:only-of-type {\n",
       "        vertical-align: middle;\n",
       "    }\n",
       "\n",
       "    .dataframe tbody tr th {\n",
       "        vertical-align: top;\n",
       "    }\n",
       "\n",
       "    .dataframe thead th {\n",
       "        text-align: right;\n",
       "    }\n",
       "</style>\n",
       "<table border=\"1\" class=\"dataframe\">\n",
       "  <thead>\n",
       "    <tr style=\"text-align: right;\">\n",
       "      <th></th>\n",
       "      <th>price</th>\n",
       "      <th>area</th>\n",
       "      <th>bedrooms</th>\n",
       "      <th>bathrooms</th>\n",
       "      <th>stories</th>\n",
       "      <th>mainroad</th>\n",
       "      <th>guestroom</th>\n",
       "      <th>basement</th>\n",
       "      <th>hotwaterheating</th>\n",
       "      <th>airconditioning</th>\n",
       "      <th>parking</th>\n",
       "      <th>prefarea</th>\n",
       "      <th>furnishingstatus</th>\n",
       "    </tr>\n",
       "  </thead>\n",
       "  <tbody>\n",
       "    <tr>\n",
       "      <th>0</th>\n",
       "      <td>13300000.0</td>\n",
       "      <td>7420.0</td>\n",
       "      <td>4</td>\n",
       "      <td>2</td>\n",
       "      <td>3</td>\n",
       "      <td>yes</td>\n",
       "      <td>no</td>\n",
       "      <td>no</td>\n",
       "      <td>no</td>\n",
       "      <td>yes</td>\n",
       "      <td>2</td>\n",
       "      <td>yes</td>\n",
       "      <td>furnished</td>\n",
       "    </tr>\n",
       "    <tr>\n",
       "      <th>1</th>\n",
       "      <td>12250000.0</td>\n",
       "      <td>8960.0</td>\n",
       "      <td>4</td>\n",
       "      <td>4</td>\n",
       "      <td>4</td>\n",
       "      <td>yes</td>\n",
       "      <td>no</td>\n",
       "      <td>no</td>\n",
       "      <td>no</td>\n",
       "      <td>yes</td>\n",
       "      <td>3</td>\n",
       "      <td>no</td>\n",
       "      <td>furnished</td>\n",
       "    </tr>\n",
       "  </tbody>\n",
       "</table>\n",
       "</div>"
      ],
      "text/plain": [
       "        price    area  bedrooms  bathrooms  stories mainroad guestroom  \\\n",
       "0  13300000.0  7420.0         4          2        3      yes        no   \n",
       "1  12250000.0  8960.0         4          4        4      yes        no   \n",
       "\n",
       "  basement hotwaterheating airconditioning  parking prefarea furnishingstatus  \n",
       "0       no              no             yes        2      yes        furnished  \n",
       "1       no              no             yes        3       no        furnished  "
      ]
     },
     "execution_count": 11,
     "metadata": {},
     "output_type": "execute_result"
    }
   ],
   "source": [
    "houses.head(2)"
   ]
  },
  {
   "cell_type": "code",
   "execution_count": 12,
   "id": "24aab75f",
   "metadata": {
    "execution": {
     "iopub.execute_input": "2023-08-15T09:20:21.667394Z",
     "iopub.status.busy": "2023-08-15T09:20:21.667022Z",
     "iopub.status.idle": "2023-08-15T09:20:23.273018Z",
     "shell.execute_reply": "2023-08-15T09:20:23.272194Z"
    },
    "papermill": {
     "duration": 1.640104,
     "end_time": "2023-08-15T09:20:23.275303",
     "exception": false,
     "start_time": "2023-08-15T09:20:21.635199",
     "status": "completed"
    },
    "tags": []
   },
   "outputs": [
    {
     "data": {
      "text/html": [
       "        <script type=\"text/javascript\">\n",
       "        window.PlotlyConfig = {MathJaxConfig: 'local'};\n",
       "        if (window.MathJax && window.MathJax.Hub && window.MathJax.Hub.Config) {window.MathJax.Hub.Config({SVG: {font: \"STIX-Web\"}});}\n",
       "        if (typeof require !== 'undefined') {\n",
       "        require.undef(\"plotly\");\n",
       "        requirejs.config({\n",
       "            paths: {\n",
       "                'plotly': ['https://cdn.plot.ly/plotly-2.24.1.min']\n",
       "            }\n",
       "        });\n",
       "        require(['plotly'], function(Plotly) {\n",
       "            window._Plotly = Plotly;\n",
       "        });\n",
       "        }\n",
       "        </script>\n",
       "        "
      ]
     },
     "metadata": {},
     "output_type": "display_data"
    },
    {
     "data": {
      "text/html": [
       "<div>                            <div id=\"1ba5b692-65a5-4cfe-9995-e67d625f410d\" class=\"plotly-graph-div\" style=\"height:525px; width:100%;\"></div>            <script type=\"text/javascript\">                require([\"plotly\"], function(Plotly) {                    window.PLOTLYENV=window.PLOTLYENV || {};                                    if (document.getElementById(\"1ba5b692-65a5-4cfe-9995-e67d625f410d\")) {                    Plotly.newPlot(                        \"1ba5b692-65a5-4cfe-9995-e67d625f410d\",                        [{\"coloraxis\":\"coloraxis\",\"name\":\"0\",\"texttemplate\":\"%{z}\",\"x\":[\"price\",\"area\",\"bedrooms\",\"bathrooms\",\"stories\",\"parking\"],\"y\":[\"price\",\"area\",\"bedrooms\",\"bathrooms\",\"stories\",\"parking\"],\"z\":[[1.0,0.5359973457780797,0.36649402577386964,0.517545339455012,0.42071236618861724,0.38439364863572645],[0.5359973457780797,1.0,0.1518584855745371,0.1938195310520531,0.08399605092891993,0.35298048121168235],[0.36649402577386964,0.1518584855745371,1.0,0.37393023597215413,0.4085642375381521,0.139269896865613],[0.517545339455012,0.1938195310520531,0.37393023597215413,1.0,0.32616470613294235,0.17749582102283437],[0.42071236618861724,0.08399605092891993,0.4085642375381521,0.32616470613294235,1.0,0.045547091916846645],[0.38439364863572645,0.35298048121168235,0.139269896865613,0.17749582102283437,0.045547091916846645,1.0]],\"type\":\"heatmap\",\"xaxis\":\"x\",\"yaxis\":\"y\",\"hovertemplate\":\"x: %{x}\\u003cbr\\u003ey: %{y}\\u003cbr\\u003ecolor: %{z}\\u003cextra\\u003e\\u003c\\u002fextra\\u003e\"}],                        {\"template\":{\"data\":{\"histogram2dcontour\":[{\"type\":\"histogram2dcontour\",\"colorbar\":{\"outlinewidth\":0,\"ticks\":\"\"},\"colorscale\":[[0.0,\"#0d0887\"],[0.1111111111111111,\"#46039f\"],[0.2222222222222222,\"#7201a8\"],[0.3333333333333333,\"#9c179e\"],[0.4444444444444444,\"#bd3786\"],[0.5555555555555556,\"#d8576b\"],[0.6666666666666666,\"#ed7953\"],[0.7777777777777778,\"#fb9f3a\"],[0.8888888888888888,\"#fdca26\"],[1.0,\"#f0f921\"]]}],\"choropleth\":[{\"type\":\"choropleth\",\"colorbar\":{\"outlinewidth\":0,\"ticks\":\"\"}}],\"histogram2d\":[{\"type\":\"histogram2d\",\"colorbar\":{\"outlinewidth\":0,\"ticks\":\"\"},\"colorscale\":[[0.0,\"#0d0887\"],[0.1111111111111111,\"#46039f\"],[0.2222222222222222,\"#7201a8\"],[0.3333333333333333,\"#9c179e\"],[0.4444444444444444,\"#bd3786\"],[0.5555555555555556,\"#d8576b\"],[0.6666666666666666,\"#ed7953\"],[0.7777777777777778,\"#fb9f3a\"],[0.8888888888888888,\"#fdca26\"],[1.0,\"#f0f921\"]]}],\"heatmap\":[{\"type\":\"heatmap\",\"colorbar\":{\"outlinewidth\":0,\"ticks\":\"\"},\"colorscale\":[[0.0,\"#0d0887\"],[0.1111111111111111,\"#46039f\"],[0.2222222222222222,\"#7201a8\"],[0.3333333333333333,\"#9c179e\"],[0.4444444444444444,\"#bd3786\"],[0.5555555555555556,\"#d8576b\"],[0.6666666666666666,\"#ed7953\"],[0.7777777777777778,\"#fb9f3a\"],[0.8888888888888888,\"#fdca26\"],[1.0,\"#f0f921\"]]}],\"heatmapgl\":[{\"type\":\"heatmapgl\",\"colorbar\":{\"outlinewidth\":0,\"ticks\":\"\"},\"colorscale\":[[0.0,\"#0d0887\"],[0.1111111111111111,\"#46039f\"],[0.2222222222222222,\"#7201a8\"],[0.3333333333333333,\"#9c179e\"],[0.4444444444444444,\"#bd3786\"],[0.5555555555555556,\"#d8576b\"],[0.6666666666666666,\"#ed7953\"],[0.7777777777777778,\"#fb9f3a\"],[0.8888888888888888,\"#fdca26\"],[1.0,\"#f0f921\"]]}],\"contourcarpet\":[{\"type\":\"contourcarpet\",\"colorbar\":{\"outlinewidth\":0,\"ticks\":\"\"}}],\"contour\":[{\"type\":\"contour\",\"colorbar\":{\"outlinewidth\":0,\"ticks\":\"\"},\"colorscale\":[[0.0,\"#0d0887\"],[0.1111111111111111,\"#46039f\"],[0.2222222222222222,\"#7201a8\"],[0.3333333333333333,\"#9c179e\"],[0.4444444444444444,\"#bd3786\"],[0.5555555555555556,\"#d8576b\"],[0.6666666666666666,\"#ed7953\"],[0.7777777777777778,\"#fb9f3a\"],[0.8888888888888888,\"#fdca26\"],[1.0,\"#f0f921\"]]}],\"surface\":[{\"type\":\"surface\",\"colorbar\":{\"outlinewidth\":0,\"ticks\":\"\"},\"colorscale\":[[0.0,\"#0d0887\"],[0.1111111111111111,\"#46039f\"],[0.2222222222222222,\"#7201a8\"],[0.3333333333333333,\"#9c179e\"],[0.4444444444444444,\"#bd3786\"],[0.5555555555555556,\"#d8576b\"],[0.6666666666666666,\"#ed7953\"],[0.7777777777777778,\"#fb9f3a\"],[0.8888888888888888,\"#fdca26\"],[1.0,\"#f0f921\"]]}],\"mesh3d\":[{\"type\":\"mesh3d\",\"colorbar\":{\"outlinewidth\":0,\"ticks\":\"\"}}],\"scatter\":[{\"fillpattern\":{\"fillmode\":\"overlay\",\"size\":10,\"solidity\":0.2},\"type\":\"scatter\"}],\"parcoords\":[{\"type\":\"parcoords\",\"line\":{\"colorbar\":{\"outlinewidth\":0,\"ticks\":\"\"}}}],\"scatterpolargl\":[{\"type\":\"scatterpolargl\",\"marker\":{\"colorbar\":{\"outlinewidth\":0,\"ticks\":\"\"}}}],\"bar\":[{\"error_x\":{\"color\":\"#2a3f5f\"},\"error_y\":{\"color\":\"#2a3f5f\"},\"marker\":{\"line\":{\"color\":\"#E5ECF6\",\"width\":0.5},\"pattern\":{\"fillmode\":\"overlay\",\"size\":10,\"solidity\":0.2}},\"type\":\"bar\"}],\"scattergeo\":[{\"type\":\"scattergeo\",\"marker\":{\"colorbar\":{\"outlinewidth\":0,\"ticks\":\"\"}}}],\"scatterpolar\":[{\"type\":\"scatterpolar\",\"marker\":{\"colorbar\":{\"outlinewidth\":0,\"ticks\":\"\"}}}],\"histogram\":[{\"marker\":{\"pattern\":{\"fillmode\":\"overlay\",\"size\":10,\"solidity\":0.2}},\"type\":\"histogram\"}],\"scattergl\":[{\"type\":\"scattergl\",\"marker\":{\"colorbar\":{\"outlinewidth\":0,\"ticks\":\"\"}}}],\"scatter3d\":[{\"type\":\"scatter3d\",\"line\":{\"colorbar\":{\"outlinewidth\":0,\"ticks\":\"\"}},\"marker\":{\"colorbar\":{\"outlinewidth\":0,\"ticks\":\"\"}}}],\"scattermapbox\":[{\"type\":\"scattermapbox\",\"marker\":{\"colorbar\":{\"outlinewidth\":0,\"ticks\":\"\"}}}],\"scatterternary\":[{\"type\":\"scatterternary\",\"marker\":{\"colorbar\":{\"outlinewidth\":0,\"ticks\":\"\"}}}],\"scattercarpet\":[{\"type\":\"scattercarpet\",\"marker\":{\"colorbar\":{\"outlinewidth\":0,\"ticks\":\"\"}}}],\"carpet\":[{\"aaxis\":{\"endlinecolor\":\"#2a3f5f\",\"gridcolor\":\"white\",\"linecolor\":\"white\",\"minorgridcolor\":\"white\",\"startlinecolor\":\"#2a3f5f\"},\"baxis\":{\"endlinecolor\":\"#2a3f5f\",\"gridcolor\":\"white\",\"linecolor\":\"white\",\"minorgridcolor\":\"white\",\"startlinecolor\":\"#2a3f5f\"},\"type\":\"carpet\"}],\"table\":[{\"cells\":{\"fill\":{\"color\":\"#EBF0F8\"},\"line\":{\"color\":\"white\"}},\"header\":{\"fill\":{\"color\":\"#C8D4E3\"},\"line\":{\"color\":\"white\"}},\"type\":\"table\"}],\"barpolar\":[{\"marker\":{\"line\":{\"color\":\"#E5ECF6\",\"width\":0.5},\"pattern\":{\"fillmode\":\"overlay\",\"size\":10,\"solidity\":0.2}},\"type\":\"barpolar\"}],\"pie\":[{\"automargin\":true,\"type\":\"pie\"}]},\"layout\":{\"autotypenumbers\":\"strict\",\"colorway\":[\"#636efa\",\"#EF553B\",\"#00cc96\",\"#ab63fa\",\"#FFA15A\",\"#19d3f3\",\"#FF6692\",\"#B6E880\",\"#FF97FF\",\"#FECB52\"],\"font\":{\"color\":\"#2a3f5f\"},\"hovermode\":\"closest\",\"hoverlabel\":{\"align\":\"left\"},\"paper_bgcolor\":\"white\",\"plot_bgcolor\":\"#E5ECF6\",\"polar\":{\"bgcolor\":\"#E5ECF6\",\"angularaxis\":{\"gridcolor\":\"white\",\"linecolor\":\"white\",\"ticks\":\"\"},\"radialaxis\":{\"gridcolor\":\"white\",\"linecolor\":\"white\",\"ticks\":\"\"}},\"ternary\":{\"bgcolor\":\"#E5ECF6\",\"aaxis\":{\"gridcolor\":\"white\",\"linecolor\":\"white\",\"ticks\":\"\"},\"baxis\":{\"gridcolor\":\"white\",\"linecolor\":\"white\",\"ticks\":\"\"},\"caxis\":{\"gridcolor\":\"white\",\"linecolor\":\"white\",\"ticks\":\"\"}},\"coloraxis\":{\"colorbar\":{\"outlinewidth\":0,\"ticks\":\"\"}},\"colorscale\":{\"sequential\":[[0.0,\"#0d0887\"],[0.1111111111111111,\"#46039f\"],[0.2222222222222222,\"#7201a8\"],[0.3333333333333333,\"#9c179e\"],[0.4444444444444444,\"#bd3786\"],[0.5555555555555556,\"#d8576b\"],[0.6666666666666666,\"#ed7953\"],[0.7777777777777778,\"#fb9f3a\"],[0.8888888888888888,\"#fdca26\"],[1.0,\"#f0f921\"]],\"sequentialminus\":[[0.0,\"#0d0887\"],[0.1111111111111111,\"#46039f\"],[0.2222222222222222,\"#7201a8\"],[0.3333333333333333,\"#9c179e\"],[0.4444444444444444,\"#bd3786\"],[0.5555555555555556,\"#d8576b\"],[0.6666666666666666,\"#ed7953\"],[0.7777777777777778,\"#fb9f3a\"],[0.8888888888888888,\"#fdca26\"],[1.0,\"#f0f921\"]],\"diverging\":[[0,\"#8e0152\"],[0.1,\"#c51b7d\"],[0.2,\"#de77ae\"],[0.3,\"#f1b6da\"],[0.4,\"#fde0ef\"],[0.5,\"#f7f7f7\"],[0.6,\"#e6f5d0\"],[0.7,\"#b8e186\"],[0.8,\"#7fbc41\"],[0.9,\"#4d9221\"],[1,\"#276419\"]]},\"xaxis\":{\"gridcolor\":\"white\",\"linecolor\":\"white\",\"ticks\":\"\",\"title\":{\"standoff\":15},\"zerolinecolor\":\"white\",\"automargin\":true,\"zerolinewidth\":2},\"yaxis\":{\"gridcolor\":\"white\",\"linecolor\":\"white\",\"ticks\":\"\",\"title\":{\"standoff\":15},\"zerolinecolor\":\"white\",\"automargin\":true,\"zerolinewidth\":2},\"scene\":{\"xaxis\":{\"backgroundcolor\":\"#E5ECF6\",\"gridcolor\":\"white\",\"linecolor\":\"white\",\"showbackground\":true,\"ticks\":\"\",\"zerolinecolor\":\"white\",\"gridwidth\":2},\"yaxis\":{\"backgroundcolor\":\"#E5ECF6\",\"gridcolor\":\"white\",\"linecolor\":\"white\",\"showbackground\":true,\"ticks\":\"\",\"zerolinecolor\":\"white\",\"gridwidth\":2},\"zaxis\":{\"backgroundcolor\":\"#E5ECF6\",\"gridcolor\":\"white\",\"linecolor\":\"white\",\"showbackground\":true,\"ticks\":\"\",\"zerolinecolor\":\"white\",\"gridwidth\":2}},\"shapedefaults\":{\"line\":{\"color\":\"#2a3f5f\"}},\"annotationdefaults\":{\"arrowcolor\":\"#2a3f5f\",\"arrowhead\":0,\"arrowwidth\":1},\"geo\":{\"bgcolor\":\"white\",\"landcolor\":\"#E5ECF6\",\"subunitcolor\":\"white\",\"showland\":true,\"showlakes\":true,\"lakecolor\":\"white\"},\"title\":{\"x\":0.05},\"mapbox\":{\"style\":\"light\"}}},\"xaxis\":{\"anchor\":\"y\",\"domain\":[0.0,1.0]},\"yaxis\":{\"anchor\":\"x\",\"domain\":[0.0,1.0],\"autorange\":\"reversed\"},\"coloraxis\":{\"colorscale\":[[0.0,\"rgb(247,251,255)\"],[0.125,\"rgb(222,235,247)\"],[0.25,\"rgb(198,219,239)\"],[0.375,\"rgb(158,202,225)\"],[0.5,\"rgb(107,174,214)\"],[0.625,\"rgb(66,146,198)\"],[0.75,\"rgb(33,113,181)\"],[0.875,\"rgb(8,81,156)\"],[1.0,\"rgb(8,48,107)\"]]},\"margin\":{\"t\":60}},                        {\"responsive\": true}                    ).then(function(){\n",
       "                            \n",
       "var gd = document.getElementById('1ba5b692-65a5-4cfe-9995-e67d625f410d');\n",
       "var x = new MutationObserver(function (mutations, observer) {{\n",
       "        var display = window.getComputedStyle(gd).display;\n",
       "        if (!display || display === 'none') {{\n",
       "            console.log([gd, 'removed!']);\n",
       "            Plotly.purge(gd);\n",
       "            observer.disconnect();\n",
       "        }}\n",
       "}});\n",
       "\n",
       "// Listen for the removal of the full notebook cells\n",
       "var notebookContainer = gd.closest('#notebook-container');\n",
       "if (notebookContainer) {{\n",
       "    x.observe(notebookContainer, {childList: true});\n",
       "}}\n",
       "\n",
       "// Listen for the clearing of the current output cell\n",
       "var outputEl = gd.closest('.output');\n",
       "if (outputEl) {{\n",
       "    x.observe(outputEl, {childList: true});\n",
       "}}\n",
       "\n",
       "                        })                };                });            </script>        </div>"
      ]
     },
     "metadata": {},
     "output_type": "display_data"
    }
   ],
   "source": [
    "px.imshow(houses.corr(numeric_only=True),aspect=True,text_auto=True,color_continuous_scale='Blues')"
   ]
  },
  {
   "cell_type": "markdown",
   "id": "c9b58beb",
   "metadata": {
    "papermill": {
     "duration": 0.029577,
     "end_time": "2023-08-15T09:20:23.334522",
     "exception": false,
     "start_time": "2023-08-15T09:20:23.304945",
     "status": "completed"
    },
    "tags": []
   },
   "source": [
    "# relation between area and price"
   ]
  },
  {
   "cell_type": "code",
   "execution_count": 13,
   "id": "1b2239c9",
   "metadata": {
    "execution": {
     "iopub.execute_input": "2023-08-15T09:20:23.396392Z",
     "iopub.status.busy": "2023-08-15T09:20:23.395716Z",
     "iopub.status.idle": "2023-08-15T09:20:23.555334Z",
     "shell.execute_reply": "2023-08-15T09:20:23.554213Z"
    },
    "papermill": {
     "duration": 0.193375,
     "end_time": "2023-08-15T09:20:23.557937",
     "exception": false,
     "start_time": "2023-08-15T09:20:23.364562",
     "status": "completed"
    },
    "tags": []
   },
   "outputs": [
    {
     "data": {
      "text/html": [
       "<div>                            <div id=\"50cafdd2-d11b-43e9-9be2-9798188bb622\" class=\"plotly-graph-div\" style=\"height:400px; width:100%;\"></div>            <script type=\"text/javascript\">                require([\"plotly\"], function(Plotly) {                    window.PLOTLYENV=window.PLOTLYENV || {};                                    if (document.getElementById(\"50cafdd2-d11b-43e9-9be2-9798188bb622\")) {                    Plotly.newPlot(                        \"50cafdd2-d11b-43e9-9be2-9798188bb622\",                        [{\"alignmentgroup\":\"True\",\"bingroup\":\"x\",\"histfunc\":\"sum\",\"hovertemplate\":\"area=%{x}\\u003cbr\\u003esum of price=%{y}\\u003cextra\\u003e\\u003c\\u002fextra\\u003e\",\"legendgroup\":\"\",\"marker\":{\"color\":\"#636efa\",\"pattern\":{\"shape\":\"\"}},\"name\":\"\",\"offsetgroup\":\"\",\"orientation\":\"v\",\"showlegend\":false,\"x\":[7420.0,8960.0,9960.0,7500.0,7420.0,7500.0,8580.0,16200.0,8100.0,5750.0,13200.0,6000.0,6550.0,3500.0,7800.0,6000.0,6600.0,8500.0,4600.0,6420.0,4320.0,7155.0,8050.0,4560.0,8800.0,6540.0,6000.0,8875.0,7950.0,5500.0,7475.0,7000.0,4880.0,5960.0,6840.0,7000.0,7482.0,9000.0,6000.0,6000.0,6550.0,6360.0,6480.0,6000.0,6000.0,6000.0,6000.0,6600.0,4300.0,7440.0,7440.0,6325.0,6000.0,5150.0,6000.0,6000.0,11440.0,9000.0,7680.0,6000.0,6000.0,8880.0,6240.0,6360.0,11175.0,8880.0,13200.0,7700.0,6000.0,12090.0,4000.0,6000.0,5020.0,6600.0,4040.0,4260.0,6420.0,6500.0,5700.0,6000.0,6000.0,4000.0,10500.0,6000.0,3760.0,8250.0,6670.0,3960.0,7410.0,8580.0,5000.0,6750.0,4800.0,7200.0,6000.0,4100.0,9000.0,6400.0,6600.0,6000.0,6600.0,5500.0,5500.0,6350.0,5500.0,4500.0,5450.0,6420.0,3240.0,6615.0,6600.0,8372.0,4300.0,9620.0,6800.0,8000.0,6900.0,3700.0,6420.0,7020.0,6540.0,7231.0,6254.0,7320.0,6525.0,15600.0,7160.0,6500.0,5500.0,11460.0,4800.0,5828.0,5200.0,4800.0,7000.0,6000.0,5400.0,4640.0,5000.0,6360.0,5800.0,6660.0,10500.0,4800.0,4700.0,5000.0,10500.0,5500.0,6360.0,6600.0,5136.0,4400.0,5400.0,3300.0,3650.0,6100.0,6900.0,2817.0,7980.0,3150.0,6210.0,6100.0,6600.0,6825.0,6710.0,6450.0,7800.0,4600.0,4260.0,6540.0,5500.0,10269.0,8400.0,5300.0,3800.0,9800.0,8520.0,6050.0,7085.0,3180.0,4500.0,7200.0,3410.0,7980.0,3000.0,3000.0,11410.0,6100.0,5720.0,3540.0,7600.0,10700.0,6600.0,4800.0,8150.0,4410.0,7686.0,2800.0,5948.0,4200.0,4520.0,4095.0,4120.0,5400.0,4770.0,6300.0,5800.0,3000.0,2970.0,6720.0,4646.0,12900.0,3420.0,4995.0,4350.0,4160.0,6040.0,6862.0,4815.0,7000.0,8100.0,3420.0,9166.0,6321.0,10240.0,6440.0,5170.0,6000.0,3630.0,9667.0,5400.0,4320.0,3745.0,4160.0,3880.0,5680.0,2870.0,5010.0,4510.0,4000.0,3840.0,3760.0,3640.0,2550.0,5320.0,5360.0,3520.0,8400.0,4100.0,4990.0,3510.0,3450.0,9860.0,3520.0,4510.0,5885.0,4000.0,8250.0,4040.0,6360.0,3162.0,3510.0,3750.0,3968.0,4900.0,2880.0,4880.0,4920.0,4950.0,3900.0,4500.0,1905.0,4075.0,3500.0,6450.0,4032.0,4400.0,10360.0,3400.0,6360.0,6360.0,4500.0,2175.0,4360.0,7770.0,6650.0,2787.0,5500.0,5040.0,5850.0,2610.0,2953.0,2747.0,4410.0,4000.0,2325.0,4600.0,3640.0,5800.0,7000.0,4079.0,3520.0,2145.0,4500.0,8250.0,3450.0,4840.0,4080.0,4046.0,4632.0,5985.0,6060.0,3600.0,3680.0,4040.0,5600.0,5900.0,4992.0,4340.0,3000.0,4320.0,3630.0,3460.0,5400.0,4500.0,3460.0,4100.0,6480.0,4500.0,3960.0,4050.0,7260.0,5500.0,3000.0,3290.0,3816.0,8080.0,2145.0,3780.0,3180.0,5300.0,3180.0,7152.0,4080.0,3850.0,2015.0,2176.0,3350.0,3150.0,4820.0,3420.0,3600.0,5830.0,2856.0,8400.0,8250.0,2520.0,6930.0,3480.0,3600.0,4040.0,6020.0,4050.0,3584.0,3120.0,5450.0,3630.0,3630.0,5640.0,3600.0,4280.0,3570.0,3180.0,3000.0,3520.0,5960.0,4130.0,2850.0,2275.0,3520.0,4500.0,4000.0,3150.0,4500.0,4500.0,3640.0,3850.0,4240.0,3650.0,4600.0,2135.0,3036.0,3990.0,7424.0,3480.0,3600.0,3640.0,5900.0,3120.0,7350.0,3512.0,9500.0,5880.0,12944.0,4900.0,3060.0,5320.0,2145.0,4000.0,3185.0,3850.0,2145.0,2610.0,1950.0,4040.0,4785.0,3450.0,3640.0,3500.0,4960.0,4120.0,4750.0,3720.0,3750.0,3100.0,3185.0,2700.0,2145.0,4040.0,4775.0,2500.0,3180.0,6060.0,3480.0,3792.0,4040.0,2145.0,5880.0,4500.0,3930.0,3640.0,4370.0,2684.0,4320.0,3120.0,3450.0,3986.0,3500.0,4095.0,1650.0,3450.0,6750.0,9000.0,3069.0,4500.0,5495.0,2398.0,3000.0,3850.0,3500.0,8100.0,4960.0,2160.0,3090.0,4500.0,3800.0,3090.0,3240.0,2835.0,4600.0,5076.0,3750.0,3630.0,8050.0,4352.0,3000.0,5850.0,4960.0,3600.0,3660.0,3480.0,2700.0,3150.0,6615.0,3040.0,3630.0,6000.0,5400.0,5200.0,3300.0,4350.0,2640.0,2650.0,3960.0,6800.0,4000.0,4000.0,3934.0,2000.0,3630.0,2800.0,2430.0,3480.0,4000.0,3185.0,4000.0,2910.0,3600.0,4400.0,3600.0,2880.0,3180.0,3000.0,4400.0,3000.0,3210.0,3240.0,3000.0,3500.0,4840.0,7700.0,3635.0,2475.0,2787.0,3264.0,3640.0,3180.0,1836.0,3970.0,3970.0,1950.0,5300.0,3000.0,2400.0,3000.0,3360.0,3420.0,1700.0,3649.0,2990.0,3000.0,2400.0,3620.0,2910.0,3850.0],\"xaxis\":\"x\",\"y\":[13300000.0,12250000.0,12250000.0,12215000.0,11410000.0,10850000.0,10150000.0,10150000.0,9870000.0,9800000.0,9800000.0,9681000.0,9310000.0,9240000.0,9240000.0,9100000.0,9100000.0,8960000.0,8890000.0,8855000.0,8750000.0,8680000.0,8645000.0,8645000.0,8575000.0,8540000.0,8463000.0,8400000.0,8400000.0,8400000.0,8400000.0,8400000.0,8295000.0,8190000.0,8120000.0,8080940.0,8043000.0,7980000.0,7962500.0,7910000.0,7875000.0,7840000.0,7700000.0,7700000.0,7560000.0,7560000.0,7525000.0,7490000.0,7455000.0,7420000.0,7420000.0,7420000.0,7350000.0,7350000.0,7350000.0,7350000.0,7343000.0,7245000.0,7210000.0,7210000.0,7140000.0,7070000.0,7070000.0,7035000.0,7000000.0,6930000.0,6930000.0,6895000.0,6860000.0,6790000.0,6790000.0,6755000.0,6720000.0,6685000.0,6650000.0,6650000.0,6650000.0,6650000.0,6650000.0,6650000.0,6629000.0,6615000.0,6615000.0,6580000.0,6510000.0,6510000.0,6510000.0,6475000.0,6475000.0,6440000.0,6440000.0,6419000.0,6405000.0,6300000.0,6300000.0,6300000.0,6300000.0,6300000.0,6293000.0,6265000.0,6230000.0,6230000.0,6195000.0,6195000.0,6195000.0,6160000.0,6160000.0,6125000.0,6107500.0,6090000.0,6090000.0,6090000.0,6083000.0,6083000.0,6020000.0,6020000.0,6020000.0,5950000.0,5950000.0,5950000.0,5950000.0,5950000.0,5950000.0,5950000.0,5950000.0,5943000.0,5880000.0,5880000.0,5873000.0,5873000.0,5866000.0,5810000.0,5810000.0,5810000.0,5803000.0,5775000.0,5740000.0,5740000.0,5740000.0,5740000.0,5740000.0,5652500.0,5600000.0,5600000.0,5600000.0,5600000.0,5600000.0,5600000.0,5600000.0,5600000.0,5600000.0,5565000.0,5565000.0,5530000.0,5530000.0,5530000.0,5523000.0,5495000.0,5495000.0,5460000.0,5460000.0,5460000.0,5460000.0,5425000.0,5390000.0,5383000.0,5320000.0,5285000.0,5250000.0,5250000.0,5250000.0,5250000.0,5250000.0,5250000.0,5250000.0,5250000.0,5250000.0,5243000.0,5229000.0,5215000.0,5215000.0,5215000.0,5145000.0,5145000.0,5110000.0,5110000.0,5110000.0,5110000.0,5075000.0,5040000.0,5040000.0,5040000.0,5040000.0,5033000.0,5005000.0,4970000.0,4970000.0,4956000.0,4935000.0,4907000.0,4900000.0,4900000.0,4900000.0,4900000.0,4900000.0,4900000.0,4900000.0,4900000.0,4900000.0,4900000.0,4900000.0,4900000.0,4893000.0,4893000.0,4865000.0,4830000.0,4830000.0,4830000.0,4830000.0,4795000.0,4795000.0,4767000.0,4760000.0,4760000.0,4760000.0,4753000.0,4690000.0,4690000.0,4690000.0,4690000.0,4690000.0,4690000.0,4655000.0,4620000.0,4620000.0,4620000.0,4620000.0,4620000.0,4613000.0,4585000.0,4585000.0,4550000.0,4550000.0,4550000.0,4550000.0,4550000.0,4550000.0,4550000.0,4543000.0,4543000.0,4515000.0,4515000.0,4515000.0,4515000.0,4480000.0,4480000.0,4480000.0,4480000.0,4480000.0,4473000.0,4473000.0,4473000.0,4445000.0,4410000.0,4410000.0,4403000.0,4403000.0,4403000.0,4382000.0,4375000.0,4340000.0,4340000.0,4340000.0,4340000.0,4340000.0,4319000.0,4305000.0,4305000.0,4277000.0,4270000.0,4270000.0,4270000.0,4270000.0,4270000.0,4270000.0,4235000.0,4235000.0,4200000.0,4200000.0,4200000.0,4200000.0,4200000.0,4200000.0,4200000.0,4200000.0,4200000.0,4200000.0,4200000.0,4200000.0,4200000.0,4200000.0,4200000.0,4200000.0,4200000.0,4193000.0,4193000.0,4165000.0,4165000.0,4165000.0,4130000.0,4130000.0,4123000.0,4098500.0,4095000.0,4095000.0,4095000.0,4060000.0,4060000.0,4060000.0,4060000.0,4060000.0,4025000.0,4025000.0,4025000.0,4007500.0,4007500.0,3990000.0,3990000.0,3990000.0,3990000.0,3990000.0,3920000.0,3920000.0,3920000.0,3920000.0,3920000.0,3920000.0,3920000.0,3885000.0,3885000.0,3850000.0,3850000.0,3850000.0,3850000.0,3850000.0,3850000.0,3850000.0,3836000.0,3815000.0,3780000.0,3780000.0,3780000.0,3780000.0,3780000.0,3780000.0,3773000.0,3773000.0,3773000.0,3745000.0,3710000.0,3710000.0,3710000.0,3710000.0,3710000.0,3703000.0,3703000.0,3675000.0,3675000.0,3675000.0,3675000.0,3640000.0,3640000.0,3640000.0,3640000.0,3640000.0,3640000.0,3640000.0,3640000.0,3640000.0,3633000.0,3605000.0,3605000.0,3570000.0,3570000.0,3570000.0,3570000.0,3535000.0,3500000.0,3500000.0,3500000.0,3500000.0,3500000.0,3500000.0,3500000.0,3500000.0,3500000.0,3500000.0,3500000.0,3500000.0,3500000.0,3500000.0,3500000.0,3500000.0,3500000.0,3493000.0,3465000.0,3465000.0,3465000.0,3430000.0,3430000.0,3430000.0,3430000.0,3430000.0,3430000.0,3423000.0,3395000.0,3395000.0,3395000.0,3360000.0,3360000.0,3360000.0,3360000.0,3360000.0,3360000.0,3360000.0,3360000.0,3353000.0,3332000.0,3325000.0,3325000.0,3290000.0,3290000.0,3290000.0,3290000.0,3290000.0,3290000.0,3290000.0,3290000.0,3255000.0,3255000.0,3234000.0,3220000.0,3220000.0,3220000.0,3220000.0,3150000.0,3150000.0,3150000.0,3150000.0,3150000.0,3150000.0,3150000.0,3150000.0,3150000.0,3143000.0,3129000.0,3118850.0,3115000.0,3115000.0,3115000.0,3087000.0,3080000.0,3080000.0,3080000.0,3080000.0,3045000.0,3010000.0,3010000.0,3010000.0,3010000.0,3010000.0,3010000.0,3010000.0,3003000.0,2975000.0,2961000.0,2940000.0,2940000.0,2940000.0,2940000.0,2940000.0,2940000.0,2940000.0,2940000.0,2870000.0,2870000.0,2870000.0,2870000.0,2852500.0,2835000.0,2835000.0,2835000.0,2800000.0,2800000.0,2730000.0,2730000.0,2695000.0,2660000.0,2660000.0,2660000.0,2660000.0,2660000.0,2660000.0,2660000.0,2653000.0,2653000.0,2604000.0,2590000.0,2590000.0,2590000.0,2520000.0,2520000.0,2520000.0,2485000.0,2485000.0,2450000.0,2450000.0,2450000.0,2450000.0,2450000.0,2450000.0,2408000.0,2380000.0,2380000.0,2380000.0,2345000.0,2310000.0,2275000.0,2275000.0,2275000.0,2240000.0,2233000.0,2135000.0,2100000.0,2100000.0,2100000.0,1960000.0,1890000.0,1890000.0,1855000.0,1820000.0,1767150.0,1750000.0,1750000.0,1750000.0],\"yaxis\":\"y\",\"type\":\"histogram\"}],                        {\"template\":{\"data\":{\"histogram2dcontour\":[{\"type\":\"histogram2dcontour\",\"colorbar\":{\"outlinewidth\":0,\"ticks\":\"\"},\"colorscale\":[[0.0,\"#0d0887\"],[0.1111111111111111,\"#46039f\"],[0.2222222222222222,\"#7201a8\"],[0.3333333333333333,\"#9c179e\"],[0.4444444444444444,\"#bd3786\"],[0.5555555555555556,\"#d8576b\"],[0.6666666666666666,\"#ed7953\"],[0.7777777777777778,\"#fb9f3a\"],[0.8888888888888888,\"#fdca26\"],[1.0,\"#f0f921\"]]}],\"choropleth\":[{\"type\":\"choropleth\",\"colorbar\":{\"outlinewidth\":0,\"ticks\":\"\"}}],\"histogram2d\":[{\"type\":\"histogram2d\",\"colorbar\":{\"outlinewidth\":0,\"ticks\":\"\"},\"colorscale\":[[0.0,\"#0d0887\"],[0.1111111111111111,\"#46039f\"],[0.2222222222222222,\"#7201a8\"],[0.3333333333333333,\"#9c179e\"],[0.4444444444444444,\"#bd3786\"],[0.5555555555555556,\"#d8576b\"],[0.6666666666666666,\"#ed7953\"],[0.7777777777777778,\"#fb9f3a\"],[0.8888888888888888,\"#fdca26\"],[1.0,\"#f0f921\"]]}],\"heatmap\":[{\"type\":\"heatmap\",\"colorbar\":{\"outlinewidth\":0,\"ticks\":\"\"},\"colorscale\":[[0.0,\"#0d0887\"],[0.1111111111111111,\"#46039f\"],[0.2222222222222222,\"#7201a8\"],[0.3333333333333333,\"#9c179e\"],[0.4444444444444444,\"#bd3786\"],[0.5555555555555556,\"#d8576b\"],[0.6666666666666666,\"#ed7953\"],[0.7777777777777778,\"#fb9f3a\"],[0.8888888888888888,\"#fdca26\"],[1.0,\"#f0f921\"]]}],\"heatmapgl\":[{\"type\":\"heatmapgl\",\"colorbar\":{\"outlinewidth\":0,\"ticks\":\"\"},\"colorscale\":[[0.0,\"#0d0887\"],[0.1111111111111111,\"#46039f\"],[0.2222222222222222,\"#7201a8\"],[0.3333333333333333,\"#9c179e\"],[0.4444444444444444,\"#bd3786\"],[0.5555555555555556,\"#d8576b\"],[0.6666666666666666,\"#ed7953\"],[0.7777777777777778,\"#fb9f3a\"],[0.8888888888888888,\"#fdca26\"],[1.0,\"#f0f921\"]]}],\"contourcarpet\":[{\"type\":\"contourcarpet\",\"colorbar\":{\"outlinewidth\":0,\"ticks\":\"\"}}],\"contour\":[{\"type\":\"contour\",\"colorbar\":{\"outlinewidth\":0,\"ticks\":\"\"},\"colorscale\":[[0.0,\"#0d0887\"],[0.1111111111111111,\"#46039f\"],[0.2222222222222222,\"#7201a8\"],[0.3333333333333333,\"#9c179e\"],[0.4444444444444444,\"#bd3786\"],[0.5555555555555556,\"#d8576b\"],[0.6666666666666666,\"#ed7953\"],[0.7777777777777778,\"#fb9f3a\"],[0.8888888888888888,\"#fdca26\"],[1.0,\"#f0f921\"]]}],\"surface\":[{\"type\":\"surface\",\"colorbar\":{\"outlinewidth\":0,\"ticks\":\"\"},\"colorscale\":[[0.0,\"#0d0887\"],[0.1111111111111111,\"#46039f\"],[0.2222222222222222,\"#7201a8\"],[0.3333333333333333,\"#9c179e\"],[0.4444444444444444,\"#bd3786\"],[0.5555555555555556,\"#d8576b\"],[0.6666666666666666,\"#ed7953\"],[0.7777777777777778,\"#fb9f3a\"],[0.8888888888888888,\"#fdca26\"],[1.0,\"#f0f921\"]]}],\"mesh3d\":[{\"type\":\"mesh3d\",\"colorbar\":{\"outlinewidth\":0,\"ticks\":\"\"}}],\"scatter\":[{\"fillpattern\":{\"fillmode\":\"overlay\",\"size\":10,\"solidity\":0.2},\"type\":\"scatter\"}],\"parcoords\":[{\"type\":\"parcoords\",\"line\":{\"colorbar\":{\"outlinewidth\":0,\"ticks\":\"\"}}}],\"scatterpolargl\":[{\"type\":\"scatterpolargl\",\"marker\":{\"colorbar\":{\"outlinewidth\":0,\"ticks\":\"\"}}}],\"bar\":[{\"error_x\":{\"color\":\"#2a3f5f\"},\"error_y\":{\"color\":\"#2a3f5f\"},\"marker\":{\"line\":{\"color\":\"#E5ECF6\",\"width\":0.5},\"pattern\":{\"fillmode\":\"overlay\",\"size\":10,\"solidity\":0.2}},\"type\":\"bar\"}],\"scattergeo\":[{\"type\":\"scattergeo\",\"marker\":{\"colorbar\":{\"outlinewidth\":0,\"ticks\":\"\"}}}],\"scatterpolar\":[{\"type\":\"scatterpolar\",\"marker\":{\"colorbar\":{\"outlinewidth\":0,\"ticks\":\"\"}}}],\"histogram\":[{\"marker\":{\"pattern\":{\"fillmode\":\"overlay\",\"size\":10,\"solidity\":0.2}},\"type\":\"histogram\"}],\"scattergl\":[{\"type\":\"scattergl\",\"marker\":{\"colorbar\":{\"outlinewidth\":0,\"ticks\":\"\"}}}],\"scatter3d\":[{\"type\":\"scatter3d\",\"line\":{\"colorbar\":{\"outlinewidth\":0,\"ticks\":\"\"}},\"marker\":{\"colorbar\":{\"outlinewidth\":0,\"ticks\":\"\"}}}],\"scattermapbox\":[{\"type\":\"scattermapbox\",\"marker\":{\"colorbar\":{\"outlinewidth\":0,\"ticks\":\"\"}}}],\"scatterternary\":[{\"type\":\"scatterternary\",\"marker\":{\"colorbar\":{\"outlinewidth\":0,\"ticks\":\"\"}}}],\"scattercarpet\":[{\"type\":\"scattercarpet\",\"marker\":{\"colorbar\":{\"outlinewidth\":0,\"ticks\":\"\"}}}],\"carpet\":[{\"aaxis\":{\"endlinecolor\":\"#2a3f5f\",\"gridcolor\":\"white\",\"linecolor\":\"white\",\"minorgridcolor\":\"white\",\"startlinecolor\":\"#2a3f5f\"},\"baxis\":{\"endlinecolor\":\"#2a3f5f\",\"gridcolor\":\"white\",\"linecolor\":\"white\",\"minorgridcolor\":\"white\",\"startlinecolor\":\"#2a3f5f\"},\"type\":\"carpet\"}],\"table\":[{\"cells\":{\"fill\":{\"color\":\"#EBF0F8\"},\"line\":{\"color\":\"white\"}},\"header\":{\"fill\":{\"color\":\"#C8D4E3\"},\"line\":{\"color\":\"white\"}},\"type\":\"table\"}],\"barpolar\":[{\"marker\":{\"line\":{\"color\":\"#E5ECF6\",\"width\":0.5},\"pattern\":{\"fillmode\":\"overlay\",\"size\":10,\"solidity\":0.2}},\"type\":\"barpolar\"}],\"pie\":[{\"automargin\":true,\"type\":\"pie\"}]},\"layout\":{\"autotypenumbers\":\"strict\",\"colorway\":[\"#636efa\",\"#EF553B\",\"#00cc96\",\"#ab63fa\",\"#FFA15A\",\"#19d3f3\",\"#FF6692\",\"#B6E880\",\"#FF97FF\",\"#FECB52\"],\"font\":{\"color\":\"#2a3f5f\"},\"hovermode\":\"closest\",\"hoverlabel\":{\"align\":\"left\"},\"paper_bgcolor\":\"white\",\"plot_bgcolor\":\"#E5ECF6\",\"polar\":{\"bgcolor\":\"#E5ECF6\",\"angularaxis\":{\"gridcolor\":\"white\",\"linecolor\":\"white\",\"ticks\":\"\"},\"radialaxis\":{\"gridcolor\":\"white\",\"linecolor\":\"white\",\"ticks\":\"\"}},\"ternary\":{\"bgcolor\":\"#E5ECF6\",\"aaxis\":{\"gridcolor\":\"white\",\"linecolor\":\"white\",\"ticks\":\"\"},\"baxis\":{\"gridcolor\":\"white\",\"linecolor\":\"white\",\"ticks\":\"\"},\"caxis\":{\"gridcolor\":\"white\",\"linecolor\":\"white\",\"ticks\":\"\"}},\"coloraxis\":{\"colorbar\":{\"outlinewidth\":0,\"ticks\":\"\"}},\"colorscale\":{\"sequential\":[[0.0,\"#0d0887\"],[0.1111111111111111,\"#46039f\"],[0.2222222222222222,\"#7201a8\"],[0.3333333333333333,\"#9c179e\"],[0.4444444444444444,\"#bd3786\"],[0.5555555555555556,\"#d8576b\"],[0.6666666666666666,\"#ed7953\"],[0.7777777777777778,\"#fb9f3a\"],[0.8888888888888888,\"#fdca26\"],[1.0,\"#f0f921\"]],\"sequentialminus\":[[0.0,\"#0d0887\"],[0.1111111111111111,\"#46039f\"],[0.2222222222222222,\"#7201a8\"],[0.3333333333333333,\"#9c179e\"],[0.4444444444444444,\"#bd3786\"],[0.5555555555555556,\"#d8576b\"],[0.6666666666666666,\"#ed7953\"],[0.7777777777777778,\"#fb9f3a\"],[0.8888888888888888,\"#fdca26\"],[1.0,\"#f0f921\"]],\"diverging\":[[0,\"#8e0152\"],[0.1,\"#c51b7d\"],[0.2,\"#de77ae\"],[0.3,\"#f1b6da\"],[0.4,\"#fde0ef\"],[0.5,\"#f7f7f7\"],[0.6,\"#e6f5d0\"],[0.7,\"#b8e186\"],[0.8,\"#7fbc41\"],[0.9,\"#4d9221\"],[1,\"#276419\"]]},\"xaxis\":{\"gridcolor\":\"white\",\"linecolor\":\"white\",\"ticks\":\"\",\"title\":{\"standoff\":15},\"zerolinecolor\":\"white\",\"automargin\":true,\"zerolinewidth\":2},\"yaxis\":{\"gridcolor\":\"white\",\"linecolor\":\"white\",\"ticks\":\"\",\"title\":{\"standoff\":15},\"zerolinecolor\":\"white\",\"automargin\":true,\"zerolinewidth\":2},\"scene\":{\"xaxis\":{\"backgroundcolor\":\"#E5ECF6\",\"gridcolor\":\"white\",\"linecolor\":\"white\",\"showbackground\":true,\"ticks\":\"\",\"zerolinecolor\":\"white\",\"gridwidth\":2},\"yaxis\":{\"backgroundcolor\":\"#E5ECF6\",\"gridcolor\":\"white\",\"linecolor\":\"white\",\"showbackground\":true,\"ticks\":\"\",\"zerolinecolor\":\"white\",\"gridwidth\":2},\"zaxis\":{\"backgroundcolor\":\"#E5ECF6\",\"gridcolor\":\"white\",\"linecolor\":\"white\",\"showbackground\":true,\"ticks\":\"\",\"zerolinecolor\":\"white\",\"gridwidth\":2}},\"shapedefaults\":{\"line\":{\"color\":\"#2a3f5f\"}},\"annotationdefaults\":{\"arrowcolor\":\"#2a3f5f\",\"arrowhead\":0,\"arrowwidth\":1},\"geo\":{\"bgcolor\":\"white\",\"landcolor\":\"#E5ECF6\",\"subunitcolor\":\"white\",\"showland\":true,\"showlakes\":true,\"lakecolor\":\"white\"},\"title\":{\"x\":0.05},\"mapbox\":{\"style\":\"light\"}}},\"xaxis\":{\"anchor\":\"y\",\"domain\":[0.0,1.0],\"title\":{\"text\":\"area\"}},\"yaxis\":{\"anchor\":\"x\",\"domain\":[0.0,1.0],\"title\":{\"text\":\"sum of price\"}},\"legend\":{\"tracegroupgap\":0},\"margin\":{\"t\":60},\"barmode\":\"relative\",\"height\":400},                        {\"responsive\": true}                    ).then(function(){\n",
       "                            \n",
       "var gd = document.getElementById('50cafdd2-d11b-43e9-9be2-9798188bb622');\n",
       "var x = new MutationObserver(function (mutations, observer) {{\n",
       "        var display = window.getComputedStyle(gd).display;\n",
       "        if (!display || display === 'none') {{\n",
       "            console.log([gd, 'removed!']);\n",
       "            Plotly.purge(gd);\n",
       "            observer.disconnect();\n",
       "        }}\n",
       "}});\n",
       "\n",
       "// Listen for the removal of the full notebook cells\n",
       "var notebookContainer = gd.closest('#notebook-container');\n",
       "if (notebookContainer) {{\n",
       "    x.observe(notebookContainer, {childList: true});\n",
       "}}\n",
       "\n",
       "// Listen for the clearing of the current output cell\n",
       "var outputEl = gd.closest('.output');\n",
       "if (outputEl) {{\n",
       "    x.observe(outputEl, {childList: true});\n",
       "}}\n",
       "\n",
       "                        })                };                });            </script>        </div>"
      ]
     },
     "metadata": {},
     "output_type": "display_data"
    }
   ],
   "source": [
    "px.histogram(data_frame=houses,x='area',y='price',height=400)"
   ]
  },
  {
   "cell_type": "code",
   "execution_count": 14,
   "id": "57d11a51",
   "metadata": {
    "execution": {
     "iopub.execute_input": "2023-08-15T09:20:23.620914Z",
     "iopub.status.busy": "2023-08-15T09:20:23.620525Z",
     "iopub.status.idle": "2023-08-15T09:20:25.614642Z",
     "shell.execute_reply": "2023-08-15T09:20:25.613221Z"
    },
    "papermill": {
     "duration": 2.029636,
     "end_time": "2023-08-15T09:20:25.617810",
     "exception": false,
     "start_time": "2023-08-15T09:20:23.588174",
     "status": "completed"
    },
    "tags": []
   },
   "outputs": [
    {
     "data": {
      "text/html": [
       "<div>                            <div id=\"e1bc263d-bf59-45bc-ac99-0f19bc6045d8\" class=\"plotly-graph-div\" style=\"height:400px; width:100%;\"></div>            <script type=\"text/javascript\">                require([\"plotly\"], function(Plotly) {                    window.PLOTLYENV=window.PLOTLYENV || {};                                    if (document.getElementById(\"e1bc263d-bf59-45bc-ac99-0f19bc6045d8\")) {                    Plotly.newPlot(                        \"e1bc263d-bf59-45bc-ac99-0f19bc6045d8\",                        [{\"hovertemplate\":\"area=%{x}\\u003cbr\\u003eprice=%{y}\\u003cextra\\u003e\\u003c\\u002fextra\\u003e\",\"legendgroup\":\"\",\"marker\":{\"color\":\"#636efa\",\"symbol\":\"circle\"},\"mode\":\"markers\",\"name\":\"\",\"orientation\":\"v\",\"showlegend\":false,\"x\":[7420.0,8960.0,9960.0,7500.0,7420.0,7500.0,8580.0,16200.0,8100.0,5750.0,13200.0,6000.0,6550.0,3500.0,7800.0,6000.0,6600.0,8500.0,4600.0,6420.0,4320.0,7155.0,8050.0,4560.0,8800.0,6540.0,6000.0,8875.0,7950.0,5500.0,7475.0,7000.0,4880.0,5960.0,6840.0,7000.0,7482.0,9000.0,6000.0,6000.0,6550.0,6360.0,6480.0,6000.0,6000.0,6000.0,6000.0,6600.0,4300.0,7440.0,7440.0,6325.0,6000.0,5150.0,6000.0,6000.0,11440.0,9000.0,7680.0,6000.0,6000.0,8880.0,6240.0,6360.0,11175.0,8880.0,13200.0,7700.0,6000.0,12090.0,4000.0,6000.0,5020.0,6600.0,4040.0,4260.0,6420.0,6500.0,5700.0,6000.0,6000.0,4000.0,10500.0,6000.0,3760.0,8250.0,6670.0,3960.0,7410.0,8580.0,5000.0,6750.0,4800.0,7200.0,6000.0,4100.0,9000.0,6400.0,6600.0,6000.0,6600.0,5500.0,5500.0,6350.0,5500.0,4500.0,5450.0,6420.0,3240.0,6615.0,6600.0,8372.0,4300.0,9620.0,6800.0,8000.0,6900.0,3700.0,6420.0,7020.0,6540.0,7231.0,6254.0,7320.0,6525.0,15600.0,7160.0,6500.0,5500.0,11460.0,4800.0,5828.0,5200.0,4800.0,7000.0,6000.0,5400.0,4640.0,5000.0,6360.0,5800.0,6660.0,10500.0,4800.0,4700.0,5000.0,10500.0,5500.0,6360.0,6600.0,5136.0,4400.0,5400.0,3300.0,3650.0,6100.0,6900.0,2817.0,7980.0,3150.0,6210.0,6100.0,6600.0,6825.0,6710.0,6450.0,7800.0,4600.0,4260.0,6540.0,5500.0,10269.0,8400.0,5300.0,3800.0,9800.0,8520.0,6050.0,7085.0,3180.0,4500.0,7200.0,3410.0,7980.0,3000.0,3000.0,11410.0,6100.0,5720.0,3540.0,7600.0,10700.0,6600.0,4800.0,8150.0,4410.0,7686.0,2800.0,5948.0,4200.0,4520.0,4095.0,4120.0,5400.0,4770.0,6300.0,5800.0,3000.0,2970.0,6720.0,4646.0,12900.0,3420.0,4995.0,4350.0,4160.0,6040.0,6862.0,4815.0,7000.0,8100.0,3420.0,9166.0,6321.0,10240.0,6440.0,5170.0,6000.0,3630.0,9667.0,5400.0,4320.0,3745.0,4160.0,3880.0,5680.0,2870.0,5010.0,4510.0,4000.0,3840.0,3760.0,3640.0,2550.0,5320.0,5360.0,3520.0,8400.0,4100.0,4990.0,3510.0,3450.0,9860.0,3520.0,4510.0,5885.0,4000.0,8250.0,4040.0,6360.0,3162.0,3510.0,3750.0,3968.0,4900.0,2880.0,4880.0,4920.0,4950.0,3900.0,4500.0,1905.0,4075.0,3500.0,6450.0,4032.0,4400.0,10360.0,3400.0,6360.0,6360.0,4500.0,2175.0,4360.0,7770.0,6650.0,2787.0,5500.0,5040.0,5850.0,2610.0,2953.0,2747.0,4410.0,4000.0,2325.0,4600.0,3640.0,5800.0,7000.0,4079.0,3520.0,2145.0,4500.0,8250.0,3450.0,4840.0,4080.0,4046.0,4632.0,5985.0,6060.0,3600.0,3680.0,4040.0,5600.0,5900.0,4992.0,4340.0,3000.0,4320.0,3630.0,3460.0,5400.0,4500.0,3460.0,4100.0,6480.0,4500.0,3960.0,4050.0,7260.0,5500.0,3000.0,3290.0,3816.0,8080.0,2145.0,3780.0,3180.0,5300.0,3180.0,7152.0,4080.0,3850.0,2015.0,2176.0,3350.0,3150.0,4820.0,3420.0,3600.0,5830.0,2856.0,8400.0,8250.0,2520.0,6930.0,3480.0,3600.0,4040.0,6020.0,4050.0,3584.0,3120.0,5450.0,3630.0,3630.0,5640.0,3600.0,4280.0,3570.0,3180.0,3000.0,3520.0,5960.0,4130.0,2850.0,2275.0,3520.0,4500.0,4000.0,3150.0,4500.0,4500.0,3640.0,3850.0,4240.0,3650.0,4600.0,2135.0,3036.0,3990.0,7424.0,3480.0,3600.0,3640.0,5900.0,3120.0,7350.0,3512.0,9500.0,5880.0,12944.0,4900.0,3060.0,5320.0,2145.0,4000.0,3185.0,3850.0,2145.0,2610.0,1950.0,4040.0,4785.0,3450.0,3640.0,3500.0,4960.0,4120.0,4750.0,3720.0,3750.0,3100.0,3185.0,2700.0,2145.0,4040.0,4775.0,2500.0,3180.0,6060.0,3480.0,3792.0,4040.0,2145.0,5880.0,4500.0,3930.0,3640.0,4370.0,2684.0,4320.0,3120.0,3450.0,3986.0,3500.0,4095.0,1650.0,3450.0,6750.0,9000.0,3069.0,4500.0,5495.0,2398.0,3000.0,3850.0,3500.0,8100.0,4960.0,2160.0,3090.0,4500.0,3800.0,3090.0,3240.0,2835.0,4600.0,5076.0,3750.0,3630.0,8050.0,4352.0,3000.0,5850.0,4960.0,3600.0,3660.0,3480.0,2700.0,3150.0,6615.0,3040.0,3630.0,6000.0,5400.0,5200.0,3300.0,4350.0,2640.0,2650.0,3960.0,6800.0,4000.0,4000.0,3934.0,2000.0,3630.0,2800.0,2430.0,3480.0,4000.0,3185.0,4000.0,2910.0,3600.0,4400.0,3600.0,2880.0,3180.0,3000.0,4400.0,3000.0,3210.0,3240.0,3000.0,3500.0,4840.0,7700.0,3635.0,2475.0,2787.0,3264.0,3640.0,3180.0,1836.0,3970.0,3970.0,1950.0,5300.0,3000.0,2400.0,3000.0,3360.0,3420.0,1700.0,3649.0,2990.0,3000.0,2400.0,3620.0,2910.0,3850.0],\"xaxis\":\"x\",\"y\":[13300000.0,12250000.0,12250000.0,12215000.0,11410000.0,10850000.0,10150000.0,10150000.0,9870000.0,9800000.0,9800000.0,9681000.0,9310000.0,9240000.0,9240000.0,9100000.0,9100000.0,8960000.0,8890000.0,8855000.0,8750000.0,8680000.0,8645000.0,8645000.0,8575000.0,8540000.0,8463000.0,8400000.0,8400000.0,8400000.0,8400000.0,8400000.0,8295000.0,8190000.0,8120000.0,8080940.0,8043000.0,7980000.0,7962500.0,7910000.0,7875000.0,7840000.0,7700000.0,7700000.0,7560000.0,7560000.0,7525000.0,7490000.0,7455000.0,7420000.0,7420000.0,7420000.0,7350000.0,7350000.0,7350000.0,7350000.0,7343000.0,7245000.0,7210000.0,7210000.0,7140000.0,7070000.0,7070000.0,7035000.0,7000000.0,6930000.0,6930000.0,6895000.0,6860000.0,6790000.0,6790000.0,6755000.0,6720000.0,6685000.0,6650000.0,6650000.0,6650000.0,6650000.0,6650000.0,6650000.0,6629000.0,6615000.0,6615000.0,6580000.0,6510000.0,6510000.0,6510000.0,6475000.0,6475000.0,6440000.0,6440000.0,6419000.0,6405000.0,6300000.0,6300000.0,6300000.0,6300000.0,6300000.0,6293000.0,6265000.0,6230000.0,6230000.0,6195000.0,6195000.0,6195000.0,6160000.0,6160000.0,6125000.0,6107500.0,6090000.0,6090000.0,6090000.0,6083000.0,6083000.0,6020000.0,6020000.0,6020000.0,5950000.0,5950000.0,5950000.0,5950000.0,5950000.0,5950000.0,5950000.0,5950000.0,5943000.0,5880000.0,5880000.0,5873000.0,5873000.0,5866000.0,5810000.0,5810000.0,5810000.0,5803000.0,5775000.0,5740000.0,5740000.0,5740000.0,5740000.0,5740000.0,5652500.0,5600000.0,5600000.0,5600000.0,5600000.0,5600000.0,5600000.0,5600000.0,5600000.0,5600000.0,5565000.0,5565000.0,5530000.0,5530000.0,5530000.0,5523000.0,5495000.0,5495000.0,5460000.0,5460000.0,5460000.0,5460000.0,5425000.0,5390000.0,5383000.0,5320000.0,5285000.0,5250000.0,5250000.0,5250000.0,5250000.0,5250000.0,5250000.0,5250000.0,5250000.0,5250000.0,5243000.0,5229000.0,5215000.0,5215000.0,5215000.0,5145000.0,5145000.0,5110000.0,5110000.0,5110000.0,5110000.0,5075000.0,5040000.0,5040000.0,5040000.0,5040000.0,5033000.0,5005000.0,4970000.0,4970000.0,4956000.0,4935000.0,4907000.0,4900000.0,4900000.0,4900000.0,4900000.0,4900000.0,4900000.0,4900000.0,4900000.0,4900000.0,4900000.0,4900000.0,4900000.0,4893000.0,4893000.0,4865000.0,4830000.0,4830000.0,4830000.0,4830000.0,4795000.0,4795000.0,4767000.0,4760000.0,4760000.0,4760000.0,4753000.0,4690000.0,4690000.0,4690000.0,4690000.0,4690000.0,4690000.0,4655000.0,4620000.0,4620000.0,4620000.0,4620000.0,4620000.0,4613000.0,4585000.0,4585000.0,4550000.0,4550000.0,4550000.0,4550000.0,4550000.0,4550000.0,4550000.0,4543000.0,4543000.0,4515000.0,4515000.0,4515000.0,4515000.0,4480000.0,4480000.0,4480000.0,4480000.0,4480000.0,4473000.0,4473000.0,4473000.0,4445000.0,4410000.0,4410000.0,4403000.0,4403000.0,4403000.0,4382000.0,4375000.0,4340000.0,4340000.0,4340000.0,4340000.0,4340000.0,4319000.0,4305000.0,4305000.0,4277000.0,4270000.0,4270000.0,4270000.0,4270000.0,4270000.0,4270000.0,4235000.0,4235000.0,4200000.0,4200000.0,4200000.0,4200000.0,4200000.0,4200000.0,4200000.0,4200000.0,4200000.0,4200000.0,4200000.0,4200000.0,4200000.0,4200000.0,4200000.0,4200000.0,4200000.0,4193000.0,4193000.0,4165000.0,4165000.0,4165000.0,4130000.0,4130000.0,4123000.0,4098500.0,4095000.0,4095000.0,4095000.0,4060000.0,4060000.0,4060000.0,4060000.0,4060000.0,4025000.0,4025000.0,4025000.0,4007500.0,4007500.0,3990000.0,3990000.0,3990000.0,3990000.0,3990000.0,3920000.0,3920000.0,3920000.0,3920000.0,3920000.0,3920000.0,3920000.0,3885000.0,3885000.0,3850000.0,3850000.0,3850000.0,3850000.0,3850000.0,3850000.0,3850000.0,3836000.0,3815000.0,3780000.0,3780000.0,3780000.0,3780000.0,3780000.0,3780000.0,3773000.0,3773000.0,3773000.0,3745000.0,3710000.0,3710000.0,3710000.0,3710000.0,3710000.0,3703000.0,3703000.0,3675000.0,3675000.0,3675000.0,3675000.0,3640000.0,3640000.0,3640000.0,3640000.0,3640000.0,3640000.0,3640000.0,3640000.0,3640000.0,3633000.0,3605000.0,3605000.0,3570000.0,3570000.0,3570000.0,3570000.0,3535000.0,3500000.0,3500000.0,3500000.0,3500000.0,3500000.0,3500000.0,3500000.0,3500000.0,3500000.0,3500000.0,3500000.0,3500000.0,3500000.0,3500000.0,3500000.0,3500000.0,3500000.0,3493000.0,3465000.0,3465000.0,3465000.0,3430000.0,3430000.0,3430000.0,3430000.0,3430000.0,3430000.0,3423000.0,3395000.0,3395000.0,3395000.0,3360000.0,3360000.0,3360000.0,3360000.0,3360000.0,3360000.0,3360000.0,3360000.0,3353000.0,3332000.0,3325000.0,3325000.0,3290000.0,3290000.0,3290000.0,3290000.0,3290000.0,3290000.0,3290000.0,3290000.0,3255000.0,3255000.0,3234000.0,3220000.0,3220000.0,3220000.0,3220000.0,3150000.0,3150000.0,3150000.0,3150000.0,3150000.0,3150000.0,3150000.0,3150000.0,3150000.0,3143000.0,3129000.0,3118850.0,3115000.0,3115000.0,3115000.0,3087000.0,3080000.0,3080000.0,3080000.0,3080000.0,3045000.0,3010000.0,3010000.0,3010000.0,3010000.0,3010000.0,3010000.0,3010000.0,3003000.0,2975000.0,2961000.0,2940000.0,2940000.0,2940000.0,2940000.0,2940000.0,2940000.0,2940000.0,2940000.0,2870000.0,2870000.0,2870000.0,2870000.0,2852500.0,2835000.0,2835000.0,2835000.0,2800000.0,2800000.0,2730000.0,2730000.0,2695000.0,2660000.0,2660000.0,2660000.0,2660000.0,2660000.0,2660000.0,2660000.0,2653000.0,2653000.0,2604000.0,2590000.0,2590000.0,2590000.0,2520000.0,2520000.0,2520000.0,2485000.0,2485000.0,2450000.0,2450000.0,2450000.0,2450000.0,2450000.0,2450000.0,2408000.0,2380000.0,2380000.0,2380000.0,2345000.0,2310000.0,2275000.0,2275000.0,2275000.0,2240000.0,2233000.0,2135000.0,2100000.0,2100000.0,2100000.0,1960000.0,1890000.0,1890000.0,1855000.0,1820000.0,1767150.0,1750000.0,1750000.0,1750000.0],\"yaxis\":\"y\",\"type\":\"scatter\"},{\"hovertemplate\":\"\\u003cb\\u003eOLS trendline\\u003c\\u002fb\\u003e\\u003cbr\\u003eprice = 461.975 * area + 2.38731e+06\\u003cbr\\u003eR\\u003csup\\u003e2\\u003c\\u002fsup\\u003e=0.287293\\u003cbr\\u003e\\u003cbr\\u003earea=%{x}\\u003cbr\\u003eprice=%{y} \\u003cb\\u003e(trend)\\u003c\\u002fb\\u003e\\u003cextra\\u003e\\u003c\\u002fextra\\u003e\",\"legendgroup\":\"\",\"marker\":{\"color\":\"#636efa\",\"symbol\":\"circle\"},\"mode\":\"lines\",\"name\":\"\",\"showlegend\":false,\"x\":[1650.0,1700.0,1836.0,1905.0,1950.0,1950.0,2000.0,2015.0,2135.0,2145.0,2145.0,2145.0,2145.0,2145.0,2145.0,2160.0,2175.0,2176.0,2275.0,2325.0,2398.0,2400.0,2400.0,2430.0,2475.0,2500.0,2520.0,2550.0,2610.0,2610.0,2640.0,2650.0,2684.0,2700.0,2700.0,2747.0,2787.0,2787.0,2800.0,2800.0,2817.0,2835.0,2850.0,2856.0,2870.0,2880.0,2880.0,2910.0,2910.0,2953.0,2970.0,2990.0,3000.0,3000.0,3000.0,3000.0,3000.0,3000.0,3000.0,3000.0,3000.0,3000.0,3000.0,3000.0,3000.0,3000.0,3036.0,3040.0,3060.0,3069.0,3090.0,3090.0,3100.0,3120.0,3120.0,3120.0,3150.0,3150.0,3150.0,3150.0,3162.0,3180.0,3180.0,3180.0,3180.0,3180.0,3180.0,3180.0,3185.0,3185.0,3185.0,3210.0,3240.0,3240.0,3240.0,3264.0,3290.0,3300.0,3300.0,3350.0,3360.0,3400.0,3410.0,3420.0,3420.0,3420.0,3420.0,3450.0,3450.0,3450.0,3450.0,3450.0,3460.0,3460.0,3480.0,3480.0,3480.0,3480.0,3480.0,3500.0,3500.0,3500.0,3500.0,3500.0,3500.0,3510.0,3510.0,3512.0,3520.0,3520.0,3520.0,3520.0,3520.0,3540.0,3570.0,3584.0,3600.0,3600.0,3600.0,3600.0,3600.0,3600.0,3600.0,3600.0,3620.0,3630.0,3630.0,3630.0,3630.0,3630.0,3630.0,3630.0,3635.0,3640.0,3640.0,3640.0,3640.0,3640.0,3640.0,3640.0,3649.0,3650.0,3650.0,3660.0,3680.0,3700.0,3720.0,3745.0,3750.0,3750.0,3750.0,3760.0,3760.0,3780.0,3792.0,3800.0,3800.0,3816.0,3840.0,3850.0,3850.0,3850.0,3850.0,3850.0,3880.0,3900.0,3930.0,3934.0,3960.0,3960.0,3960.0,3968.0,3970.0,3970.0,3986.0,3990.0,4000.0,4000.0,4000.0,4000.0,4000.0,4000.0,4000.0,4000.0,4000.0,4000.0,4000.0,4032.0,4040.0,4040.0,4040.0,4040.0,4040.0,4040.0,4040.0,4046.0,4050.0,4050.0,4075.0,4079.0,4080.0,4080.0,4095.0,4095.0,4100.0,4100.0,4100.0,4120.0,4120.0,4130.0,4160.0,4160.0,4200.0,4240.0,4260.0,4260.0,4280.0,4300.0,4300.0,4320.0,4320.0,4320.0,4320.0,4340.0,4350.0,4350.0,4352.0,4360.0,4370.0,4400.0,4400.0,4400.0,4400.0,4410.0,4410.0,4500.0,4500.0,4500.0,4500.0,4500.0,4500.0,4500.0,4500.0,4500.0,4500.0,4500.0,4500.0,4500.0,4510.0,4510.0,4520.0,4560.0,4600.0,4600.0,4600.0,4600.0,4600.0,4632.0,4640.0,4646.0,4700.0,4750.0,4770.0,4775.0,4785.0,4800.0,4800.0,4800.0,4800.0,4800.0,4815.0,4820.0,4840.0,4840.0,4880.0,4880.0,4900.0,4900.0,4920.0,4950.0,4960.0,4960.0,4960.0,4990.0,4992.0,4995.0,5000.0,5000.0,5000.0,5010.0,5020.0,5040.0,5076.0,5136.0,5150.0,5170.0,5200.0,5200.0,5300.0,5300.0,5300.0,5320.0,5320.0,5360.0,5400.0,5400.0,5400.0,5400.0,5400.0,5400.0,5450.0,5450.0,5495.0,5500.0,5500.0,5500.0,5500.0,5500.0,5500.0,5500.0,5500.0,5500.0,5600.0,5640.0,5680.0,5700.0,5720.0,5750.0,5800.0,5800.0,5800.0,5828.0,5830.0,5850.0,5850.0,5880.0,5880.0,5885.0,5900.0,5900.0,5948.0,5960.0,5960.0,5985.0,6000.0,6000.0,6000.0,6000.0,6000.0,6000.0,6000.0,6000.0,6000.0,6000.0,6000.0,6000.0,6000.0,6000.0,6000.0,6000.0,6000.0,6000.0,6000.0,6000.0,6000.0,6000.0,6000.0,6000.0,6020.0,6040.0,6050.0,6060.0,6060.0,6100.0,6100.0,6100.0,6210.0,6240.0,6254.0,6300.0,6321.0,6325.0,6350.0,6360.0,6360.0,6360.0,6360.0,6360.0,6360.0,6360.0,6400.0,6420.0,6420.0,6420.0,6420.0,6440.0,6450.0,6450.0,6480.0,6480.0,6500.0,6500.0,6525.0,6540.0,6540.0,6540.0,6550.0,6550.0,6600.0,6600.0,6600.0,6600.0,6600.0,6600.0,6600.0,6600.0,6600.0,6615.0,6615.0,6650.0,6660.0,6670.0,6710.0,6720.0,6750.0,6750.0,6800.0,6800.0,6825.0,6840.0,6862.0,6900.0,6900.0,6930.0,7000.0,7000.0,7000.0,7000.0,7000.0,7020.0,7085.0,7152.0,7155.0,7160.0,7200.0,7200.0,7231.0,7260.0,7320.0,7350.0,7410.0,7420.0,7420.0,7424.0,7440.0,7440.0,7475.0,7482.0,7500.0,7500.0,7600.0,7680.0,7686.0,7700.0,7700.0,7770.0,7800.0,7800.0,7950.0,7980.0,7980.0,8000.0,8050.0,8050.0,8080.0,8100.0,8100.0,8100.0,8150.0,8250.0,8250.0,8250.0,8250.0,8372.0,8400.0,8400.0,8400.0,8500.0,8520.0,8580.0,8580.0,8800.0,8875.0,8880.0,8880.0,8960.0,9000.0,9000.0,9000.0,9000.0,9166.0,9500.0,9620.0,9667.0,9800.0,9860.0,9960.0,10240.0,10269.0,10360.0,10500.0,10500.0,10500.0,10700.0,11175.0,11410.0,11440.0,11460.0,12090.0,12900.0,12944.0,13200.0,13200.0,15600.0,16200.0],\"xaxis\":\"x\",\"y\":[3149567.057946522,3172665.8026601607,3235494.3882812597,3267370.6559860813,3288159.5262283566,3288159.5262283566,3311258.270941996,3318187.894356088,3373624.881668822,3378244.6306115496,3378244.6306115496,3378244.6306115496,3378244.6306115496,3378244.6306115496,3378244.6306115496,3385174.2540256414,3392103.877439733,3392565.8523340058,3438301.3668670114,3461400.1115806503,3495124.278862564,3496048.228651109,3496048.228651109,3509907.4754792927,3530696.345721568,3542245.718078388,3551485.2159638433,3565344.462792027,3593062.956448394,3593062.956448394,3606922.2032765774,3611541.9522193056,3627249.09862458,3634640.6969329445,3634640.6969329445,3656353.5169637655,3674832.5127346767,3674832.5127346767,3680838.186360223,3680838.186360223,3688691.7595628602,3697007.3076597704,3703936.931073862,3706708.780439499,3713176.4289593175,3717796.1779020457,3717796.1779020457,3731655.424730229,3731655.424730229,3751520.3451839588,3759373.9183865963,3768613.4162720516,3773233.16521478,3773233.16521478,3773233.16521478,3773233.16521478,3773233.16521478,3773233.16521478,3773233.16521478,3773233.16521478,3773233.16521478,3773233.16521478,3773233.16521478,3773233.16521478,3773233.16521478,3773233.16521478,3789864.2614086,3791712.160985691,3800951.658871147,3805109.432919602,3814810.9056993304,3814810.9056993304,3819430.654642058,3828670.152527514,3828670.152527514,3828670.152527514,3842529.3993556974,3842529.3993556974,3842529.3993556974,3842529.3993556974,3848073.098086971,3856388.646183881,3856388.646183881,3856388.646183881,3856388.646183881,3856388.646183881,3856388.646183881,3856388.646183881,3858698.5206552446,3858698.5206552446,3858698.5206552446,3870247.8930120645,3884107.139840248,3884107.139840248,3884107.139840248,3895194.537302795,3907205.884553887,3911825.633496615,3911825.633496615,3934924.378210254,3939544.1271529817,3958023.122923893,3962642.871866621,3967262.6208093488,3967262.6208093488,3967262.6208093488,3967262.6208093488,3981121.8676375323,3981121.8676375323,3981121.8676375323,3981121.8676375323,3981121.8676375323,3985741.61658026,3985741.61658026,3994981.114465716,3994981.114465716,3994981.114465716,3994981.114465716,3994981.114465716,4004220.6123511717,4004220.6123511717,4004220.6123511717,4004220.6123511717,4004220.6123511717,4004220.6123511717,4008840.3612938994,4008840.3612938994,4009764.311082445,4013460.110236627,4013460.110236627,4013460.110236627,4013460.110236627,4013460.110236627,4022699.608122083,4036558.8549502664,4043026.5034700856,4050418.10177845,4050418.10177845,4050418.10177845,4050418.10177845,4050418.10177845,4050418.10177845,4050418.10177845,4050418.10177845,4059657.599663906,4064277.3486066335,4064277.3486066335,4064277.3486066335,4064277.3486066335,4064277.3486066335,4064277.3486066335,4064277.3486066335,4066587.2230779976,4068897.097549361,4068897.097549361,4068897.097549361,4068897.097549361,4068897.097549361,4068897.097549361,4068897.097549361,4073054.8715978162,4073516.8464920893,4073516.8464920893,4078136.595434817,4087376.093320273,4096615.5912057282,4105855.0890911836,4117404.4614480035,4119714.335919367,4119714.335919367,4119714.335919367,4124334.0848620953,4124334.0848620953,4133573.5827475507,4139117.281478824,4142813.080633007,4142813.080633007,4150204.678941371,4161292.0764039177,4165911.825346646,4165911.825346646,4165911.825346646,4165911.825346646,4165911.825346646,4179771.0721748294,4189010.570060285,4202869.816888468,4204717.71646556,4216729.063716652,4216729.063716652,4216729.063716652,4220424.862870835,4221348.81265938,4221348.81265938,4228740.410967745,4230588.310544835,4235208.059487564,4235208.059487564,4235208.059487564,4235208.059487564,4235208.059487564,4235208.059487564,4235208.059487564,4235208.059487564,4235208.059487564,4235208.059487564,4235208.059487564,4249991.256104292,4253687.055258475,4253687.055258475,4253687.055258475,4253687.055258475,4253687.055258475,4253687.055258475,4253687.055258475,4256458.904624112,4258306.8042012025,4258306.8042012025,4269856.176558022,4271704.076135114,4272166.051029386,4272166.051029386,4279095.674443478,4279095.674443478,4281405.548914842,4281405.548914842,4281405.548914842,4290645.046800298,4290645.046800298,4295264.795743026,4309124.042571208,4309124.042571208,4327603.03834212,4346082.034113032,4355321.531998487,4355321.531998487,4364561.029883943,4373800.527769398,4373800.527769398,4383040.025654854,4383040.025654854,4383040.025654854,4383040.025654854,4392279.52354031,4396899.272483038,4396899.272483038,4397823.222271583,4401519.021425765,4406138.770368493,4419998.017196677,4419998.017196677,4419998.017196677,4419998.017196677,4424617.766139405,4424617.766139405,4466195.506623955,4466195.506623955,4466195.506623955,4466195.506623955,4466195.506623955,4466195.506623955,4466195.506623955,4466195.506623955,4466195.506623955,4466195.506623955,4466195.506623955,4466195.506623955,4466195.506623955,4470815.255566683,4470815.255566683,4475435.004509411,4493914.0002803225,4512392.996051233,4512392.996051233,4512392.996051233,4512392.996051233,4512392.996051233,4527176.192667963,4530871.991822145,4533643.841187782,4558590.485478512,4581689.230192151,4590928.728077607,4593238.602548971,4597858.351491699,4604787.974905791,4604787.974905791,4604787.974905791,4604787.974905791,4604787.974905791,4611717.5983198825,4614027.472791246,4623266.9706767015,4623266.9706767015,4641745.966447613,4641745.966447613,4650985.464333069,4650985.464333069,4660224.962218525,4674084.209046708,4678703.957989436,4678703.957989436,4678703.957989436,4692563.204817619,4693487.154606165,4694873.079288984,4697182.953760347,4697182.953760347,4697182.953760347,4701802.7027030755,4706422.451645803,4715661.949531259,4732293.045725079,4760011.539381446,4766479.187901264,4775718.68578672,4789577.932614904,4789577.932614904,4835775.422042182,4835775.422042182,4835775.422042182,4845014.919927638,4845014.919927638,4863493.915698549,4881972.91146946,4881972.91146946,4881972.91146946,4881972.91146946,4881972.91146946,4881972.91146946,4905071.656183099,4905071.656183099,4925860.526425375,4928170.400896739,4928170.400896739,4928170.400896739,4928170.400896739,4928170.400896739,4928170.400896739,4928170.400896739,4928170.400896739,4928170.400896739,4974367.890324017,4992846.886094929,5011325.88186584,5020565.379751296,5029804.877636751,5043664.124464935,5066762.8691785745,5066762.8691785745,5066762.8691785745,5079698.166218212,5080622.116006758,5089861.613892213,5089861.613892213,5103720.860720397,5103720.860720397,5106030.735191761,5112960.358605852,5112960.358605852,5135135.153530946,5140678.852262219,5140678.852262219,5152228.224619038,5159157.84803313,5159157.84803313,5159157.84803313,5159157.84803313,5159157.84803313,5159157.84803313,5159157.84803313,5159157.84803313,5159157.84803313,5159157.84803313,5159157.84803313,5159157.84803313,5159157.84803313,5159157.84803313,5159157.84803313,5159157.84803313,5159157.84803313,5159157.84803313,5159157.84803313,5159157.84803313,5159157.84803313,5159157.84803313,5159157.84803313,5159157.84803313,5168397.3459185865,5177636.843804043,5182256.59274677,5186876.341689497,5186876.341689497,5205355.33746041,5205355.33746041,5205355.33746041,5256172.575830415,5270031.822658598,5276499.471178418,5297750.3163149655,5307451.789094694,5309299.688671785,5320849.061028605,5325468.809971333,5325468.809971333,5325468.809971333,5325468.809971333,5325468.809971333,5325468.809971333,5325468.809971333,5343947.805742244,5353187.3036277,5353187.3036277,5353187.3036277,5353187.3036277,5362426.801513156,5367046.550455883,5367046.550455883,5380905.797284067,5380905.797284067,5390145.295169523,5390145.295169523,5401694.667526342,5408624.290940434,5408624.290940434,5408624.290940434,5413244.039883162,5413244.039883162,5436342.784596801,5436342.784596801,5436342.784596801,5436342.784596801,5436342.784596801,5436342.784596801,5436342.784596801,5436342.784596801,5436342.784596801,5443272.408010893,5443272.408010893,5459441.529310441,5464061.278253168,5468681.027195896,5487160.022966808,5491779.771909535,5505639.018737718,5505639.018737718,5528737.763451358,5528737.763451358,5540287.135808177,5547216.759222269,5557380.206896271,5574935.252878636,5574935.252878636,5588794.49970682,5621132.742305914,5621132.742305914,5621132.742305914,5621132.742305914,5621132.742305914,5630372.24019137,5660400.608319102,5691352.926235378,5692738.850918196,5695048.72538956,5713527.721160471,5713527.721160471,5727848.942882927,5741246.2148168385,5768964.708473206,5782823.955301389,5810542.448957756,5815162.197900483,5815162.197900483,5817010.097477575,5824401.69578594,5824401.69578594,5840570.817085487,5843804.641345397,5852120.189442307,5852120.189442307,5898317.678869585,5935275.670411408,5938047.519777045,5944515.168296863,5944515.168296863,5976853.410895959,5990712.657724142,5990712.657724142,6060008.89186506,6073868.138693243,6073868.138693243,6083107.636578698,6106206.381292338,6106206.381292338,6120065.628120521,6129305.126005976,6129305.126005976,6129305.126005976,6152403.870719615,6198601.360146894,6198601.360146894,6198601.360146894,6198601.360146894,6254962.2972481735,6267897.594287812,6267897.594287812,6267897.594287812,6314095.0837150905,6323334.581600546,6351053.075256913,6351053.075256913,6452687.551996926,6487335.669067385,6489645.543538747,6489645.543538747,6526603.535080571,6545082.5308514815,6545082.5308514815,6545082.5308514815,6545082.5308514815,6621770.363300764,6776069.977987874,6831506.9653006075,6853219.785331429,6914662.446269709,6942380.939926076,6988578.4293533545,7117931.3997497335,7131328.671683645,7173368.387062468,7238044.872260658,7238044.872260658,7238044.872260658,7330439.851115215,7549877.925894787,7658442.026048891,7672301.272877075,7681540.77076253,7972584.954154383,8346784.618515339,8367111.513863341,8485377.086797174,8485377.086797174,9594116.833051855,9871301.769615524],\"yaxis\":\"y\",\"type\":\"scatter\"}],                        {\"template\":{\"data\":{\"histogram2dcontour\":[{\"type\":\"histogram2dcontour\",\"colorbar\":{\"outlinewidth\":0,\"ticks\":\"\"},\"colorscale\":[[0.0,\"#0d0887\"],[0.1111111111111111,\"#46039f\"],[0.2222222222222222,\"#7201a8\"],[0.3333333333333333,\"#9c179e\"],[0.4444444444444444,\"#bd3786\"],[0.5555555555555556,\"#d8576b\"],[0.6666666666666666,\"#ed7953\"],[0.7777777777777778,\"#fb9f3a\"],[0.8888888888888888,\"#fdca26\"],[1.0,\"#f0f921\"]]}],\"choropleth\":[{\"type\":\"choropleth\",\"colorbar\":{\"outlinewidth\":0,\"ticks\":\"\"}}],\"histogram2d\":[{\"type\":\"histogram2d\",\"colorbar\":{\"outlinewidth\":0,\"ticks\":\"\"},\"colorscale\":[[0.0,\"#0d0887\"],[0.1111111111111111,\"#46039f\"],[0.2222222222222222,\"#7201a8\"],[0.3333333333333333,\"#9c179e\"],[0.4444444444444444,\"#bd3786\"],[0.5555555555555556,\"#d8576b\"],[0.6666666666666666,\"#ed7953\"],[0.7777777777777778,\"#fb9f3a\"],[0.8888888888888888,\"#fdca26\"],[1.0,\"#f0f921\"]]}],\"heatmap\":[{\"type\":\"heatmap\",\"colorbar\":{\"outlinewidth\":0,\"ticks\":\"\"},\"colorscale\":[[0.0,\"#0d0887\"],[0.1111111111111111,\"#46039f\"],[0.2222222222222222,\"#7201a8\"],[0.3333333333333333,\"#9c179e\"],[0.4444444444444444,\"#bd3786\"],[0.5555555555555556,\"#d8576b\"],[0.6666666666666666,\"#ed7953\"],[0.7777777777777778,\"#fb9f3a\"],[0.8888888888888888,\"#fdca26\"],[1.0,\"#f0f921\"]]}],\"heatmapgl\":[{\"type\":\"heatmapgl\",\"colorbar\":{\"outlinewidth\":0,\"ticks\":\"\"},\"colorscale\":[[0.0,\"#0d0887\"],[0.1111111111111111,\"#46039f\"],[0.2222222222222222,\"#7201a8\"],[0.3333333333333333,\"#9c179e\"],[0.4444444444444444,\"#bd3786\"],[0.5555555555555556,\"#d8576b\"],[0.6666666666666666,\"#ed7953\"],[0.7777777777777778,\"#fb9f3a\"],[0.8888888888888888,\"#fdca26\"],[1.0,\"#f0f921\"]]}],\"contourcarpet\":[{\"type\":\"contourcarpet\",\"colorbar\":{\"outlinewidth\":0,\"ticks\":\"\"}}],\"contour\":[{\"type\":\"contour\",\"colorbar\":{\"outlinewidth\":0,\"ticks\":\"\"},\"colorscale\":[[0.0,\"#0d0887\"],[0.1111111111111111,\"#46039f\"],[0.2222222222222222,\"#7201a8\"],[0.3333333333333333,\"#9c179e\"],[0.4444444444444444,\"#bd3786\"],[0.5555555555555556,\"#d8576b\"],[0.6666666666666666,\"#ed7953\"],[0.7777777777777778,\"#fb9f3a\"],[0.8888888888888888,\"#fdca26\"],[1.0,\"#f0f921\"]]}],\"surface\":[{\"type\":\"surface\",\"colorbar\":{\"outlinewidth\":0,\"ticks\":\"\"},\"colorscale\":[[0.0,\"#0d0887\"],[0.1111111111111111,\"#46039f\"],[0.2222222222222222,\"#7201a8\"],[0.3333333333333333,\"#9c179e\"],[0.4444444444444444,\"#bd3786\"],[0.5555555555555556,\"#d8576b\"],[0.6666666666666666,\"#ed7953\"],[0.7777777777777778,\"#fb9f3a\"],[0.8888888888888888,\"#fdca26\"],[1.0,\"#f0f921\"]]}],\"mesh3d\":[{\"type\":\"mesh3d\",\"colorbar\":{\"outlinewidth\":0,\"ticks\":\"\"}}],\"scatter\":[{\"fillpattern\":{\"fillmode\":\"overlay\",\"size\":10,\"solidity\":0.2},\"type\":\"scatter\"}],\"parcoords\":[{\"type\":\"parcoords\",\"line\":{\"colorbar\":{\"outlinewidth\":0,\"ticks\":\"\"}}}],\"scatterpolargl\":[{\"type\":\"scatterpolargl\",\"marker\":{\"colorbar\":{\"outlinewidth\":0,\"ticks\":\"\"}}}],\"bar\":[{\"error_x\":{\"color\":\"#2a3f5f\"},\"error_y\":{\"color\":\"#2a3f5f\"},\"marker\":{\"line\":{\"color\":\"#E5ECF6\",\"width\":0.5},\"pattern\":{\"fillmode\":\"overlay\",\"size\":10,\"solidity\":0.2}},\"type\":\"bar\"}],\"scattergeo\":[{\"type\":\"scattergeo\",\"marker\":{\"colorbar\":{\"outlinewidth\":0,\"ticks\":\"\"}}}],\"scatterpolar\":[{\"type\":\"scatterpolar\",\"marker\":{\"colorbar\":{\"outlinewidth\":0,\"ticks\":\"\"}}}],\"histogram\":[{\"marker\":{\"pattern\":{\"fillmode\":\"overlay\",\"size\":10,\"solidity\":0.2}},\"type\":\"histogram\"}],\"scattergl\":[{\"type\":\"scattergl\",\"marker\":{\"colorbar\":{\"outlinewidth\":0,\"ticks\":\"\"}}}],\"scatter3d\":[{\"type\":\"scatter3d\",\"line\":{\"colorbar\":{\"outlinewidth\":0,\"ticks\":\"\"}},\"marker\":{\"colorbar\":{\"outlinewidth\":0,\"ticks\":\"\"}}}],\"scattermapbox\":[{\"type\":\"scattermapbox\",\"marker\":{\"colorbar\":{\"outlinewidth\":0,\"ticks\":\"\"}}}],\"scatterternary\":[{\"type\":\"scatterternary\",\"marker\":{\"colorbar\":{\"outlinewidth\":0,\"ticks\":\"\"}}}],\"scattercarpet\":[{\"type\":\"scattercarpet\",\"marker\":{\"colorbar\":{\"outlinewidth\":0,\"ticks\":\"\"}}}],\"carpet\":[{\"aaxis\":{\"endlinecolor\":\"#2a3f5f\",\"gridcolor\":\"white\",\"linecolor\":\"white\",\"minorgridcolor\":\"white\",\"startlinecolor\":\"#2a3f5f\"},\"baxis\":{\"endlinecolor\":\"#2a3f5f\",\"gridcolor\":\"white\",\"linecolor\":\"white\",\"minorgridcolor\":\"white\",\"startlinecolor\":\"#2a3f5f\"},\"type\":\"carpet\"}],\"table\":[{\"cells\":{\"fill\":{\"color\":\"#EBF0F8\"},\"line\":{\"color\":\"white\"}},\"header\":{\"fill\":{\"color\":\"#C8D4E3\"},\"line\":{\"color\":\"white\"}},\"type\":\"table\"}],\"barpolar\":[{\"marker\":{\"line\":{\"color\":\"#E5ECF6\",\"width\":0.5},\"pattern\":{\"fillmode\":\"overlay\",\"size\":10,\"solidity\":0.2}},\"type\":\"barpolar\"}],\"pie\":[{\"automargin\":true,\"type\":\"pie\"}]},\"layout\":{\"autotypenumbers\":\"strict\",\"colorway\":[\"#636efa\",\"#EF553B\",\"#00cc96\",\"#ab63fa\",\"#FFA15A\",\"#19d3f3\",\"#FF6692\",\"#B6E880\",\"#FF97FF\",\"#FECB52\"],\"font\":{\"color\":\"#2a3f5f\"},\"hovermode\":\"closest\",\"hoverlabel\":{\"align\":\"left\"},\"paper_bgcolor\":\"white\",\"plot_bgcolor\":\"#E5ECF6\",\"polar\":{\"bgcolor\":\"#E5ECF6\",\"angularaxis\":{\"gridcolor\":\"white\",\"linecolor\":\"white\",\"ticks\":\"\"},\"radialaxis\":{\"gridcolor\":\"white\",\"linecolor\":\"white\",\"ticks\":\"\"}},\"ternary\":{\"bgcolor\":\"#E5ECF6\",\"aaxis\":{\"gridcolor\":\"white\",\"linecolor\":\"white\",\"ticks\":\"\"},\"baxis\":{\"gridcolor\":\"white\",\"linecolor\":\"white\",\"ticks\":\"\"},\"caxis\":{\"gridcolor\":\"white\",\"linecolor\":\"white\",\"ticks\":\"\"}},\"coloraxis\":{\"colorbar\":{\"outlinewidth\":0,\"ticks\":\"\"}},\"colorscale\":{\"sequential\":[[0.0,\"#0d0887\"],[0.1111111111111111,\"#46039f\"],[0.2222222222222222,\"#7201a8\"],[0.3333333333333333,\"#9c179e\"],[0.4444444444444444,\"#bd3786\"],[0.5555555555555556,\"#d8576b\"],[0.6666666666666666,\"#ed7953\"],[0.7777777777777778,\"#fb9f3a\"],[0.8888888888888888,\"#fdca26\"],[1.0,\"#f0f921\"]],\"sequentialminus\":[[0.0,\"#0d0887\"],[0.1111111111111111,\"#46039f\"],[0.2222222222222222,\"#7201a8\"],[0.3333333333333333,\"#9c179e\"],[0.4444444444444444,\"#bd3786\"],[0.5555555555555556,\"#d8576b\"],[0.6666666666666666,\"#ed7953\"],[0.7777777777777778,\"#fb9f3a\"],[0.8888888888888888,\"#fdca26\"],[1.0,\"#f0f921\"]],\"diverging\":[[0,\"#8e0152\"],[0.1,\"#c51b7d\"],[0.2,\"#de77ae\"],[0.3,\"#f1b6da\"],[0.4,\"#fde0ef\"],[0.5,\"#f7f7f7\"],[0.6,\"#e6f5d0\"],[0.7,\"#b8e186\"],[0.8,\"#7fbc41\"],[0.9,\"#4d9221\"],[1,\"#276419\"]]},\"xaxis\":{\"gridcolor\":\"white\",\"linecolor\":\"white\",\"ticks\":\"\",\"title\":{\"standoff\":15},\"zerolinecolor\":\"white\",\"automargin\":true,\"zerolinewidth\":2},\"yaxis\":{\"gridcolor\":\"white\",\"linecolor\":\"white\",\"ticks\":\"\",\"title\":{\"standoff\":15},\"zerolinecolor\":\"white\",\"automargin\":true,\"zerolinewidth\":2},\"scene\":{\"xaxis\":{\"backgroundcolor\":\"#E5ECF6\",\"gridcolor\":\"white\",\"linecolor\":\"white\",\"showbackground\":true,\"ticks\":\"\",\"zerolinecolor\":\"white\",\"gridwidth\":2},\"yaxis\":{\"backgroundcolor\":\"#E5ECF6\",\"gridcolor\":\"white\",\"linecolor\":\"white\",\"showbackground\":true,\"ticks\":\"\",\"zerolinecolor\":\"white\",\"gridwidth\":2},\"zaxis\":{\"backgroundcolor\":\"#E5ECF6\",\"gridcolor\":\"white\",\"linecolor\":\"white\",\"showbackground\":true,\"ticks\":\"\",\"zerolinecolor\":\"white\",\"gridwidth\":2}},\"shapedefaults\":{\"line\":{\"color\":\"#2a3f5f\"}},\"annotationdefaults\":{\"arrowcolor\":\"#2a3f5f\",\"arrowhead\":0,\"arrowwidth\":1},\"geo\":{\"bgcolor\":\"white\",\"landcolor\":\"#E5ECF6\",\"subunitcolor\":\"white\",\"showland\":true,\"showlakes\":true,\"lakecolor\":\"white\"},\"title\":{\"x\":0.05},\"mapbox\":{\"style\":\"light\"}}},\"xaxis\":{\"anchor\":\"y\",\"domain\":[0.0,1.0],\"title\":{\"text\":\"area\"}},\"yaxis\":{\"anchor\":\"x\",\"domain\":[0.0,1.0],\"title\":{\"text\":\"price\"}},\"legend\":{\"tracegroupgap\":0},\"margin\":{\"t\":60},\"height\":400},                        {\"responsive\": true}                    ).then(function(){\n",
       "                            \n",
       "var gd = document.getElementById('e1bc263d-bf59-45bc-ac99-0f19bc6045d8');\n",
       "var x = new MutationObserver(function (mutations, observer) {{\n",
       "        var display = window.getComputedStyle(gd).display;\n",
       "        if (!display || display === 'none') {{\n",
       "            console.log([gd, 'removed!']);\n",
       "            Plotly.purge(gd);\n",
       "            observer.disconnect();\n",
       "        }}\n",
       "}});\n",
       "\n",
       "// Listen for the removal of the full notebook cells\n",
       "var notebookContainer = gd.closest('#notebook-container');\n",
       "if (notebookContainer) {{\n",
       "    x.observe(notebookContainer, {childList: true});\n",
       "}}\n",
       "\n",
       "// Listen for the clearing of the current output cell\n",
       "var outputEl = gd.closest('.output');\n",
       "if (outputEl) {{\n",
       "    x.observe(outputEl, {childList: true});\n",
       "}}\n",
       "\n",
       "                        })                };                });            </script>        </div>"
      ]
     },
     "metadata": {},
     "output_type": "display_data"
    }
   ],
   "source": [
    "px.scatter(data_frame=houses,x='area',y='price',trendline='ols',height=400)"
   ]
  },
  {
   "cell_type": "markdown",
   "id": "06ecf94d",
   "metadata": {
    "papermill": {
     "duration": 0.029985,
     "end_time": "2023-08-15T09:20:25.678780",
     "exception": false,
     "start_time": "2023-08-15T09:20:25.648795",
     "status": "completed"
    },
    "tags": []
   },
   "source": [
    "# relation between price and num of bathrooms"
   ]
  },
  {
   "cell_type": "code",
   "execution_count": 15,
   "id": "78ef7926",
   "metadata": {
    "execution": {
     "iopub.execute_input": "2023-08-15T09:20:25.741579Z",
     "iopub.status.busy": "2023-08-15T09:20:25.740982Z",
     "iopub.status.idle": "2023-08-15T09:20:25.809674Z",
     "shell.execute_reply": "2023-08-15T09:20:25.808436Z"
    },
    "papermill": {
     "duration": 0.10357,
     "end_time": "2023-08-15T09:20:25.812681",
     "exception": false,
     "start_time": "2023-08-15T09:20:25.709111",
     "status": "completed"
    },
    "tags": []
   },
   "outputs": [
    {
     "data": {
      "text/html": [
       "<div>                            <div id=\"f2816065-bba3-4605-98dd-c310efc1f70f\" class=\"plotly-graph-div\" style=\"height:400px; width:100%;\"></div>            <script type=\"text/javascript\">                require([\"plotly\"], function(Plotly) {                    window.PLOTLYENV=window.PLOTLYENV || {};                                    if (document.getElementById(\"f2816065-bba3-4605-98dd-c310efc1f70f\")) {                    Plotly.newPlot(                        \"f2816065-bba3-4605-98dd-c310efc1f70f\",                        [{\"alignmentgroup\":\"True\",\"bingroup\":\"x\",\"histfunc\":\"sum\",\"hovertemplate\":\"bathrooms=%{x}\\u003cbr\\u003esum of price=%{y}\\u003cextra\\u003e\\u003c\\u002fextra\\u003e\",\"legendgroup\":\"\",\"marker\":{\"color\":\"#636efa\",\"pattern\":{\"shape\":\"\"}},\"name\":\"\",\"nbinsx\":5,\"offsetgroup\":\"\",\"orientation\":\"v\",\"showlegend\":false,\"x\":[2,4,2,2,1,3,3,3,1,2,1,3,2,2,2,1,2,2,2,2,1,2,1,2,2,2,2,1,2,2,2,1,2,3,1,2,2,2,1,2,1,2,2,2,2,2,2,1,2,2,2,1,2,2,2,1,1,2,2,2,2,1,2,2,1,2,1,2,1,2,2,2,1,2,1,2,2,2,1,2,1,2,2,2,1,2,1,1,1,3,1,1,2,2,2,2,1,1,2,1,2,1,2,2,2,1,2,1,1,2,1,1,2,1,1,1,2,1,1,1,1,1,2,2,2,1,1,2,1,1,1,1,1,1,1,2,2,1,1,1,2,2,2,2,1,1,1,2,1,2,1,1,1,3,2,2,1,2,1,2,1,1,2,1,2,2,1,2,1,2,2,1,1,2,1,2,1,1,1,2,2,1,1,1,2,1,1,1,1,1,1,1,1,1,2,3,1,2,1,1,1,1,1,1,1,1,1,1,1,1,1,1,2,2,1,1,1,1,1,1,1,2,1,1,1,1,1,1,1,2,1,1,1,1,2,1,1,1,2,1,1,1,1,1,1,1,1,1,2,2,1,1,1,1,1,1,1,1,1,1,1,1,1,1,1,1,1,1,1,1,2,1,1,1,1,1,1,1,1,1,1,1,1,1,1,1,1,1,1,1,3,1,2,1,2,1,2,2,1,1,1,1,1,1,1,1,1,1,1,1,1,1,1,2,1,1,2,2,1,1,1,2,2,1,1,1,1,1,2,1,1,2,1,1,1,1,1,2,1,2,2,2,1,1,1,1,1,1,2,1,1,1,1,1,1,1,2,1,1,1,1,1,1,1,1,1,1,1,1,1,1,1,1,1,2,1,2,2,1,1,1,1,1,2,1,1,1,1,1,1,2,1,1,1,1,1,1,1,1,1,1,1,1,1,1,1,1,1,1,1,1,1,1,2,1,1,1,1,1,1,1,1,1,1,1,1,1,1,1,1,1,1,1,1,1,1,1,1,1,1,1,1,1,1,1,1,2,1,1,1,1,1,1,1,1,1,1,1,1,1,1,1,1,1,1,1,1,1,1,1,1,1,1,1,1,1,1,1,1,1,1,1,1,1,1,1,1,1,1,1,1,1,1,1,1,1,1,1,1,3,1,1,1,1,1,1,1,1,1,2,1,1,1,1,1,1,1,1,1,1,1,1,1,2,1,1,1,1,1,1,1,1,1,1,1,1,1,1,1,1,1,1,1,1,1],\"xaxis\":\"x\",\"y\":[13300000.0,12250000.0,12250000.0,12215000.0,11410000.0,10850000.0,10150000.0,10150000.0,9870000.0,9800000.0,9800000.0,9681000.0,9310000.0,9240000.0,9240000.0,9100000.0,9100000.0,8960000.0,8890000.0,8855000.0,8750000.0,8680000.0,8645000.0,8645000.0,8575000.0,8540000.0,8463000.0,8400000.0,8400000.0,8400000.0,8400000.0,8400000.0,8295000.0,8190000.0,8120000.0,8080940.0,8043000.0,7980000.0,7962500.0,7910000.0,7875000.0,7840000.0,7700000.0,7700000.0,7560000.0,7560000.0,7525000.0,7490000.0,7455000.0,7420000.0,7420000.0,7420000.0,7350000.0,7350000.0,7350000.0,7350000.0,7343000.0,7245000.0,7210000.0,7210000.0,7140000.0,7070000.0,7070000.0,7035000.0,7000000.0,6930000.0,6930000.0,6895000.0,6860000.0,6790000.0,6790000.0,6755000.0,6720000.0,6685000.0,6650000.0,6650000.0,6650000.0,6650000.0,6650000.0,6650000.0,6629000.0,6615000.0,6615000.0,6580000.0,6510000.0,6510000.0,6510000.0,6475000.0,6475000.0,6440000.0,6440000.0,6419000.0,6405000.0,6300000.0,6300000.0,6300000.0,6300000.0,6300000.0,6293000.0,6265000.0,6230000.0,6230000.0,6195000.0,6195000.0,6195000.0,6160000.0,6160000.0,6125000.0,6107500.0,6090000.0,6090000.0,6090000.0,6083000.0,6083000.0,6020000.0,6020000.0,6020000.0,5950000.0,5950000.0,5950000.0,5950000.0,5950000.0,5950000.0,5950000.0,5950000.0,5943000.0,5880000.0,5880000.0,5873000.0,5873000.0,5866000.0,5810000.0,5810000.0,5810000.0,5803000.0,5775000.0,5740000.0,5740000.0,5740000.0,5740000.0,5740000.0,5652500.0,5600000.0,5600000.0,5600000.0,5600000.0,5600000.0,5600000.0,5600000.0,5600000.0,5600000.0,5565000.0,5565000.0,5530000.0,5530000.0,5530000.0,5523000.0,5495000.0,5495000.0,5460000.0,5460000.0,5460000.0,5460000.0,5425000.0,5390000.0,5383000.0,5320000.0,5285000.0,5250000.0,5250000.0,5250000.0,5250000.0,5250000.0,5250000.0,5250000.0,5250000.0,5250000.0,5243000.0,5229000.0,5215000.0,5215000.0,5215000.0,5145000.0,5145000.0,5110000.0,5110000.0,5110000.0,5110000.0,5075000.0,5040000.0,5040000.0,5040000.0,5040000.0,5033000.0,5005000.0,4970000.0,4970000.0,4956000.0,4935000.0,4907000.0,4900000.0,4900000.0,4900000.0,4900000.0,4900000.0,4900000.0,4900000.0,4900000.0,4900000.0,4900000.0,4900000.0,4900000.0,4893000.0,4893000.0,4865000.0,4830000.0,4830000.0,4830000.0,4830000.0,4795000.0,4795000.0,4767000.0,4760000.0,4760000.0,4760000.0,4753000.0,4690000.0,4690000.0,4690000.0,4690000.0,4690000.0,4690000.0,4655000.0,4620000.0,4620000.0,4620000.0,4620000.0,4620000.0,4613000.0,4585000.0,4585000.0,4550000.0,4550000.0,4550000.0,4550000.0,4550000.0,4550000.0,4550000.0,4543000.0,4543000.0,4515000.0,4515000.0,4515000.0,4515000.0,4480000.0,4480000.0,4480000.0,4480000.0,4480000.0,4473000.0,4473000.0,4473000.0,4445000.0,4410000.0,4410000.0,4403000.0,4403000.0,4403000.0,4382000.0,4375000.0,4340000.0,4340000.0,4340000.0,4340000.0,4340000.0,4319000.0,4305000.0,4305000.0,4277000.0,4270000.0,4270000.0,4270000.0,4270000.0,4270000.0,4270000.0,4235000.0,4235000.0,4200000.0,4200000.0,4200000.0,4200000.0,4200000.0,4200000.0,4200000.0,4200000.0,4200000.0,4200000.0,4200000.0,4200000.0,4200000.0,4200000.0,4200000.0,4200000.0,4200000.0,4193000.0,4193000.0,4165000.0,4165000.0,4165000.0,4130000.0,4130000.0,4123000.0,4098500.0,4095000.0,4095000.0,4095000.0,4060000.0,4060000.0,4060000.0,4060000.0,4060000.0,4025000.0,4025000.0,4025000.0,4007500.0,4007500.0,3990000.0,3990000.0,3990000.0,3990000.0,3990000.0,3920000.0,3920000.0,3920000.0,3920000.0,3920000.0,3920000.0,3920000.0,3885000.0,3885000.0,3850000.0,3850000.0,3850000.0,3850000.0,3850000.0,3850000.0,3850000.0,3836000.0,3815000.0,3780000.0,3780000.0,3780000.0,3780000.0,3780000.0,3780000.0,3773000.0,3773000.0,3773000.0,3745000.0,3710000.0,3710000.0,3710000.0,3710000.0,3710000.0,3703000.0,3703000.0,3675000.0,3675000.0,3675000.0,3675000.0,3640000.0,3640000.0,3640000.0,3640000.0,3640000.0,3640000.0,3640000.0,3640000.0,3640000.0,3633000.0,3605000.0,3605000.0,3570000.0,3570000.0,3570000.0,3570000.0,3535000.0,3500000.0,3500000.0,3500000.0,3500000.0,3500000.0,3500000.0,3500000.0,3500000.0,3500000.0,3500000.0,3500000.0,3500000.0,3500000.0,3500000.0,3500000.0,3500000.0,3500000.0,3493000.0,3465000.0,3465000.0,3465000.0,3430000.0,3430000.0,3430000.0,3430000.0,3430000.0,3430000.0,3423000.0,3395000.0,3395000.0,3395000.0,3360000.0,3360000.0,3360000.0,3360000.0,3360000.0,3360000.0,3360000.0,3360000.0,3353000.0,3332000.0,3325000.0,3325000.0,3290000.0,3290000.0,3290000.0,3290000.0,3290000.0,3290000.0,3290000.0,3290000.0,3255000.0,3255000.0,3234000.0,3220000.0,3220000.0,3220000.0,3220000.0,3150000.0,3150000.0,3150000.0,3150000.0,3150000.0,3150000.0,3150000.0,3150000.0,3150000.0,3143000.0,3129000.0,3118850.0,3115000.0,3115000.0,3115000.0,3087000.0,3080000.0,3080000.0,3080000.0,3080000.0,3045000.0,3010000.0,3010000.0,3010000.0,3010000.0,3010000.0,3010000.0,3010000.0,3003000.0,2975000.0,2961000.0,2940000.0,2940000.0,2940000.0,2940000.0,2940000.0,2940000.0,2940000.0,2940000.0,2870000.0,2870000.0,2870000.0,2870000.0,2852500.0,2835000.0,2835000.0,2835000.0,2800000.0,2800000.0,2730000.0,2730000.0,2695000.0,2660000.0,2660000.0,2660000.0,2660000.0,2660000.0,2660000.0,2660000.0,2653000.0,2653000.0,2604000.0,2590000.0,2590000.0,2590000.0,2520000.0,2520000.0,2520000.0,2485000.0,2485000.0,2450000.0,2450000.0,2450000.0,2450000.0,2450000.0,2450000.0,2408000.0,2380000.0,2380000.0,2380000.0,2345000.0,2310000.0,2275000.0,2275000.0,2275000.0,2240000.0,2233000.0,2135000.0,2100000.0,2100000.0,2100000.0,1960000.0,1890000.0,1890000.0,1855000.0,1820000.0,1767150.0,1750000.0,1750000.0,1750000.0],\"yaxis\":\"y\",\"type\":\"histogram\"}],                        {\"template\":{\"data\":{\"histogram2dcontour\":[{\"type\":\"histogram2dcontour\",\"colorbar\":{\"outlinewidth\":0,\"ticks\":\"\"},\"colorscale\":[[0.0,\"#0d0887\"],[0.1111111111111111,\"#46039f\"],[0.2222222222222222,\"#7201a8\"],[0.3333333333333333,\"#9c179e\"],[0.4444444444444444,\"#bd3786\"],[0.5555555555555556,\"#d8576b\"],[0.6666666666666666,\"#ed7953\"],[0.7777777777777778,\"#fb9f3a\"],[0.8888888888888888,\"#fdca26\"],[1.0,\"#f0f921\"]]}],\"choropleth\":[{\"type\":\"choropleth\",\"colorbar\":{\"outlinewidth\":0,\"ticks\":\"\"}}],\"histogram2d\":[{\"type\":\"histogram2d\",\"colorbar\":{\"outlinewidth\":0,\"ticks\":\"\"},\"colorscale\":[[0.0,\"#0d0887\"],[0.1111111111111111,\"#46039f\"],[0.2222222222222222,\"#7201a8\"],[0.3333333333333333,\"#9c179e\"],[0.4444444444444444,\"#bd3786\"],[0.5555555555555556,\"#d8576b\"],[0.6666666666666666,\"#ed7953\"],[0.7777777777777778,\"#fb9f3a\"],[0.8888888888888888,\"#fdca26\"],[1.0,\"#f0f921\"]]}],\"heatmap\":[{\"type\":\"heatmap\",\"colorbar\":{\"outlinewidth\":0,\"ticks\":\"\"},\"colorscale\":[[0.0,\"#0d0887\"],[0.1111111111111111,\"#46039f\"],[0.2222222222222222,\"#7201a8\"],[0.3333333333333333,\"#9c179e\"],[0.4444444444444444,\"#bd3786\"],[0.5555555555555556,\"#d8576b\"],[0.6666666666666666,\"#ed7953\"],[0.7777777777777778,\"#fb9f3a\"],[0.8888888888888888,\"#fdca26\"],[1.0,\"#f0f921\"]]}],\"heatmapgl\":[{\"type\":\"heatmapgl\",\"colorbar\":{\"outlinewidth\":0,\"ticks\":\"\"},\"colorscale\":[[0.0,\"#0d0887\"],[0.1111111111111111,\"#46039f\"],[0.2222222222222222,\"#7201a8\"],[0.3333333333333333,\"#9c179e\"],[0.4444444444444444,\"#bd3786\"],[0.5555555555555556,\"#d8576b\"],[0.6666666666666666,\"#ed7953\"],[0.7777777777777778,\"#fb9f3a\"],[0.8888888888888888,\"#fdca26\"],[1.0,\"#f0f921\"]]}],\"contourcarpet\":[{\"type\":\"contourcarpet\",\"colorbar\":{\"outlinewidth\":0,\"ticks\":\"\"}}],\"contour\":[{\"type\":\"contour\",\"colorbar\":{\"outlinewidth\":0,\"ticks\":\"\"},\"colorscale\":[[0.0,\"#0d0887\"],[0.1111111111111111,\"#46039f\"],[0.2222222222222222,\"#7201a8\"],[0.3333333333333333,\"#9c179e\"],[0.4444444444444444,\"#bd3786\"],[0.5555555555555556,\"#d8576b\"],[0.6666666666666666,\"#ed7953\"],[0.7777777777777778,\"#fb9f3a\"],[0.8888888888888888,\"#fdca26\"],[1.0,\"#f0f921\"]]}],\"surface\":[{\"type\":\"surface\",\"colorbar\":{\"outlinewidth\":0,\"ticks\":\"\"},\"colorscale\":[[0.0,\"#0d0887\"],[0.1111111111111111,\"#46039f\"],[0.2222222222222222,\"#7201a8\"],[0.3333333333333333,\"#9c179e\"],[0.4444444444444444,\"#bd3786\"],[0.5555555555555556,\"#d8576b\"],[0.6666666666666666,\"#ed7953\"],[0.7777777777777778,\"#fb9f3a\"],[0.8888888888888888,\"#fdca26\"],[1.0,\"#f0f921\"]]}],\"mesh3d\":[{\"type\":\"mesh3d\",\"colorbar\":{\"outlinewidth\":0,\"ticks\":\"\"}}],\"scatter\":[{\"fillpattern\":{\"fillmode\":\"overlay\",\"size\":10,\"solidity\":0.2},\"type\":\"scatter\"}],\"parcoords\":[{\"type\":\"parcoords\",\"line\":{\"colorbar\":{\"outlinewidth\":0,\"ticks\":\"\"}}}],\"scatterpolargl\":[{\"type\":\"scatterpolargl\",\"marker\":{\"colorbar\":{\"outlinewidth\":0,\"ticks\":\"\"}}}],\"bar\":[{\"error_x\":{\"color\":\"#2a3f5f\"},\"error_y\":{\"color\":\"#2a3f5f\"},\"marker\":{\"line\":{\"color\":\"#E5ECF6\",\"width\":0.5},\"pattern\":{\"fillmode\":\"overlay\",\"size\":10,\"solidity\":0.2}},\"type\":\"bar\"}],\"scattergeo\":[{\"type\":\"scattergeo\",\"marker\":{\"colorbar\":{\"outlinewidth\":0,\"ticks\":\"\"}}}],\"scatterpolar\":[{\"type\":\"scatterpolar\",\"marker\":{\"colorbar\":{\"outlinewidth\":0,\"ticks\":\"\"}}}],\"histogram\":[{\"marker\":{\"pattern\":{\"fillmode\":\"overlay\",\"size\":10,\"solidity\":0.2}},\"type\":\"histogram\"}],\"scattergl\":[{\"type\":\"scattergl\",\"marker\":{\"colorbar\":{\"outlinewidth\":0,\"ticks\":\"\"}}}],\"scatter3d\":[{\"type\":\"scatter3d\",\"line\":{\"colorbar\":{\"outlinewidth\":0,\"ticks\":\"\"}},\"marker\":{\"colorbar\":{\"outlinewidth\":0,\"ticks\":\"\"}}}],\"scattermapbox\":[{\"type\":\"scattermapbox\",\"marker\":{\"colorbar\":{\"outlinewidth\":0,\"ticks\":\"\"}}}],\"scatterternary\":[{\"type\":\"scatterternary\",\"marker\":{\"colorbar\":{\"outlinewidth\":0,\"ticks\":\"\"}}}],\"scattercarpet\":[{\"type\":\"scattercarpet\",\"marker\":{\"colorbar\":{\"outlinewidth\":0,\"ticks\":\"\"}}}],\"carpet\":[{\"aaxis\":{\"endlinecolor\":\"#2a3f5f\",\"gridcolor\":\"white\",\"linecolor\":\"white\",\"minorgridcolor\":\"white\",\"startlinecolor\":\"#2a3f5f\"},\"baxis\":{\"endlinecolor\":\"#2a3f5f\",\"gridcolor\":\"white\",\"linecolor\":\"white\",\"minorgridcolor\":\"white\",\"startlinecolor\":\"#2a3f5f\"},\"type\":\"carpet\"}],\"table\":[{\"cells\":{\"fill\":{\"color\":\"#EBF0F8\"},\"line\":{\"color\":\"white\"}},\"header\":{\"fill\":{\"color\":\"#C8D4E3\"},\"line\":{\"color\":\"white\"}},\"type\":\"table\"}],\"barpolar\":[{\"marker\":{\"line\":{\"color\":\"#E5ECF6\",\"width\":0.5},\"pattern\":{\"fillmode\":\"overlay\",\"size\":10,\"solidity\":0.2}},\"type\":\"barpolar\"}],\"pie\":[{\"automargin\":true,\"type\":\"pie\"}]},\"layout\":{\"autotypenumbers\":\"strict\",\"colorway\":[\"#636efa\",\"#EF553B\",\"#00cc96\",\"#ab63fa\",\"#FFA15A\",\"#19d3f3\",\"#FF6692\",\"#B6E880\",\"#FF97FF\",\"#FECB52\"],\"font\":{\"color\":\"#2a3f5f\"},\"hovermode\":\"closest\",\"hoverlabel\":{\"align\":\"left\"},\"paper_bgcolor\":\"white\",\"plot_bgcolor\":\"#E5ECF6\",\"polar\":{\"bgcolor\":\"#E5ECF6\",\"angularaxis\":{\"gridcolor\":\"white\",\"linecolor\":\"white\",\"ticks\":\"\"},\"radialaxis\":{\"gridcolor\":\"white\",\"linecolor\":\"white\",\"ticks\":\"\"}},\"ternary\":{\"bgcolor\":\"#E5ECF6\",\"aaxis\":{\"gridcolor\":\"white\",\"linecolor\":\"white\",\"ticks\":\"\"},\"baxis\":{\"gridcolor\":\"white\",\"linecolor\":\"white\",\"ticks\":\"\"},\"caxis\":{\"gridcolor\":\"white\",\"linecolor\":\"white\",\"ticks\":\"\"}},\"coloraxis\":{\"colorbar\":{\"outlinewidth\":0,\"ticks\":\"\"}},\"colorscale\":{\"sequential\":[[0.0,\"#0d0887\"],[0.1111111111111111,\"#46039f\"],[0.2222222222222222,\"#7201a8\"],[0.3333333333333333,\"#9c179e\"],[0.4444444444444444,\"#bd3786\"],[0.5555555555555556,\"#d8576b\"],[0.6666666666666666,\"#ed7953\"],[0.7777777777777778,\"#fb9f3a\"],[0.8888888888888888,\"#fdca26\"],[1.0,\"#f0f921\"]],\"sequentialminus\":[[0.0,\"#0d0887\"],[0.1111111111111111,\"#46039f\"],[0.2222222222222222,\"#7201a8\"],[0.3333333333333333,\"#9c179e\"],[0.4444444444444444,\"#bd3786\"],[0.5555555555555556,\"#d8576b\"],[0.6666666666666666,\"#ed7953\"],[0.7777777777777778,\"#fb9f3a\"],[0.8888888888888888,\"#fdca26\"],[1.0,\"#f0f921\"]],\"diverging\":[[0,\"#8e0152\"],[0.1,\"#c51b7d\"],[0.2,\"#de77ae\"],[0.3,\"#f1b6da\"],[0.4,\"#fde0ef\"],[0.5,\"#f7f7f7\"],[0.6,\"#e6f5d0\"],[0.7,\"#b8e186\"],[0.8,\"#7fbc41\"],[0.9,\"#4d9221\"],[1,\"#276419\"]]},\"xaxis\":{\"gridcolor\":\"white\",\"linecolor\":\"white\",\"ticks\":\"\",\"title\":{\"standoff\":15},\"zerolinecolor\":\"white\",\"automargin\":true,\"zerolinewidth\":2},\"yaxis\":{\"gridcolor\":\"white\",\"linecolor\":\"white\",\"ticks\":\"\",\"title\":{\"standoff\":15},\"zerolinecolor\":\"white\",\"automargin\":true,\"zerolinewidth\":2},\"scene\":{\"xaxis\":{\"backgroundcolor\":\"#E5ECF6\",\"gridcolor\":\"white\",\"linecolor\":\"white\",\"showbackground\":true,\"ticks\":\"\",\"zerolinecolor\":\"white\",\"gridwidth\":2},\"yaxis\":{\"backgroundcolor\":\"#E5ECF6\",\"gridcolor\":\"white\",\"linecolor\":\"white\",\"showbackground\":true,\"ticks\":\"\",\"zerolinecolor\":\"white\",\"gridwidth\":2},\"zaxis\":{\"backgroundcolor\":\"#E5ECF6\",\"gridcolor\":\"white\",\"linecolor\":\"white\",\"showbackground\":true,\"ticks\":\"\",\"zerolinecolor\":\"white\",\"gridwidth\":2}},\"shapedefaults\":{\"line\":{\"color\":\"#2a3f5f\"}},\"annotationdefaults\":{\"arrowcolor\":\"#2a3f5f\",\"arrowhead\":0,\"arrowwidth\":1},\"geo\":{\"bgcolor\":\"white\",\"landcolor\":\"#E5ECF6\",\"subunitcolor\":\"white\",\"showland\":true,\"showlakes\":true,\"lakecolor\":\"white\"},\"title\":{\"x\":0.05},\"mapbox\":{\"style\":\"light\"}}},\"xaxis\":{\"anchor\":\"y\",\"domain\":[0.0,1.0],\"title\":{\"text\":\"bathrooms\"}},\"yaxis\":{\"anchor\":\"x\",\"domain\":[0.0,1.0],\"title\":{\"text\":\"sum of price\"}},\"legend\":{\"tracegroupgap\":0},\"margin\":{\"t\":60},\"barmode\":\"relative\",\"height\":400},                        {\"responsive\": true}                    ).then(function(){\n",
       "                            \n",
       "var gd = document.getElementById('f2816065-bba3-4605-98dd-c310efc1f70f');\n",
       "var x = new MutationObserver(function (mutations, observer) {{\n",
       "        var display = window.getComputedStyle(gd).display;\n",
       "        if (!display || display === 'none') {{\n",
       "            console.log([gd, 'removed!']);\n",
       "            Plotly.purge(gd);\n",
       "            observer.disconnect();\n",
       "        }}\n",
       "}});\n",
       "\n",
       "// Listen for the removal of the full notebook cells\n",
       "var notebookContainer = gd.closest('#notebook-container');\n",
       "if (notebookContainer) {{\n",
       "    x.observe(notebookContainer, {childList: true});\n",
       "}}\n",
       "\n",
       "// Listen for the clearing of the current output cell\n",
       "var outputEl = gd.closest('.output');\n",
       "if (outputEl) {{\n",
       "    x.observe(outputEl, {childList: true});\n",
       "}}\n",
       "\n",
       "                        })                };                });            </script>        </div>"
      ]
     },
     "metadata": {},
     "output_type": "display_data"
    }
   ],
   "source": [
    "px.histogram(data_frame=houses,x='bathrooms',y='price',nbins=5,height=400)"
   ]
  },
  {
   "cell_type": "markdown",
   "id": "0d6f2fa9",
   "metadata": {
    "papermill": {
     "duration": 0.031629,
     "end_time": "2023-08-15T09:20:25.875164",
     "exception": false,
     "start_time": "2023-08-15T09:20:25.843535",
     "status": "completed"
    },
    "tags": []
   },
   "source": [
    "# convert categorical data"
   ]
  },
  {
   "cell_type": "code",
   "execution_count": 16,
   "id": "b0a81f90",
   "metadata": {
    "execution": {
     "iopub.execute_input": "2023-08-15T09:20:25.939422Z",
     "iopub.status.busy": "2023-08-15T09:20:25.939035Z",
     "iopub.status.idle": "2023-08-15T09:20:25.957040Z",
     "shell.execute_reply": "2023-08-15T09:20:25.955940Z"
    },
    "papermill": {
     "duration": 0.05253,
     "end_time": "2023-08-15T09:20:25.959384",
     "exception": false,
     "start_time": "2023-08-15T09:20:25.906854",
     "status": "completed"
    },
    "tags": []
   },
   "outputs": [
    {
     "data": {
      "text/html": [
       "<div>\n",
       "<style scoped>\n",
       "    .dataframe tbody tr th:only-of-type {\n",
       "        vertical-align: middle;\n",
       "    }\n",
       "\n",
       "    .dataframe tbody tr th {\n",
       "        vertical-align: top;\n",
       "    }\n",
       "\n",
       "    .dataframe thead th {\n",
       "        text-align: right;\n",
       "    }\n",
       "</style>\n",
       "<table border=\"1\" class=\"dataframe\">\n",
       "  <thead>\n",
       "    <tr style=\"text-align: right;\">\n",
       "      <th></th>\n",
       "      <th>price</th>\n",
       "      <th>area</th>\n",
       "      <th>bedrooms</th>\n",
       "      <th>bathrooms</th>\n",
       "      <th>stories</th>\n",
       "      <th>mainroad</th>\n",
       "      <th>guestroom</th>\n",
       "      <th>basement</th>\n",
       "      <th>hotwaterheating</th>\n",
       "      <th>airconditioning</th>\n",
       "      <th>parking</th>\n",
       "      <th>prefarea</th>\n",
       "      <th>furnishingstatus</th>\n",
       "    </tr>\n",
       "  </thead>\n",
       "  <tbody>\n",
       "    <tr>\n",
       "      <th>0</th>\n",
       "      <td>13300000.0</td>\n",
       "      <td>7420.0</td>\n",
       "      <td>4</td>\n",
       "      <td>2</td>\n",
       "      <td>3</td>\n",
       "      <td>yes</td>\n",
       "      <td>no</td>\n",
       "      <td>no</td>\n",
       "      <td>no</td>\n",
       "      <td>yes</td>\n",
       "      <td>2</td>\n",
       "      <td>yes</td>\n",
       "      <td>furnished</td>\n",
       "    </tr>\n",
       "    <tr>\n",
       "      <th>1</th>\n",
       "      <td>12250000.0</td>\n",
       "      <td>8960.0</td>\n",
       "      <td>4</td>\n",
       "      <td>4</td>\n",
       "      <td>4</td>\n",
       "      <td>yes</td>\n",
       "      <td>no</td>\n",
       "      <td>no</td>\n",
       "      <td>no</td>\n",
       "      <td>yes</td>\n",
       "      <td>3</td>\n",
       "      <td>no</td>\n",
       "      <td>furnished</td>\n",
       "    </tr>\n",
       "    <tr>\n",
       "      <th>2</th>\n",
       "      <td>12250000.0</td>\n",
       "      <td>9960.0</td>\n",
       "      <td>3</td>\n",
       "      <td>2</td>\n",
       "      <td>2</td>\n",
       "      <td>yes</td>\n",
       "      <td>no</td>\n",
       "      <td>yes</td>\n",
       "      <td>no</td>\n",
       "      <td>no</td>\n",
       "      <td>2</td>\n",
       "      <td>yes</td>\n",
       "      <td>semi-furnished</td>\n",
       "    </tr>\n",
       "    <tr>\n",
       "      <th>3</th>\n",
       "      <td>12215000.0</td>\n",
       "      <td>7500.0</td>\n",
       "      <td>4</td>\n",
       "      <td>2</td>\n",
       "      <td>2</td>\n",
       "      <td>yes</td>\n",
       "      <td>no</td>\n",
       "      <td>yes</td>\n",
       "      <td>no</td>\n",
       "      <td>yes</td>\n",
       "      <td>3</td>\n",
       "      <td>yes</td>\n",
       "      <td>furnished</td>\n",
       "    </tr>\n",
       "    <tr>\n",
       "      <th>4</th>\n",
       "      <td>11410000.0</td>\n",
       "      <td>7420.0</td>\n",
       "      <td>4</td>\n",
       "      <td>1</td>\n",
       "      <td>2</td>\n",
       "      <td>yes</td>\n",
       "      <td>yes</td>\n",
       "      <td>yes</td>\n",
       "      <td>no</td>\n",
       "      <td>yes</td>\n",
       "      <td>2</td>\n",
       "      <td>no</td>\n",
       "      <td>furnished</td>\n",
       "    </tr>\n",
       "  </tbody>\n",
       "</table>\n",
       "</div>"
      ],
      "text/plain": [
       "        price    area  bedrooms  bathrooms  stories mainroad guestroom  \\\n",
       "0  13300000.0  7420.0         4          2        3      yes        no   \n",
       "1  12250000.0  8960.0         4          4        4      yes        no   \n",
       "2  12250000.0  9960.0         3          2        2      yes        no   \n",
       "3  12215000.0  7500.0         4          2        2      yes        no   \n",
       "4  11410000.0  7420.0         4          1        2      yes       yes   \n",
       "\n",
       "  basement hotwaterheating airconditioning  parking prefarea furnishingstatus  \n",
       "0       no              no             yes        2      yes        furnished  \n",
       "1       no              no             yes        3       no        furnished  \n",
       "2      yes              no              no        2      yes   semi-furnished  \n",
       "3      yes              no             yes        3      yes        furnished  \n",
       "4      yes              no             yes        2       no        furnished  "
      ]
     },
     "execution_count": 16,
     "metadata": {},
     "output_type": "execute_result"
    }
   ],
   "source": [
    "houses.head()"
   ]
  },
  {
   "cell_type": "code",
   "execution_count": 17,
   "id": "39aa8d47",
   "metadata": {
    "execution": {
     "iopub.execute_input": "2023-08-15T09:20:26.025474Z",
     "iopub.status.busy": "2023-08-15T09:20:26.024719Z",
     "iopub.status.idle": "2023-08-15T09:20:26.036750Z",
     "shell.execute_reply": "2023-08-15T09:20:26.035915Z"
    },
    "papermill": {
     "duration": 0.048535,
     "end_time": "2023-08-15T09:20:26.038981",
     "exception": false,
     "start_time": "2023-08-15T09:20:25.990446",
     "status": "completed"
    },
    "tags": []
   },
   "outputs": [
    {
     "data": {
      "text/html": [
       "<div>\n",
       "<style scoped>\n",
       "    .dataframe tbody tr th:only-of-type {\n",
       "        vertical-align: middle;\n",
       "    }\n",
       "\n",
       "    .dataframe tbody tr th {\n",
       "        vertical-align: top;\n",
       "    }\n",
       "\n",
       "    .dataframe thead th {\n",
       "        text-align: right;\n",
       "    }\n",
       "</style>\n",
       "<table border=\"1\" class=\"dataframe\">\n",
       "  <thead>\n",
       "    <tr style=\"text-align: right;\">\n",
       "      <th></th>\n",
       "      <th>yes</th>\n",
       "    </tr>\n",
       "  </thead>\n",
       "  <tbody>\n",
       "    <tr>\n",
       "      <th>0</th>\n",
       "      <td>0</td>\n",
       "    </tr>\n",
       "    <tr>\n",
       "      <th>1</th>\n",
       "      <td>0</td>\n",
       "    </tr>\n",
       "    <tr>\n",
       "      <th>2</th>\n",
       "      <td>1</td>\n",
       "    </tr>\n",
       "    <tr>\n",
       "      <th>3</th>\n",
       "      <td>1</td>\n",
       "    </tr>\n",
       "    <tr>\n",
       "      <th>4</th>\n",
       "      <td>1</td>\n",
       "    </tr>\n",
       "    <tr>\n",
       "      <th>...</th>\n",
       "      <td>...</td>\n",
       "    </tr>\n",
       "    <tr>\n",
       "      <th>540</th>\n",
       "      <td>1</td>\n",
       "    </tr>\n",
       "    <tr>\n",
       "      <th>541</th>\n",
       "      <td>0</td>\n",
       "    </tr>\n",
       "    <tr>\n",
       "      <th>542</th>\n",
       "      <td>0</td>\n",
       "    </tr>\n",
       "    <tr>\n",
       "      <th>543</th>\n",
       "      <td>0</td>\n",
       "    </tr>\n",
       "    <tr>\n",
       "      <th>544</th>\n",
       "      <td>0</td>\n",
       "    </tr>\n",
       "  </tbody>\n",
       "</table>\n",
       "<p>545 rows × 1 columns</p>\n",
       "</div>"
      ],
      "text/plain": [
       "     yes\n",
       "0      0\n",
       "1      0\n",
       "2      1\n",
       "3      1\n",
       "4      1\n",
       "..   ...\n",
       "540    1\n",
       "541    0\n",
       "542    0\n",
       "543    0\n",
       "544    0\n",
       "\n",
       "[545 rows x 1 columns]"
      ]
     },
     "execution_count": 17,
     "metadata": {},
     "output_type": "execute_result"
    }
   ],
   "source": [
    "dum_basement = pd.get_dummies(houses['basement'],drop_first=True)\n",
    "dum_basement"
   ]
  },
  {
   "cell_type": "code",
   "execution_count": 18,
   "id": "b186c1ea",
   "metadata": {
    "execution": {
     "iopub.execute_input": "2023-08-15T09:20:26.103751Z",
     "iopub.status.busy": "2023-08-15T09:20:26.103000Z",
     "iopub.status.idle": "2023-08-15T09:20:26.114692Z",
     "shell.execute_reply": "2023-08-15T09:20:26.113582Z"
    },
    "papermill": {
     "duration": 0.04703,
     "end_time": "2023-08-15T09:20:26.117248",
     "exception": false,
     "start_time": "2023-08-15T09:20:26.070218",
     "status": "completed"
    },
    "tags": []
   },
   "outputs": [
    {
     "data": {
      "text/html": [
       "<div>\n",
       "<style scoped>\n",
       "    .dataframe tbody tr th:only-of-type {\n",
       "        vertical-align: middle;\n",
       "    }\n",
       "\n",
       "    .dataframe tbody tr th {\n",
       "        vertical-align: top;\n",
       "    }\n",
       "\n",
       "    .dataframe thead th {\n",
       "        text-align: right;\n",
       "    }\n",
       "</style>\n",
       "<table border=\"1\" class=\"dataframe\">\n",
       "  <thead>\n",
       "    <tr style=\"text-align: right;\">\n",
       "      <th></th>\n",
       "      <th>Basement</th>\n",
       "    </tr>\n",
       "  </thead>\n",
       "  <tbody>\n",
       "    <tr>\n",
       "      <th>0</th>\n",
       "      <td>0</td>\n",
       "    </tr>\n",
       "    <tr>\n",
       "      <th>1</th>\n",
       "      <td>0</td>\n",
       "    </tr>\n",
       "    <tr>\n",
       "      <th>2</th>\n",
       "      <td>1</td>\n",
       "    </tr>\n",
       "    <tr>\n",
       "      <th>3</th>\n",
       "      <td>1</td>\n",
       "    </tr>\n",
       "    <tr>\n",
       "      <th>4</th>\n",
       "      <td>1</td>\n",
       "    </tr>\n",
       "    <tr>\n",
       "      <th>...</th>\n",
       "      <td>...</td>\n",
       "    </tr>\n",
       "    <tr>\n",
       "      <th>540</th>\n",
       "      <td>1</td>\n",
       "    </tr>\n",
       "    <tr>\n",
       "      <th>541</th>\n",
       "      <td>0</td>\n",
       "    </tr>\n",
       "    <tr>\n",
       "      <th>542</th>\n",
       "      <td>0</td>\n",
       "    </tr>\n",
       "    <tr>\n",
       "      <th>543</th>\n",
       "      <td>0</td>\n",
       "    </tr>\n",
       "    <tr>\n",
       "      <th>544</th>\n",
       "      <td>0</td>\n",
       "    </tr>\n",
       "  </tbody>\n",
       "</table>\n",
       "<p>545 rows × 1 columns</p>\n",
       "</div>"
      ],
      "text/plain": [
       "     Basement\n",
       "0           0\n",
       "1           0\n",
       "2           1\n",
       "3           1\n",
       "4           1\n",
       "..        ...\n",
       "540         1\n",
       "541         0\n",
       "542         0\n",
       "543         0\n",
       "544         0\n",
       "\n",
       "[545 rows x 1 columns]"
      ]
     },
     "execution_count": 18,
     "metadata": {},
     "output_type": "execute_result"
    }
   ],
   "source": [
    "dum_basement.rename(columns={'yes':'Basement'},inplace=True)\n",
    "dum_basement"
   ]
  },
  {
   "cell_type": "code",
   "execution_count": 19,
   "id": "7922bc13",
   "metadata": {
    "execution": {
     "iopub.execute_input": "2023-08-15T09:20:26.182821Z",
     "iopub.status.busy": "2023-08-15T09:20:26.182392Z",
     "iopub.status.idle": "2023-08-15T09:20:26.196254Z",
     "shell.execute_reply": "2023-08-15T09:20:26.195377Z"
    },
    "papermill": {
     "duration": 0.049532,
     "end_time": "2023-08-15T09:20:26.198402",
     "exception": false,
     "start_time": "2023-08-15T09:20:26.148870",
     "status": "completed"
    },
    "tags": []
   },
   "outputs": [
    {
     "data": {
      "text/html": [
       "<div>\n",
       "<style scoped>\n",
       "    .dataframe tbody tr th:only-of-type {\n",
       "        vertical-align: middle;\n",
       "    }\n",
       "\n",
       "    .dataframe tbody tr th {\n",
       "        vertical-align: top;\n",
       "    }\n",
       "\n",
       "    .dataframe thead th {\n",
       "        text-align: right;\n",
       "    }\n",
       "</style>\n",
       "<table border=\"1\" class=\"dataframe\">\n",
       "  <thead>\n",
       "    <tr style=\"text-align: right;\">\n",
       "      <th></th>\n",
       "      <th>furnished</th>\n",
       "      <th>semi-furnished</th>\n",
       "      <th>unfurnished</th>\n",
       "    </tr>\n",
       "  </thead>\n",
       "  <tbody>\n",
       "    <tr>\n",
       "      <th>0</th>\n",
       "      <td>1</td>\n",
       "      <td>0</td>\n",
       "      <td>0</td>\n",
       "    </tr>\n",
       "    <tr>\n",
       "      <th>1</th>\n",
       "      <td>1</td>\n",
       "      <td>0</td>\n",
       "      <td>0</td>\n",
       "    </tr>\n",
       "    <tr>\n",
       "      <th>2</th>\n",
       "      <td>0</td>\n",
       "      <td>1</td>\n",
       "      <td>0</td>\n",
       "    </tr>\n",
       "    <tr>\n",
       "      <th>3</th>\n",
       "      <td>1</td>\n",
       "      <td>0</td>\n",
       "      <td>0</td>\n",
       "    </tr>\n",
       "    <tr>\n",
       "      <th>4</th>\n",
       "      <td>1</td>\n",
       "      <td>0</td>\n",
       "      <td>0</td>\n",
       "    </tr>\n",
       "    <tr>\n",
       "      <th>...</th>\n",
       "      <td>...</td>\n",
       "      <td>...</td>\n",
       "      <td>...</td>\n",
       "    </tr>\n",
       "    <tr>\n",
       "      <th>540</th>\n",
       "      <td>0</td>\n",
       "      <td>0</td>\n",
       "      <td>1</td>\n",
       "    </tr>\n",
       "    <tr>\n",
       "      <th>541</th>\n",
       "      <td>0</td>\n",
       "      <td>1</td>\n",
       "      <td>0</td>\n",
       "    </tr>\n",
       "    <tr>\n",
       "      <th>542</th>\n",
       "      <td>0</td>\n",
       "      <td>0</td>\n",
       "      <td>1</td>\n",
       "    </tr>\n",
       "    <tr>\n",
       "      <th>543</th>\n",
       "      <td>1</td>\n",
       "      <td>0</td>\n",
       "      <td>0</td>\n",
       "    </tr>\n",
       "    <tr>\n",
       "      <th>544</th>\n",
       "      <td>0</td>\n",
       "      <td>0</td>\n",
       "      <td>1</td>\n",
       "    </tr>\n",
       "  </tbody>\n",
       "</table>\n",
       "<p>545 rows × 3 columns</p>\n",
       "</div>"
      ],
      "text/plain": [
       "     furnished  semi-furnished  unfurnished\n",
       "0            1               0            0\n",
       "1            1               0            0\n",
       "2            0               1            0\n",
       "3            1               0            0\n",
       "4            1               0            0\n",
       "..         ...             ...          ...\n",
       "540          0               0            1\n",
       "541          0               1            0\n",
       "542          0               0            1\n",
       "543          1               0            0\n",
       "544          0               0            1\n",
       "\n",
       "[545 rows x 3 columns]"
      ]
     },
     "execution_count": 19,
     "metadata": {},
     "output_type": "execute_result"
    }
   ],
   "source": [
    "dum_furnishingstatus = pd.get_dummies(houses['furnishingstatus'])\n",
    "dum_furnishingstatus"
   ]
  },
  {
   "cell_type": "code",
   "execution_count": 20,
   "id": "22ee6909",
   "metadata": {
    "execution": {
     "iopub.execute_input": "2023-08-15T09:20:26.265001Z",
     "iopub.status.busy": "2023-08-15T09:20:26.264135Z",
     "iopub.status.idle": "2023-08-15T09:20:26.276271Z",
     "shell.execute_reply": "2023-08-15T09:20:26.275458Z"
    },
    "papermill": {
     "duration": 0.048007,
     "end_time": "2023-08-15T09:20:26.278299",
     "exception": false,
     "start_time": "2023-08-15T09:20:26.230292",
     "status": "completed"
    },
    "tags": []
   },
   "outputs": [
    {
     "data": {
      "text/html": [
       "<div>\n",
       "<style scoped>\n",
       "    .dataframe tbody tr th:only-of-type {\n",
       "        vertical-align: middle;\n",
       "    }\n",
       "\n",
       "    .dataframe tbody tr th {\n",
       "        vertical-align: top;\n",
       "    }\n",
       "\n",
       "    .dataframe thead th {\n",
       "        text-align: right;\n",
       "    }\n",
       "</style>\n",
       "<table border=\"1\" class=\"dataframe\">\n",
       "  <thead>\n",
       "    <tr style=\"text-align: right;\">\n",
       "      <th></th>\n",
       "      <th>yes</th>\n",
       "    </tr>\n",
       "  </thead>\n",
       "  <tbody>\n",
       "    <tr>\n",
       "      <th>0</th>\n",
       "      <td>0</td>\n",
       "    </tr>\n",
       "    <tr>\n",
       "      <th>1</th>\n",
       "      <td>0</td>\n",
       "    </tr>\n",
       "    <tr>\n",
       "      <th>2</th>\n",
       "      <td>0</td>\n",
       "    </tr>\n",
       "    <tr>\n",
       "      <th>3</th>\n",
       "      <td>0</td>\n",
       "    </tr>\n",
       "    <tr>\n",
       "      <th>4</th>\n",
       "      <td>1</td>\n",
       "    </tr>\n",
       "    <tr>\n",
       "      <th>...</th>\n",
       "      <td>...</td>\n",
       "    </tr>\n",
       "    <tr>\n",
       "      <th>540</th>\n",
       "      <td>0</td>\n",
       "    </tr>\n",
       "    <tr>\n",
       "      <th>541</th>\n",
       "      <td>0</td>\n",
       "    </tr>\n",
       "    <tr>\n",
       "      <th>542</th>\n",
       "      <td>0</td>\n",
       "    </tr>\n",
       "    <tr>\n",
       "      <th>543</th>\n",
       "      <td>0</td>\n",
       "    </tr>\n",
       "    <tr>\n",
       "      <th>544</th>\n",
       "      <td>0</td>\n",
       "    </tr>\n",
       "  </tbody>\n",
       "</table>\n",
       "<p>545 rows × 1 columns</p>\n",
       "</div>"
      ],
      "text/plain": [
       "     yes\n",
       "0      0\n",
       "1      0\n",
       "2      0\n",
       "3      0\n",
       "4      1\n",
       "..   ...\n",
       "540    0\n",
       "541    0\n",
       "542    0\n",
       "543    0\n",
       "544    0\n",
       "\n",
       "[545 rows x 1 columns]"
      ]
     },
     "execution_count": 20,
     "metadata": {},
     "output_type": "execute_result"
    }
   ],
   "source": [
    "dum_guestroom = pd.get_dummies(houses['guestroom'],drop_first=True)\n",
    "dum_guestroom"
   ]
  },
  {
   "cell_type": "code",
   "execution_count": 21,
   "id": "fc8c42ee",
   "metadata": {
    "execution": {
     "iopub.execute_input": "2023-08-15T09:20:26.344756Z",
     "iopub.status.busy": "2023-08-15T09:20:26.344065Z",
     "iopub.status.idle": "2023-08-15T09:20:26.355183Z",
     "shell.execute_reply": "2023-08-15T09:20:26.354400Z"
    },
    "papermill": {
     "duration": 0.046986,
     "end_time": "2023-08-15T09:20:26.357401",
     "exception": false,
     "start_time": "2023-08-15T09:20:26.310415",
     "status": "completed"
    },
    "tags": []
   },
   "outputs": [
    {
     "data": {
      "text/html": [
       "<div>\n",
       "<style scoped>\n",
       "    .dataframe tbody tr th:only-of-type {\n",
       "        vertical-align: middle;\n",
       "    }\n",
       "\n",
       "    .dataframe tbody tr th {\n",
       "        vertical-align: top;\n",
       "    }\n",
       "\n",
       "    .dataframe thead th {\n",
       "        text-align: right;\n",
       "    }\n",
       "</style>\n",
       "<table border=\"1\" class=\"dataframe\">\n",
       "  <thead>\n",
       "    <tr style=\"text-align: right;\">\n",
       "      <th></th>\n",
       "      <th>Guestroom</th>\n",
       "    </tr>\n",
       "  </thead>\n",
       "  <tbody>\n",
       "    <tr>\n",
       "      <th>0</th>\n",
       "      <td>0</td>\n",
       "    </tr>\n",
       "    <tr>\n",
       "      <th>1</th>\n",
       "      <td>0</td>\n",
       "    </tr>\n",
       "    <tr>\n",
       "      <th>2</th>\n",
       "      <td>0</td>\n",
       "    </tr>\n",
       "    <tr>\n",
       "      <th>3</th>\n",
       "      <td>0</td>\n",
       "    </tr>\n",
       "    <tr>\n",
       "      <th>4</th>\n",
       "      <td>1</td>\n",
       "    </tr>\n",
       "    <tr>\n",
       "      <th>...</th>\n",
       "      <td>...</td>\n",
       "    </tr>\n",
       "    <tr>\n",
       "      <th>540</th>\n",
       "      <td>0</td>\n",
       "    </tr>\n",
       "    <tr>\n",
       "      <th>541</th>\n",
       "      <td>0</td>\n",
       "    </tr>\n",
       "    <tr>\n",
       "      <th>542</th>\n",
       "      <td>0</td>\n",
       "    </tr>\n",
       "    <tr>\n",
       "      <th>543</th>\n",
       "      <td>0</td>\n",
       "    </tr>\n",
       "    <tr>\n",
       "      <th>544</th>\n",
       "      <td>0</td>\n",
       "    </tr>\n",
       "  </tbody>\n",
       "</table>\n",
       "<p>545 rows × 1 columns</p>\n",
       "</div>"
      ],
      "text/plain": [
       "     Guestroom\n",
       "0            0\n",
       "1            0\n",
       "2            0\n",
       "3            0\n",
       "4            1\n",
       "..         ...\n",
       "540          0\n",
       "541          0\n",
       "542          0\n",
       "543          0\n",
       "544          0\n",
       "\n",
       "[545 rows x 1 columns]"
      ]
     },
     "execution_count": 21,
     "metadata": {},
     "output_type": "execute_result"
    }
   ],
   "source": [
    "dum_guestroom.rename(columns={'yes':'Guestroom'},inplace=True)\n",
    "dum_guestroom"
   ]
  },
  {
   "cell_type": "code",
   "execution_count": 22,
   "id": "7edde6df",
   "metadata": {
    "execution": {
     "iopub.execute_input": "2023-08-15T09:20:26.426688Z",
     "iopub.status.busy": "2023-08-15T09:20:26.425733Z",
     "iopub.status.idle": "2023-08-15T09:20:26.437137Z",
     "shell.execute_reply": "2023-08-15T09:20:26.436250Z"
    },
    "papermill": {
     "duration": 0.049629,
     "end_time": "2023-08-15T09:20:26.439946",
     "exception": false,
     "start_time": "2023-08-15T09:20:26.390317",
     "status": "completed"
    },
    "tags": []
   },
   "outputs": [
    {
     "data": {
      "text/html": [
       "<div>\n",
       "<style scoped>\n",
       "    .dataframe tbody tr th:only-of-type {\n",
       "        vertical-align: middle;\n",
       "    }\n",
       "\n",
       "    .dataframe tbody tr th {\n",
       "        vertical-align: top;\n",
       "    }\n",
       "\n",
       "    .dataframe thead th {\n",
       "        text-align: right;\n",
       "    }\n",
       "</style>\n",
       "<table border=\"1\" class=\"dataframe\">\n",
       "  <thead>\n",
       "    <tr style=\"text-align: right;\">\n",
       "      <th></th>\n",
       "      <th>yes</th>\n",
       "    </tr>\n",
       "  </thead>\n",
       "  <tbody>\n",
       "    <tr>\n",
       "      <th>0</th>\n",
       "      <td>0</td>\n",
       "    </tr>\n",
       "    <tr>\n",
       "      <th>1</th>\n",
       "      <td>0</td>\n",
       "    </tr>\n",
       "    <tr>\n",
       "      <th>2</th>\n",
       "      <td>0</td>\n",
       "    </tr>\n",
       "    <tr>\n",
       "      <th>3</th>\n",
       "      <td>0</td>\n",
       "    </tr>\n",
       "    <tr>\n",
       "      <th>4</th>\n",
       "      <td>0</td>\n",
       "    </tr>\n",
       "    <tr>\n",
       "      <th>...</th>\n",
       "      <td>...</td>\n",
       "    </tr>\n",
       "    <tr>\n",
       "      <th>540</th>\n",
       "      <td>0</td>\n",
       "    </tr>\n",
       "    <tr>\n",
       "      <th>541</th>\n",
       "      <td>0</td>\n",
       "    </tr>\n",
       "    <tr>\n",
       "      <th>542</th>\n",
       "      <td>0</td>\n",
       "    </tr>\n",
       "    <tr>\n",
       "      <th>543</th>\n",
       "      <td>0</td>\n",
       "    </tr>\n",
       "    <tr>\n",
       "      <th>544</th>\n",
       "      <td>0</td>\n",
       "    </tr>\n",
       "  </tbody>\n",
       "</table>\n",
       "<p>545 rows × 1 columns</p>\n",
       "</div>"
      ],
      "text/plain": [
       "     yes\n",
       "0      0\n",
       "1      0\n",
       "2      0\n",
       "3      0\n",
       "4      0\n",
       "..   ...\n",
       "540    0\n",
       "541    0\n",
       "542    0\n",
       "543    0\n",
       "544    0\n",
       "\n",
       "[545 rows x 1 columns]"
      ]
     },
     "execution_count": 22,
     "metadata": {},
     "output_type": "execute_result"
    }
   ],
   "source": [
    "dum_hotwaterheating = pd.get_dummies(houses['hotwaterheating'],drop_first=True)\n",
    "dum_hotwaterheating"
   ]
  },
  {
   "cell_type": "code",
   "execution_count": 23,
   "id": "0ef204c7",
   "metadata": {
    "execution": {
     "iopub.execute_input": "2023-08-15T09:20:26.507855Z",
     "iopub.status.busy": "2023-08-15T09:20:26.507156Z",
     "iopub.status.idle": "2023-08-15T09:20:26.518606Z",
     "shell.execute_reply": "2023-08-15T09:20:26.517673Z"
    },
    "papermill": {
     "duration": 0.04781,
     "end_time": "2023-08-15T09:20:26.520939",
     "exception": false,
     "start_time": "2023-08-15T09:20:26.473129",
     "status": "completed"
    },
    "tags": []
   },
   "outputs": [
    {
     "data": {
      "text/html": [
       "<div>\n",
       "<style scoped>\n",
       "    .dataframe tbody tr th:only-of-type {\n",
       "        vertical-align: middle;\n",
       "    }\n",
       "\n",
       "    .dataframe tbody tr th {\n",
       "        vertical-align: top;\n",
       "    }\n",
       "\n",
       "    .dataframe thead th {\n",
       "        text-align: right;\n",
       "    }\n",
       "</style>\n",
       "<table border=\"1\" class=\"dataframe\">\n",
       "  <thead>\n",
       "    <tr style=\"text-align: right;\">\n",
       "      <th></th>\n",
       "      <th>Hotwaterheating</th>\n",
       "    </tr>\n",
       "  </thead>\n",
       "  <tbody>\n",
       "    <tr>\n",
       "      <th>0</th>\n",
       "      <td>0</td>\n",
       "    </tr>\n",
       "    <tr>\n",
       "      <th>1</th>\n",
       "      <td>0</td>\n",
       "    </tr>\n",
       "    <tr>\n",
       "      <th>2</th>\n",
       "      <td>0</td>\n",
       "    </tr>\n",
       "    <tr>\n",
       "      <th>3</th>\n",
       "      <td>0</td>\n",
       "    </tr>\n",
       "    <tr>\n",
       "      <th>4</th>\n",
       "      <td>0</td>\n",
       "    </tr>\n",
       "    <tr>\n",
       "      <th>...</th>\n",
       "      <td>...</td>\n",
       "    </tr>\n",
       "    <tr>\n",
       "      <th>540</th>\n",
       "      <td>0</td>\n",
       "    </tr>\n",
       "    <tr>\n",
       "      <th>541</th>\n",
       "      <td>0</td>\n",
       "    </tr>\n",
       "    <tr>\n",
       "      <th>542</th>\n",
       "      <td>0</td>\n",
       "    </tr>\n",
       "    <tr>\n",
       "      <th>543</th>\n",
       "      <td>0</td>\n",
       "    </tr>\n",
       "    <tr>\n",
       "      <th>544</th>\n",
       "      <td>0</td>\n",
       "    </tr>\n",
       "  </tbody>\n",
       "</table>\n",
       "<p>545 rows × 1 columns</p>\n",
       "</div>"
      ],
      "text/plain": [
       "     Hotwaterheating\n",
       "0                  0\n",
       "1                  0\n",
       "2                  0\n",
       "3                  0\n",
       "4                  0\n",
       "..               ...\n",
       "540                0\n",
       "541                0\n",
       "542                0\n",
       "543                0\n",
       "544                0\n",
       "\n",
       "[545 rows x 1 columns]"
      ]
     },
     "execution_count": 23,
     "metadata": {},
     "output_type": "execute_result"
    }
   ],
   "source": [
    "dum_hotwaterheating.rename(columns={'yes':'Hotwaterheating'},inplace=True)\n",
    "dum_hotwaterheating"
   ]
  },
  {
   "cell_type": "code",
   "execution_count": 24,
   "id": "98698f35",
   "metadata": {
    "execution": {
     "iopub.execute_input": "2023-08-15T09:20:26.589100Z",
     "iopub.status.busy": "2023-08-15T09:20:26.588668Z",
     "iopub.status.idle": "2023-08-15T09:20:26.600697Z",
     "shell.execute_reply": "2023-08-15T09:20:26.599506Z"
    },
    "papermill": {
     "duration": 0.049075,
     "end_time": "2023-08-15T09:20:26.603225",
     "exception": false,
     "start_time": "2023-08-15T09:20:26.554150",
     "status": "completed"
    },
    "tags": []
   },
   "outputs": [
    {
     "data": {
      "text/html": [
       "<div>\n",
       "<style scoped>\n",
       "    .dataframe tbody tr th:only-of-type {\n",
       "        vertical-align: middle;\n",
       "    }\n",
       "\n",
       "    .dataframe tbody tr th {\n",
       "        vertical-align: top;\n",
       "    }\n",
       "\n",
       "    .dataframe thead th {\n",
       "        text-align: right;\n",
       "    }\n",
       "</style>\n",
       "<table border=\"1\" class=\"dataframe\">\n",
       "  <thead>\n",
       "    <tr style=\"text-align: right;\">\n",
       "      <th></th>\n",
       "      <th>yes</th>\n",
       "    </tr>\n",
       "  </thead>\n",
       "  <tbody>\n",
       "    <tr>\n",
       "      <th>0</th>\n",
       "      <td>1</td>\n",
       "    </tr>\n",
       "    <tr>\n",
       "      <th>1</th>\n",
       "      <td>1</td>\n",
       "    </tr>\n",
       "    <tr>\n",
       "      <th>2</th>\n",
       "      <td>1</td>\n",
       "    </tr>\n",
       "    <tr>\n",
       "      <th>3</th>\n",
       "      <td>1</td>\n",
       "    </tr>\n",
       "    <tr>\n",
       "      <th>4</th>\n",
       "      <td>1</td>\n",
       "    </tr>\n",
       "    <tr>\n",
       "      <th>...</th>\n",
       "      <td>...</td>\n",
       "    </tr>\n",
       "    <tr>\n",
       "      <th>540</th>\n",
       "      <td>1</td>\n",
       "    </tr>\n",
       "    <tr>\n",
       "      <th>541</th>\n",
       "      <td>0</td>\n",
       "    </tr>\n",
       "    <tr>\n",
       "      <th>542</th>\n",
       "      <td>1</td>\n",
       "    </tr>\n",
       "    <tr>\n",
       "      <th>543</th>\n",
       "      <td>0</td>\n",
       "    </tr>\n",
       "    <tr>\n",
       "      <th>544</th>\n",
       "      <td>1</td>\n",
       "    </tr>\n",
       "  </tbody>\n",
       "</table>\n",
       "<p>545 rows × 1 columns</p>\n",
       "</div>"
      ],
      "text/plain": [
       "     yes\n",
       "0      1\n",
       "1      1\n",
       "2      1\n",
       "3      1\n",
       "4      1\n",
       "..   ...\n",
       "540    1\n",
       "541    0\n",
       "542    1\n",
       "543    0\n",
       "544    1\n",
       "\n",
       "[545 rows x 1 columns]"
      ]
     },
     "execution_count": 24,
     "metadata": {},
     "output_type": "execute_result"
    }
   ],
   "source": [
    "dum_mainroad = pd.get_dummies(houses['mainroad'],drop_first=True)\n",
    "dum_mainroad"
   ]
  },
  {
   "cell_type": "code",
   "execution_count": 25,
   "id": "ddbeba7b",
   "metadata": {
    "execution": {
     "iopub.execute_input": "2023-08-15T09:20:26.673054Z",
     "iopub.status.busy": "2023-08-15T09:20:26.672377Z",
     "iopub.status.idle": "2023-08-15T09:20:26.684338Z",
     "shell.execute_reply": "2023-08-15T09:20:26.683209Z"
    },
    "papermill": {
     "duration": 0.049067,
     "end_time": "2023-08-15T09:20:26.686556",
     "exception": false,
     "start_time": "2023-08-15T09:20:26.637489",
     "status": "completed"
    },
    "tags": []
   },
   "outputs": [
    {
     "data": {
      "text/html": [
       "<div>\n",
       "<style scoped>\n",
       "    .dataframe tbody tr th:only-of-type {\n",
       "        vertical-align: middle;\n",
       "    }\n",
       "\n",
       "    .dataframe tbody tr th {\n",
       "        vertical-align: top;\n",
       "    }\n",
       "\n",
       "    .dataframe thead th {\n",
       "        text-align: right;\n",
       "    }\n",
       "</style>\n",
       "<table border=\"1\" class=\"dataframe\">\n",
       "  <thead>\n",
       "    <tr style=\"text-align: right;\">\n",
       "      <th></th>\n",
       "      <th>Mainroad</th>\n",
       "    </tr>\n",
       "  </thead>\n",
       "  <tbody>\n",
       "    <tr>\n",
       "      <th>0</th>\n",
       "      <td>1</td>\n",
       "    </tr>\n",
       "    <tr>\n",
       "      <th>1</th>\n",
       "      <td>1</td>\n",
       "    </tr>\n",
       "    <tr>\n",
       "      <th>2</th>\n",
       "      <td>1</td>\n",
       "    </tr>\n",
       "    <tr>\n",
       "      <th>3</th>\n",
       "      <td>1</td>\n",
       "    </tr>\n",
       "    <tr>\n",
       "      <th>4</th>\n",
       "      <td>1</td>\n",
       "    </tr>\n",
       "    <tr>\n",
       "      <th>...</th>\n",
       "      <td>...</td>\n",
       "    </tr>\n",
       "    <tr>\n",
       "      <th>540</th>\n",
       "      <td>1</td>\n",
       "    </tr>\n",
       "    <tr>\n",
       "      <th>541</th>\n",
       "      <td>0</td>\n",
       "    </tr>\n",
       "    <tr>\n",
       "      <th>542</th>\n",
       "      <td>1</td>\n",
       "    </tr>\n",
       "    <tr>\n",
       "      <th>543</th>\n",
       "      <td>0</td>\n",
       "    </tr>\n",
       "    <tr>\n",
       "      <th>544</th>\n",
       "      <td>1</td>\n",
       "    </tr>\n",
       "  </tbody>\n",
       "</table>\n",
       "<p>545 rows × 1 columns</p>\n",
       "</div>"
      ],
      "text/plain": [
       "     Mainroad\n",
       "0           1\n",
       "1           1\n",
       "2           1\n",
       "3           1\n",
       "4           1\n",
       "..        ...\n",
       "540         1\n",
       "541         0\n",
       "542         1\n",
       "543         0\n",
       "544         1\n",
       "\n",
       "[545 rows x 1 columns]"
      ]
     },
     "execution_count": 25,
     "metadata": {},
     "output_type": "execute_result"
    }
   ],
   "source": [
    "dum_mainroad.rename(columns={'yes':'Mainroad'},inplace=True)\n",
    "dum_mainroad"
   ]
  },
  {
   "cell_type": "code",
   "execution_count": 26,
   "id": "745bac4f",
   "metadata": {
    "execution": {
     "iopub.execute_input": "2023-08-15T09:20:26.756210Z",
     "iopub.status.busy": "2023-08-15T09:20:26.755493Z",
     "iopub.status.idle": "2023-08-15T09:20:26.768814Z",
     "shell.execute_reply": "2023-08-15T09:20:26.767918Z"
    },
    "papermill": {
     "duration": 0.051133,
     "end_time": "2023-08-15T09:20:26.771262",
     "exception": false,
     "start_time": "2023-08-15T09:20:26.720129",
     "status": "completed"
    },
    "tags": []
   },
   "outputs": [
    {
     "data": {
      "text/html": [
       "<div>\n",
       "<style scoped>\n",
       "    .dataframe tbody tr th:only-of-type {\n",
       "        vertical-align: middle;\n",
       "    }\n",
       "\n",
       "    .dataframe tbody tr th {\n",
       "        vertical-align: top;\n",
       "    }\n",
       "\n",
       "    .dataframe thead th {\n",
       "        text-align: right;\n",
       "    }\n",
       "</style>\n",
       "<table border=\"1\" class=\"dataframe\">\n",
       "  <thead>\n",
       "    <tr style=\"text-align: right;\">\n",
       "      <th></th>\n",
       "      <th>yes</th>\n",
       "    </tr>\n",
       "  </thead>\n",
       "  <tbody>\n",
       "    <tr>\n",
       "      <th>0</th>\n",
       "      <td>1</td>\n",
       "    </tr>\n",
       "    <tr>\n",
       "      <th>1</th>\n",
       "      <td>0</td>\n",
       "    </tr>\n",
       "    <tr>\n",
       "      <th>2</th>\n",
       "      <td>1</td>\n",
       "    </tr>\n",
       "    <tr>\n",
       "      <th>3</th>\n",
       "      <td>1</td>\n",
       "    </tr>\n",
       "    <tr>\n",
       "      <th>4</th>\n",
       "      <td>0</td>\n",
       "    </tr>\n",
       "    <tr>\n",
       "      <th>...</th>\n",
       "      <td>...</td>\n",
       "    </tr>\n",
       "    <tr>\n",
       "      <th>540</th>\n",
       "      <td>0</td>\n",
       "    </tr>\n",
       "    <tr>\n",
       "      <th>541</th>\n",
       "      <td>0</td>\n",
       "    </tr>\n",
       "    <tr>\n",
       "      <th>542</th>\n",
       "      <td>0</td>\n",
       "    </tr>\n",
       "    <tr>\n",
       "      <th>543</th>\n",
       "      <td>0</td>\n",
       "    </tr>\n",
       "    <tr>\n",
       "      <th>544</th>\n",
       "      <td>0</td>\n",
       "    </tr>\n",
       "  </tbody>\n",
       "</table>\n",
       "<p>545 rows × 1 columns</p>\n",
       "</div>"
      ],
      "text/plain": [
       "     yes\n",
       "0      1\n",
       "1      0\n",
       "2      1\n",
       "3      1\n",
       "4      0\n",
       "..   ...\n",
       "540    0\n",
       "541    0\n",
       "542    0\n",
       "543    0\n",
       "544    0\n",
       "\n",
       "[545 rows x 1 columns]"
      ]
     },
     "execution_count": 26,
     "metadata": {},
     "output_type": "execute_result"
    }
   ],
   "source": [
    "dum_prefarea = pd.get_dummies(houses['prefarea'],drop_first=True)\n",
    "dum_prefarea"
   ]
  },
  {
   "cell_type": "code",
   "execution_count": 27,
   "id": "1e975508",
   "metadata": {
    "execution": {
     "iopub.execute_input": "2023-08-15T09:20:26.845808Z",
     "iopub.status.busy": "2023-08-15T09:20:26.845365Z",
     "iopub.status.idle": "2023-08-15T09:20:26.859500Z",
     "shell.execute_reply": "2023-08-15T09:20:26.858312Z"
    },
    "papermill": {
     "duration": 0.053147,
     "end_time": "2023-08-15T09:20:26.861865",
     "exception": false,
     "start_time": "2023-08-15T09:20:26.808718",
     "status": "completed"
    },
    "tags": []
   },
   "outputs": [
    {
     "data": {
      "text/html": [
       "<div>\n",
       "<style scoped>\n",
       "    .dataframe tbody tr th:only-of-type {\n",
       "        vertical-align: middle;\n",
       "    }\n",
       "\n",
       "    .dataframe tbody tr th {\n",
       "        vertical-align: top;\n",
       "    }\n",
       "\n",
       "    .dataframe thead th {\n",
       "        text-align: right;\n",
       "    }\n",
       "</style>\n",
       "<table border=\"1\" class=\"dataframe\">\n",
       "  <thead>\n",
       "    <tr style=\"text-align: right;\">\n",
       "      <th></th>\n",
       "      <th>Prefarea</th>\n",
       "    </tr>\n",
       "  </thead>\n",
       "  <tbody>\n",
       "    <tr>\n",
       "      <th>0</th>\n",
       "      <td>1</td>\n",
       "    </tr>\n",
       "    <tr>\n",
       "      <th>1</th>\n",
       "      <td>0</td>\n",
       "    </tr>\n",
       "    <tr>\n",
       "      <th>2</th>\n",
       "      <td>1</td>\n",
       "    </tr>\n",
       "    <tr>\n",
       "      <th>3</th>\n",
       "      <td>1</td>\n",
       "    </tr>\n",
       "    <tr>\n",
       "      <th>4</th>\n",
       "      <td>0</td>\n",
       "    </tr>\n",
       "    <tr>\n",
       "      <th>...</th>\n",
       "      <td>...</td>\n",
       "    </tr>\n",
       "    <tr>\n",
       "      <th>540</th>\n",
       "      <td>0</td>\n",
       "    </tr>\n",
       "    <tr>\n",
       "      <th>541</th>\n",
       "      <td>0</td>\n",
       "    </tr>\n",
       "    <tr>\n",
       "      <th>542</th>\n",
       "      <td>0</td>\n",
       "    </tr>\n",
       "    <tr>\n",
       "      <th>543</th>\n",
       "      <td>0</td>\n",
       "    </tr>\n",
       "    <tr>\n",
       "      <th>544</th>\n",
       "      <td>0</td>\n",
       "    </tr>\n",
       "  </tbody>\n",
       "</table>\n",
       "<p>545 rows × 1 columns</p>\n",
       "</div>"
      ],
      "text/plain": [
       "     Prefarea\n",
       "0           1\n",
       "1           0\n",
       "2           1\n",
       "3           1\n",
       "4           0\n",
       "..        ...\n",
       "540         0\n",
       "541         0\n",
       "542         0\n",
       "543         0\n",
       "544         0\n",
       "\n",
       "[545 rows x 1 columns]"
      ]
     },
     "execution_count": 27,
     "metadata": {},
     "output_type": "execute_result"
    }
   ],
   "source": [
    "dum_prefarea.rename(columns={'yes':'Prefarea'},inplace=True)\n",
    "dum_prefarea"
   ]
  },
  {
   "cell_type": "code",
   "execution_count": 28,
   "id": "0b0237c1",
   "metadata": {
    "execution": {
     "iopub.execute_input": "2023-08-15T09:20:26.934266Z",
     "iopub.status.busy": "2023-08-15T09:20:26.933200Z",
     "iopub.status.idle": "2023-08-15T09:20:26.945773Z",
     "shell.execute_reply": "2023-08-15T09:20:26.944629Z"
    },
    "papermill": {
     "duration": 0.051976,
     "end_time": "2023-08-15T09:20:26.948020",
     "exception": false,
     "start_time": "2023-08-15T09:20:26.896044",
     "status": "completed"
    },
    "tags": []
   },
   "outputs": [
    {
     "data": {
      "text/html": [
       "<div>\n",
       "<style scoped>\n",
       "    .dataframe tbody tr th:only-of-type {\n",
       "        vertical-align: middle;\n",
       "    }\n",
       "\n",
       "    .dataframe tbody tr th {\n",
       "        vertical-align: top;\n",
       "    }\n",
       "\n",
       "    .dataframe thead th {\n",
       "        text-align: right;\n",
       "    }\n",
       "</style>\n",
       "<table border=\"1\" class=\"dataframe\">\n",
       "  <thead>\n",
       "    <tr style=\"text-align: right;\">\n",
       "      <th></th>\n",
       "      <th>yes</th>\n",
       "    </tr>\n",
       "  </thead>\n",
       "  <tbody>\n",
       "    <tr>\n",
       "      <th>0</th>\n",
       "      <td>1</td>\n",
       "    </tr>\n",
       "    <tr>\n",
       "      <th>1</th>\n",
       "      <td>1</td>\n",
       "    </tr>\n",
       "    <tr>\n",
       "      <th>2</th>\n",
       "      <td>0</td>\n",
       "    </tr>\n",
       "    <tr>\n",
       "      <th>3</th>\n",
       "      <td>1</td>\n",
       "    </tr>\n",
       "    <tr>\n",
       "      <th>4</th>\n",
       "      <td>1</td>\n",
       "    </tr>\n",
       "    <tr>\n",
       "      <th>...</th>\n",
       "      <td>...</td>\n",
       "    </tr>\n",
       "    <tr>\n",
       "      <th>540</th>\n",
       "      <td>0</td>\n",
       "    </tr>\n",
       "    <tr>\n",
       "      <th>541</th>\n",
       "      <td>0</td>\n",
       "    </tr>\n",
       "    <tr>\n",
       "      <th>542</th>\n",
       "      <td>0</td>\n",
       "    </tr>\n",
       "    <tr>\n",
       "      <th>543</th>\n",
       "      <td>0</td>\n",
       "    </tr>\n",
       "    <tr>\n",
       "      <th>544</th>\n",
       "      <td>0</td>\n",
       "    </tr>\n",
       "  </tbody>\n",
       "</table>\n",
       "<p>545 rows × 1 columns</p>\n",
       "</div>"
      ],
      "text/plain": [
       "     yes\n",
       "0      1\n",
       "1      1\n",
       "2      0\n",
       "3      1\n",
       "4      1\n",
       "..   ...\n",
       "540    0\n",
       "541    0\n",
       "542    0\n",
       "543    0\n",
       "544    0\n",
       "\n",
       "[545 rows x 1 columns]"
      ]
     },
     "execution_count": 28,
     "metadata": {},
     "output_type": "execute_result"
    }
   ],
   "source": [
    "dum_airconditioning = pd.get_dummies(houses['airconditioning'],drop_first=True)\n",
    "dum_airconditioning"
   ]
  },
  {
   "cell_type": "code",
   "execution_count": 29,
   "id": "8f10492f",
   "metadata": {
    "execution": {
     "iopub.execute_input": "2023-08-15T09:20:27.020587Z",
     "iopub.status.busy": "2023-08-15T09:20:27.019050Z",
     "iopub.status.idle": "2023-08-15T09:20:27.034807Z",
     "shell.execute_reply": "2023-08-15T09:20:27.033478Z"
    },
    "papermill": {
     "duration": 0.057527,
     "end_time": "2023-08-15T09:20:27.039653",
     "exception": false,
     "start_time": "2023-08-15T09:20:26.982126",
     "status": "completed"
    },
    "tags": []
   },
   "outputs": [
    {
     "data": {
      "text/html": [
       "<div>\n",
       "<style scoped>\n",
       "    .dataframe tbody tr th:only-of-type {\n",
       "        vertical-align: middle;\n",
       "    }\n",
       "\n",
       "    .dataframe tbody tr th {\n",
       "        vertical-align: top;\n",
       "    }\n",
       "\n",
       "    .dataframe thead th {\n",
       "        text-align: right;\n",
       "    }\n",
       "</style>\n",
       "<table border=\"1\" class=\"dataframe\">\n",
       "  <thead>\n",
       "    <tr style=\"text-align: right;\">\n",
       "      <th></th>\n",
       "      <th>Airconditioning</th>\n",
       "    </tr>\n",
       "  </thead>\n",
       "  <tbody>\n",
       "    <tr>\n",
       "      <th>0</th>\n",
       "      <td>1</td>\n",
       "    </tr>\n",
       "    <tr>\n",
       "      <th>1</th>\n",
       "      <td>1</td>\n",
       "    </tr>\n",
       "    <tr>\n",
       "      <th>2</th>\n",
       "      <td>0</td>\n",
       "    </tr>\n",
       "    <tr>\n",
       "      <th>3</th>\n",
       "      <td>1</td>\n",
       "    </tr>\n",
       "    <tr>\n",
       "      <th>4</th>\n",
       "      <td>1</td>\n",
       "    </tr>\n",
       "    <tr>\n",
       "      <th>...</th>\n",
       "      <td>...</td>\n",
       "    </tr>\n",
       "    <tr>\n",
       "      <th>540</th>\n",
       "      <td>0</td>\n",
       "    </tr>\n",
       "    <tr>\n",
       "      <th>541</th>\n",
       "      <td>0</td>\n",
       "    </tr>\n",
       "    <tr>\n",
       "      <th>542</th>\n",
       "      <td>0</td>\n",
       "    </tr>\n",
       "    <tr>\n",
       "      <th>543</th>\n",
       "      <td>0</td>\n",
       "    </tr>\n",
       "    <tr>\n",
       "      <th>544</th>\n",
       "      <td>0</td>\n",
       "    </tr>\n",
       "  </tbody>\n",
       "</table>\n",
       "<p>545 rows × 1 columns</p>\n",
       "</div>"
      ],
      "text/plain": [
       "     Airconditioning\n",
       "0                  1\n",
       "1                  1\n",
       "2                  0\n",
       "3                  1\n",
       "4                  1\n",
       "..               ...\n",
       "540                0\n",
       "541                0\n",
       "542                0\n",
       "543                0\n",
       "544                0\n",
       "\n",
       "[545 rows x 1 columns]"
      ]
     },
     "execution_count": 29,
     "metadata": {},
     "output_type": "execute_result"
    }
   ],
   "source": [
    "dum_airconditioning.rename(columns={'yes':'Airconditioning'},inplace=True)\n",
    "dum_airconditioning"
   ]
  },
  {
   "cell_type": "code",
   "execution_count": 30,
   "id": "1d79cba3",
   "metadata": {
    "execution": {
     "iopub.execute_input": "2023-08-15T09:20:27.126152Z",
     "iopub.status.busy": "2023-08-15T09:20:27.125467Z",
     "iopub.status.idle": "2023-08-15T09:20:27.148597Z",
     "shell.execute_reply": "2023-08-15T09:20:27.147789Z"
    },
    "papermill": {
     "duration": 0.067427,
     "end_time": "2023-08-15T09:20:27.150757",
     "exception": false,
     "start_time": "2023-08-15T09:20:27.083330",
     "status": "completed"
    },
    "tags": []
   },
   "outputs": [
    {
     "data": {
      "text/html": [
       "<div>\n",
       "<style scoped>\n",
       "    .dataframe tbody tr th:only-of-type {\n",
       "        vertical-align: middle;\n",
       "    }\n",
       "\n",
       "    .dataframe tbody tr th {\n",
       "        vertical-align: top;\n",
       "    }\n",
       "\n",
       "    .dataframe thead th {\n",
       "        text-align: right;\n",
       "    }\n",
       "</style>\n",
       "<table border=\"1\" class=\"dataframe\">\n",
       "  <thead>\n",
       "    <tr style=\"text-align: right;\">\n",
       "      <th></th>\n",
       "      <th>price</th>\n",
       "      <th>area</th>\n",
       "      <th>bedrooms</th>\n",
       "      <th>bathrooms</th>\n",
       "      <th>stories</th>\n",
       "      <th>mainroad</th>\n",
       "      <th>guestroom</th>\n",
       "      <th>basement</th>\n",
       "      <th>hotwaterheating</th>\n",
       "      <th>airconditioning</th>\n",
       "      <th>...</th>\n",
       "      <th>furnishingstatus</th>\n",
       "      <th>Basement</th>\n",
       "      <th>Airconditioning</th>\n",
       "      <th>furnished</th>\n",
       "      <th>semi-furnished</th>\n",
       "      <th>unfurnished</th>\n",
       "      <th>Guestroom</th>\n",
       "      <th>Hotwaterheating</th>\n",
       "      <th>Mainroad</th>\n",
       "      <th>Prefarea</th>\n",
       "    </tr>\n",
       "  </thead>\n",
       "  <tbody>\n",
       "    <tr>\n",
       "      <th>0</th>\n",
       "      <td>13300000.0</td>\n",
       "      <td>7420.0</td>\n",
       "      <td>4</td>\n",
       "      <td>2</td>\n",
       "      <td>3</td>\n",
       "      <td>yes</td>\n",
       "      <td>no</td>\n",
       "      <td>no</td>\n",
       "      <td>no</td>\n",
       "      <td>yes</td>\n",
       "      <td>...</td>\n",
       "      <td>furnished</td>\n",
       "      <td>0</td>\n",
       "      <td>1</td>\n",
       "      <td>1</td>\n",
       "      <td>0</td>\n",
       "      <td>0</td>\n",
       "      <td>0</td>\n",
       "      <td>0</td>\n",
       "      <td>1</td>\n",
       "      <td>1</td>\n",
       "    </tr>\n",
       "    <tr>\n",
       "      <th>1</th>\n",
       "      <td>12250000.0</td>\n",
       "      <td>8960.0</td>\n",
       "      <td>4</td>\n",
       "      <td>4</td>\n",
       "      <td>4</td>\n",
       "      <td>yes</td>\n",
       "      <td>no</td>\n",
       "      <td>no</td>\n",
       "      <td>no</td>\n",
       "      <td>yes</td>\n",
       "      <td>...</td>\n",
       "      <td>furnished</td>\n",
       "      <td>0</td>\n",
       "      <td>1</td>\n",
       "      <td>1</td>\n",
       "      <td>0</td>\n",
       "      <td>0</td>\n",
       "      <td>0</td>\n",
       "      <td>0</td>\n",
       "      <td>1</td>\n",
       "      <td>0</td>\n",
       "    </tr>\n",
       "  </tbody>\n",
       "</table>\n",
       "<p>2 rows × 22 columns</p>\n",
       "</div>"
      ],
      "text/plain": [
       "        price    area  bedrooms  bathrooms  stories mainroad guestroom  \\\n",
       "0  13300000.0  7420.0         4          2        3      yes        no   \n",
       "1  12250000.0  8960.0         4          4        4      yes        no   \n",
       "\n",
       "  basement hotwaterheating airconditioning  ...  furnishingstatus Basement  \\\n",
       "0       no              no             yes  ...         furnished        0   \n",
       "1       no              no             yes  ...         furnished        0   \n",
       "\n",
       "  Airconditioning  furnished  semi-furnished  unfurnished  Guestroom  \\\n",
       "0               1          1               0            0          0   \n",
       "1               1          1               0            0          0   \n",
       "\n",
       "   Hotwaterheating  Mainroad  Prefarea  \n",
       "0                0         1         1  \n",
       "1                0         1         0  \n",
       "\n",
       "[2 rows x 22 columns]"
      ]
     },
     "execution_count": 30,
     "metadata": {},
     "output_type": "execute_result"
    }
   ],
   "source": [
    "houses = pd.concat([houses,dum_basement,dum_airconditioning,dum_furnishingstatus,dum_guestroom,dum_hotwaterheating,dum_mainroad,dum_prefarea],axis=1)\n",
    "houses.head(2)"
   ]
  },
  {
   "cell_type": "code",
   "execution_count": 31,
   "id": "fc2934df",
   "metadata": {
    "execution": {
     "iopub.execute_input": "2023-08-15T09:20:27.222606Z",
     "iopub.status.busy": "2023-08-15T09:20:27.221982Z",
     "iopub.status.idle": "2023-08-15T09:20:27.228159Z",
     "shell.execute_reply": "2023-08-15T09:20:27.227088Z"
    },
    "papermill": {
     "duration": 0.044384,
     "end_time": "2023-08-15T09:20:27.230299",
     "exception": false,
     "start_time": "2023-08-15T09:20:27.185915",
     "status": "completed"
    },
    "tags": []
   },
   "outputs": [
    {
     "data": {
      "text/plain": [
       "Index(['price', 'area', 'bedrooms', 'bathrooms', 'stories', 'mainroad',\n",
       "       'guestroom', 'basement', 'hotwaterheating', 'airconditioning',\n",
       "       'parking', 'prefarea', 'furnishingstatus', 'Basement',\n",
       "       'Airconditioning', 'furnished', 'semi-furnished', 'unfurnished',\n",
       "       'Guestroom', 'Hotwaterheating', 'Mainroad', 'Prefarea'],\n",
       "      dtype='object')"
      ]
     },
     "execution_count": 31,
     "metadata": {},
     "output_type": "execute_result"
    }
   ],
   "source": [
    "houses.columns"
   ]
  },
  {
   "cell_type": "code",
   "execution_count": 32,
   "id": "6bcb3515",
   "metadata": {
    "execution": {
     "iopub.execute_input": "2023-08-15T09:20:27.302432Z",
     "iopub.status.busy": "2023-08-15T09:20:27.301774Z",
     "iopub.status.idle": "2023-08-15T09:20:27.308002Z",
     "shell.execute_reply": "2023-08-15T09:20:27.307020Z"
    },
    "papermill": {
     "duration": 0.045419,
     "end_time": "2023-08-15T09:20:27.310544",
     "exception": false,
     "start_time": "2023-08-15T09:20:27.265125",
     "status": "completed"
    },
    "tags": []
   },
   "outputs": [],
   "source": [
    "houses.drop(columns=['mainroad','guestroom','hotwaterheating','airconditioning','prefarea','furnishingstatus','basement'],axis=1,inplace=True)"
   ]
  },
  {
   "cell_type": "code",
   "execution_count": 33,
   "id": "d56a33ac",
   "metadata": {
    "execution": {
     "iopub.execute_input": "2023-08-15T09:20:27.387547Z",
     "iopub.status.busy": "2023-08-15T09:20:27.386814Z",
     "iopub.status.idle": "2023-08-15T09:20:27.402484Z",
     "shell.execute_reply": "2023-08-15T09:20:27.401381Z"
    },
    "papermill": {
     "duration": 0.058882,
     "end_time": "2023-08-15T09:20:27.404853",
     "exception": false,
     "start_time": "2023-08-15T09:20:27.345971",
     "status": "completed"
    },
    "tags": []
   },
   "outputs": [
    {
     "data": {
      "text/html": [
       "<div>\n",
       "<style scoped>\n",
       "    .dataframe tbody tr th:only-of-type {\n",
       "        vertical-align: middle;\n",
       "    }\n",
       "\n",
       "    .dataframe tbody tr th {\n",
       "        vertical-align: top;\n",
       "    }\n",
       "\n",
       "    .dataframe thead th {\n",
       "        text-align: right;\n",
       "    }\n",
       "</style>\n",
       "<table border=\"1\" class=\"dataframe\">\n",
       "  <thead>\n",
       "    <tr style=\"text-align: right;\">\n",
       "      <th></th>\n",
       "      <th>price</th>\n",
       "      <th>area</th>\n",
       "      <th>bedrooms</th>\n",
       "      <th>bathrooms</th>\n",
       "      <th>stories</th>\n",
       "      <th>parking</th>\n",
       "      <th>Basement</th>\n",
       "      <th>Airconditioning</th>\n",
       "      <th>furnished</th>\n",
       "      <th>semi-furnished</th>\n",
       "      <th>unfurnished</th>\n",
       "      <th>Guestroom</th>\n",
       "      <th>Hotwaterheating</th>\n",
       "      <th>Mainroad</th>\n",
       "      <th>Prefarea</th>\n",
       "    </tr>\n",
       "  </thead>\n",
       "  <tbody>\n",
       "    <tr>\n",
       "      <th>0</th>\n",
       "      <td>13300000.0</td>\n",
       "      <td>7420.0</td>\n",
       "      <td>4</td>\n",
       "      <td>2</td>\n",
       "      <td>3</td>\n",
       "      <td>2</td>\n",
       "      <td>0</td>\n",
       "      <td>1</td>\n",
       "      <td>1</td>\n",
       "      <td>0</td>\n",
       "      <td>0</td>\n",
       "      <td>0</td>\n",
       "      <td>0</td>\n",
       "      <td>1</td>\n",
       "      <td>1</td>\n",
       "    </tr>\n",
       "    <tr>\n",
       "      <th>1</th>\n",
       "      <td>12250000.0</td>\n",
       "      <td>8960.0</td>\n",
       "      <td>4</td>\n",
       "      <td>4</td>\n",
       "      <td>4</td>\n",
       "      <td>3</td>\n",
       "      <td>0</td>\n",
       "      <td>1</td>\n",
       "      <td>1</td>\n",
       "      <td>0</td>\n",
       "      <td>0</td>\n",
       "      <td>0</td>\n",
       "      <td>0</td>\n",
       "      <td>1</td>\n",
       "      <td>0</td>\n",
       "    </tr>\n",
       "  </tbody>\n",
       "</table>\n",
       "</div>"
      ],
      "text/plain": [
       "        price    area  bedrooms  bathrooms  stories  parking  Basement  \\\n",
       "0  13300000.0  7420.0         4          2        3        2         0   \n",
       "1  12250000.0  8960.0         4          4        4        3         0   \n",
       "\n",
       "   Airconditioning  furnished  semi-furnished  unfurnished  Guestroom  \\\n",
       "0                1          1               0            0          0   \n",
       "1                1          1               0            0          0   \n",
       "\n",
       "   Hotwaterheating  Mainroad  Prefarea  \n",
       "0                0         1         1  \n",
       "1                0         1         0  "
      ]
     },
     "execution_count": 33,
     "metadata": {},
     "output_type": "execute_result"
    }
   ],
   "source": [
    "houses.head(2)"
   ]
  },
  {
   "cell_type": "markdown",
   "id": "4e035471",
   "metadata": {
    "papermill": {
     "duration": 0.034857,
     "end_time": "2023-08-15T09:20:27.474936",
     "exception": false,
     "start_time": "2023-08-15T09:20:27.440079",
     "status": "completed"
    },
    "tags": []
   },
   "source": [
    "# test / train split data"
   ]
  },
  {
   "cell_type": "code",
   "execution_count": 34,
   "id": "2e9b957a",
   "metadata": {
    "execution": {
     "iopub.execute_input": "2023-08-15T09:20:27.547084Z",
     "iopub.status.busy": "2023-08-15T09:20:27.546300Z",
     "iopub.status.idle": "2023-08-15T09:20:27.553735Z",
     "shell.execute_reply": "2023-08-15T09:20:27.552614Z"
    },
    "papermill": {
     "duration": 0.046245,
     "end_time": "2023-08-15T09:20:27.556093",
     "exception": false,
     "start_time": "2023-08-15T09:20:27.509848",
     "status": "completed"
    },
    "tags": []
   },
   "outputs": [
    {
     "data": {
      "text/plain": [
       "Index(['price', 'area', 'bedrooms', 'bathrooms', 'stories', 'parking',\n",
       "       'Basement', 'Airconditioning', 'furnished', 'semi-furnished',\n",
       "       'unfurnished', 'Guestroom', 'Hotwaterheating', 'Mainroad', 'Prefarea'],\n",
       "      dtype='object')"
      ]
     },
     "execution_count": 34,
     "metadata": {},
     "output_type": "execute_result"
    }
   ],
   "source": [
    "houses.columns"
   ]
  },
  {
   "cell_type": "code",
   "execution_count": 35,
   "id": "88a0871e",
   "metadata": {
    "execution": {
     "iopub.execute_input": "2023-08-15T09:20:27.628291Z",
     "iopub.status.busy": "2023-08-15T09:20:27.627899Z",
     "iopub.status.idle": "2023-08-15T09:20:27.772496Z",
     "shell.execute_reply": "2023-08-15T09:20:27.771360Z"
    },
    "papermill": {
     "duration": 0.183939,
     "end_time": "2023-08-15T09:20:27.775233",
     "exception": false,
     "start_time": "2023-08-15T09:20:27.591294",
     "status": "completed"
    },
    "tags": []
   },
   "outputs": [],
   "source": [
    "from sklearn.model_selection import train_test_split"
   ]
  },
  {
   "cell_type": "code",
   "execution_count": 36,
   "id": "cfd164ed",
   "metadata": {
    "execution": {
     "iopub.execute_input": "2023-08-15T09:20:27.848455Z",
     "iopub.status.busy": "2023-08-15T09:20:27.847222Z",
     "iopub.status.idle": "2023-08-15T09:20:27.853167Z",
     "shell.execute_reply": "2023-08-15T09:20:27.852183Z"
    },
    "papermill": {
     "duration": 0.044991,
     "end_time": "2023-08-15T09:20:27.855535",
     "exception": false,
     "start_time": "2023-08-15T09:20:27.810544",
     "status": "completed"
    },
    "tags": []
   },
   "outputs": [],
   "source": [
    "y = houses['price']"
   ]
  },
  {
   "cell_type": "code",
   "execution_count": 37,
   "id": "2da2f655",
   "metadata": {
    "execution": {
     "iopub.execute_input": "2023-08-15T09:20:27.927661Z",
     "iopub.status.busy": "2023-08-15T09:20:27.927286Z",
     "iopub.status.idle": "2023-08-15T09:20:27.933962Z",
     "shell.execute_reply": "2023-08-15T09:20:27.932821Z"
    },
    "papermill": {
     "duration": 0.045712,
     "end_time": "2023-08-15T09:20:27.936427",
     "exception": false,
     "start_time": "2023-08-15T09:20:27.890715",
     "status": "completed"
    },
    "tags": []
   },
   "outputs": [],
   "source": [
    "X = houses.drop(columns='price',axis=1)"
   ]
  },
  {
   "cell_type": "code",
   "execution_count": 38,
   "id": "7472e736",
   "metadata": {
    "execution": {
     "iopub.execute_input": "2023-08-15T09:20:28.009256Z",
     "iopub.status.busy": "2023-08-15T09:20:28.008873Z",
     "iopub.status.idle": "2023-08-15T09:20:28.016807Z",
     "shell.execute_reply": "2023-08-15T09:20:28.015810Z"
    },
    "papermill": {
     "duration": 0.047518,
     "end_time": "2023-08-15T09:20:28.019134",
     "exception": false,
     "start_time": "2023-08-15T09:20:27.971616",
     "status": "completed"
    },
    "tags": []
   },
   "outputs": [],
   "source": [
    "X_train, X_test, y_train, y_test = train_test_split(X, y, test_size=0.20, random_state=0)"
   ]
  },
  {
   "cell_type": "code",
   "execution_count": 39,
   "id": "d32fde8a",
   "metadata": {
    "execution": {
     "iopub.execute_input": "2023-08-15T09:20:28.095313Z",
     "iopub.status.busy": "2023-08-15T09:20:28.094944Z",
     "iopub.status.idle": "2023-08-15T09:20:28.102924Z",
     "shell.execute_reply": "2023-08-15T09:20:28.101870Z"
    },
    "papermill": {
     "duration": 0.048005,
     "end_time": "2023-08-15T09:20:28.105541",
     "exception": false,
     "start_time": "2023-08-15T09:20:28.057536",
     "status": "completed"
    },
    "tags": []
   },
   "outputs": [
    {
     "data": {
      "text/plain": [
       "((436, 14), (436,), (109, 14), (109,))"
      ]
     },
     "execution_count": 39,
     "metadata": {},
     "output_type": "execute_result"
    }
   ],
   "source": [
    "X_train.shape,y_train.shape,X_test.shape,y_test.shape"
   ]
  },
  {
   "cell_type": "markdown",
   "id": "b6e57001",
   "metadata": {
    "papermill": {
     "duration": 0.035332,
     "end_time": "2023-08-15T09:20:28.176494",
     "exception": false,
     "start_time": "2023-08-15T09:20:28.141162",
     "status": "completed"
    },
    "tags": []
   },
   "source": [
    "# building model"
   ]
  },
  {
   "cell_type": "markdown",
   "id": "b1f491b1",
   "metadata": {
    "papermill": {
     "duration": 0.035071,
     "end_time": "2023-08-15T09:20:28.246931",
     "exception": false,
     "start_time": "2023-08-15T09:20:28.211860",
     "status": "completed"
    },
    "tags": []
   },
   "source": [
    "# LogisticRegression"
   ]
  },
  {
   "cell_type": "code",
   "execution_count": 40,
   "id": "34d27401",
   "metadata": {
    "execution": {
     "iopub.execute_input": "2023-08-15T09:20:28.319234Z",
     "iopub.status.busy": "2023-08-15T09:20:28.318794Z",
     "iopub.status.idle": "2023-08-15T09:20:28.419749Z",
     "shell.execute_reply": "2023-08-15T09:20:28.418750Z"
    },
    "papermill": {
     "duration": 0.140233,
     "end_time": "2023-08-15T09:20:28.422368",
     "exception": false,
     "start_time": "2023-08-15T09:20:28.282135",
     "status": "completed"
    },
    "tags": []
   },
   "outputs": [],
   "source": [
    "from sklearn.linear_model import LogisticRegression"
   ]
  },
  {
   "cell_type": "code",
   "execution_count": 41,
   "id": "11ea6da2",
   "metadata": {
    "execution": {
     "iopub.execute_input": "2023-08-15T09:20:28.494806Z",
     "iopub.status.busy": "2023-08-15T09:20:28.494421Z",
     "iopub.status.idle": "2023-08-15T09:20:28.501553Z",
     "shell.execute_reply": "2023-08-15T09:20:28.500285Z"
    },
    "papermill": {
     "duration": 0.046125,
     "end_time": "2023-08-15T09:20:28.503915",
     "exception": false,
     "start_time": "2023-08-15T09:20:28.457790",
     "status": "completed"
    },
    "tags": []
   },
   "outputs": [],
   "source": [
    "model = LogisticRegression(max_iter=5000)"
   ]
  },
  {
   "cell_type": "code",
   "execution_count": 42,
   "id": "3f0a7c89",
   "metadata": {
    "execution": {
     "iopub.execute_input": "2023-08-15T09:20:28.576880Z",
     "iopub.status.busy": "2023-08-15T09:20:28.576449Z",
     "iopub.status.idle": "2023-08-15T09:20:33.267561Z",
     "shell.execute_reply": "2023-08-15T09:20:33.266478Z"
    },
    "papermill": {
     "duration": 4.732043,
     "end_time": "2023-08-15T09:20:33.271415",
     "exception": false,
     "start_time": "2023-08-15T09:20:28.539372",
     "status": "completed"
    },
    "tags": []
   },
   "outputs": [
    {
     "data": {
      "text/html": [
       "<style>#sk-container-id-1 {color: black;background-color: white;}#sk-container-id-1 pre{padding: 0;}#sk-container-id-1 div.sk-toggleable {background-color: white;}#sk-container-id-1 label.sk-toggleable__label {cursor: pointer;display: block;width: 100%;margin-bottom: 0;padding: 0.3em;box-sizing: border-box;text-align: center;}#sk-container-id-1 label.sk-toggleable__label-arrow:before {content: \"▸\";float: left;margin-right: 0.25em;color: #696969;}#sk-container-id-1 label.sk-toggleable__label-arrow:hover:before {color: black;}#sk-container-id-1 div.sk-estimator:hover label.sk-toggleable__label-arrow:before {color: black;}#sk-container-id-1 div.sk-toggleable__content {max-height: 0;max-width: 0;overflow: hidden;text-align: left;background-color: #f0f8ff;}#sk-container-id-1 div.sk-toggleable__content pre {margin: 0.2em;color: black;border-radius: 0.25em;background-color: #f0f8ff;}#sk-container-id-1 input.sk-toggleable__control:checked~div.sk-toggleable__content {max-height: 200px;max-width: 100%;overflow: auto;}#sk-container-id-1 input.sk-toggleable__control:checked~label.sk-toggleable__label-arrow:before {content: \"▾\";}#sk-container-id-1 div.sk-estimator input.sk-toggleable__control:checked~label.sk-toggleable__label {background-color: #d4ebff;}#sk-container-id-1 div.sk-label input.sk-toggleable__control:checked~label.sk-toggleable__label {background-color: #d4ebff;}#sk-container-id-1 input.sk-hidden--visually {border: 0;clip: rect(1px 1px 1px 1px);clip: rect(1px, 1px, 1px, 1px);height: 1px;margin: -1px;overflow: hidden;padding: 0;position: absolute;width: 1px;}#sk-container-id-1 div.sk-estimator {font-family: monospace;background-color: #f0f8ff;border: 1px dotted black;border-radius: 0.25em;box-sizing: border-box;margin-bottom: 0.5em;}#sk-container-id-1 div.sk-estimator:hover {background-color: #d4ebff;}#sk-container-id-1 div.sk-parallel-item::after {content: \"\";width: 100%;border-bottom: 1px solid gray;flex-grow: 1;}#sk-container-id-1 div.sk-label:hover label.sk-toggleable__label {background-color: #d4ebff;}#sk-container-id-1 div.sk-serial::before {content: \"\";position: absolute;border-left: 1px solid gray;box-sizing: border-box;top: 0;bottom: 0;left: 50%;z-index: 0;}#sk-container-id-1 div.sk-serial {display: flex;flex-direction: column;align-items: center;background-color: white;padding-right: 0.2em;padding-left: 0.2em;position: relative;}#sk-container-id-1 div.sk-item {position: relative;z-index: 1;}#sk-container-id-1 div.sk-parallel {display: flex;align-items: stretch;justify-content: center;background-color: white;position: relative;}#sk-container-id-1 div.sk-item::before, #sk-container-id-1 div.sk-parallel-item::before {content: \"\";position: absolute;border-left: 1px solid gray;box-sizing: border-box;top: 0;bottom: 0;left: 50%;z-index: -1;}#sk-container-id-1 div.sk-parallel-item {display: flex;flex-direction: column;z-index: 1;position: relative;background-color: white;}#sk-container-id-1 div.sk-parallel-item:first-child::after {align-self: flex-end;width: 50%;}#sk-container-id-1 div.sk-parallel-item:last-child::after {align-self: flex-start;width: 50%;}#sk-container-id-1 div.sk-parallel-item:only-child::after {width: 0;}#sk-container-id-1 div.sk-dashed-wrapped {border: 1px dashed gray;margin: 0 0.4em 0.5em 0.4em;box-sizing: border-box;padding-bottom: 0.4em;background-color: white;}#sk-container-id-1 div.sk-label label {font-family: monospace;font-weight: bold;display: inline-block;line-height: 1.2em;}#sk-container-id-1 div.sk-label-container {text-align: center;}#sk-container-id-1 div.sk-container {/* jupyter's `normalize.less` sets `[hidden] { display: none; }` but bootstrap.min.css set `[hidden] { display: none !important; }` so we also need the `!important` here to be able to override the default hidden behavior on the sphinx rendered scikit-learn.org. See: https://github.com/scikit-learn/scikit-learn/issues/21755 */display: inline-block !important;position: relative;}#sk-container-id-1 div.sk-text-repr-fallback {display: none;}</style><div id=\"sk-container-id-1\" class=\"sk-top-container\"><div class=\"sk-text-repr-fallback\"><pre>LogisticRegression(max_iter=5000)</pre><b>In a Jupyter environment, please rerun this cell to show the HTML representation or trust the notebook. <br />On GitHub, the HTML representation is unable to render, please try loading this page with nbviewer.org.</b></div><div class=\"sk-container\" hidden><div class=\"sk-item\"><div class=\"sk-estimator sk-toggleable\"><input class=\"sk-toggleable__control sk-hidden--visually\" id=\"sk-estimator-id-1\" type=\"checkbox\" checked><label for=\"sk-estimator-id-1\" class=\"sk-toggleable__label sk-toggleable__label-arrow\">LogisticRegression</label><div class=\"sk-toggleable__content\"><pre>LogisticRegression(max_iter=5000)</pre></div></div></div></div></div>"
      ],
      "text/plain": [
       "LogisticRegression(max_iter=5000)"
      ]
     },
     "execution_count": 42,
     "metadata": {},
     "output_type": "execute_result"
    }
   ],
   "source": [
    "model.fit(X_train,y_train)"
   ]
  },
  {
   "cell_type": "code",
   "execution_count": 43,
   "id": "e2dc040b",
   "metadata": {
    "execution": {
     "iopub.execute_input": "2023-08-15T09:20:33.407026Z",
     "iopub.status.busy": "2023-08-15T09:20:33.406431Z",
     "iopub.status.idle": "2023-08-15T09:20:33.420249Z",
     "shell.execute_reply": "2023-08-15T09:20:33.418701Z"
    },
    "papermill": {
     "duration": 0.061715,
     "end_time": "2023-08-15T09:20:33.424258",
     "exception": false,
     "start_time": "2023-08-15T09:20:33.362543",
     "status": "completed"
    },
    "tags": []
   },
   "outputs": [
    {
     "data": {
      "text/plain": [
       "(109,)"
      ]
     },
     "execution_count": 43,
     "metadata": {},
     "output_type": "execute_result"
    }
   ],
   "source": [
    "y_predict = model.predict(X_test)\n",
    "y_predict.shape"
   ]
  },
  {
   "cell_type": "code",
   "execution_count": 44,
   "id": "c97aa49f",
   "metadata": {
    "execution": {
     "iopub.execute_input": "2023-08-15T09:20:33.556302Z",
     "iopub.status.busy": "2023-08-15T09:20:33.555884Z",
     "iopub.status.idle": "2023-08-15T09:20:33.570158Z",
     "shell.execute_reply": "2023-08-15T09:20:33.568677Z"
    },
    "papermill": {
     "duration": 0.073024,
     "end_time": "2023-08-15T09:20:33.574146",
     "exception": false,
     "start_time": "2023-08-15T09:20:33.501122",
     "status": "completed"
    },
    "tags": []
   },
   "outputs": [
    {
     "data": {
      "text/plain": [
       "0.045871559633027525"
      ]
     },
     "execution_count": 44,
     "metadata": {},
     "output_type": "execute_result"
    }
   ],
   "source": [
    "model.score(X_test,y_test)"
   ]
  },
  {
   "cell_type": "code",
   "execution_count": 45,
   "id": "3388ba9e",
   "metadata": {
    "execution": {
     "iopub.execute_input": "2023-08-15T09:20:33.704808Z",
     "iopub.status.busy": "2023-08-15T09:20:33.704398Z",
     "iopub.status.idle": "2023-08-15T09:20:33.709394Z",
     "shell.execute_reply": "2023-08-15T09:20:33.708393Z"
    },
    "papermill": {
     "duration": 0.061103,
     "end_time": "2023-08-15T09:20:33.711401",
     "exception": false,
     "start_time": "2023-08-15T09:20:33.650298",
     "status": "completed"
    },
    "tags": []
   },
   "outputs": [],
   "source": [
    "from sklearn.metrics import accuracy_score"
   ]
  },
  {
   "cell_type": "code",
   "execution_count": 46,
   "id": "98aa8577",
   "metadata": {
    "execution": {
     "iopub.execute_input": "2023-08-15T09:20:33.786114Z",
     "iopub.status.busy": "2023-08-15T09:20:33.785338Z",
     "iopub.status.idle": "2023-08-15T09:20:33.794171Z",
     "shell.execute_reply": "2023-08-15T09:20:33.793090Z"
    },
    "papermill": {
     "duration": 0.048864,
     "end_time": "2023-08-15T09:20:33.796408",
     "exception": false,
     "start_time": "2023-08-15T09:20:33.747544",
     "status": "completed"
    },
    "tags": []
   },
   "outputs": [
    {
     "data": {
      "text/plain": [
       "0.045871559633027525"
      ]
     },
     "execution_count": 46,
     "metadata": {},
     "output_type": "execute_result"
    }
   ],
   "source": [
    "accuracy_score(y_test,y_predict)"
   ]
  },
  {
   "cell_type": "code",
   "execution_count": 47,
   "id": "381f8b10",
   "metadata": {
    "execution": {
     "iopub.execute_input": "2023-08-15T09:20:33.872681Z",
     "iopub.status.busy": "2023-08-15T09:20:33.871613Z",
     "iopub.status.idle": "2023-08-15T09:20:33.876294Z",
     "shell.execute_reply": "2023-08-15T09:20:33.875483Z"
    },
    "papermill": {
     "duration": 0.045069,
     "end_time": "2023-08-15T09:20:33.878453",
     "exception": false,
     "start_time": "2023-08-15T09:20:33.833384",
     "status": "completed"
    },
    "tags": []
   },
   "outputs": [],
   "source": [
    "from sklearn.metrics import mean_absolute_error"
   ]
  },
  {
   "cell_type": "code",
   "execution_count": 48,
   "id": "fc49de87",
   "metadata": {
    "execution": {
     "iopub.execute_input": "2023-08-15T09:20:33.952970Z",
     "iopub.status.busy": "2023-08-15T09:20:33.952498Z",
     "iopub.status.idle": "2023-08-15T09:20:33.960355Z",
     "shell.execute_reply": "2023-08-15T09:20:33.959196Z"
    },
    "papermill": {
     "duration": 0.047645,
     "end_time": "2023-08-15T09:20:33.962579",
     "exception": false,
     "start_time": "2023-08-15T09:20:33.914934",
     "status": "completed"
    },
    "tags": []
   },
   "outputs": [
    {
     "data": {
      "text/plain": [
       "1028711.0091743119"
      ]
     },
     "execution_count": 48,
     "metadata": {},
     "output_type": "execute_result"
    }
   ],
   "source": [
    "mae = mean_absolute_error(y_test,y_predict)\n",
    "mae"
   ]
  },
  {
   "cell_type": "markdown",
   "id": "763170aa",
   "metadata": {
    "papermill": {
     "duration": 0.036717,
     "end_time": "2023-08-15T09:20:34.035680",
     "exception": false,
     "start_time": "2023-08-15T09:20:33.998963",
     "status": "completed"
    },
    "tags": []
   },
   "source": [
    "# SVC"
   ]
  },
  {
   "cell_type": "code",
   "execution_count": 49,
   "id": "eb42a8ce",
   "metadata": {
    "execution": {
     "iopub.execute_input": "2023-08-15T09:20:34.112755Z",
     "iopub.status.busy": "2023-08-15T09:20:34.112017Z",
     "iopub.status.idle": "2023-08-15T09:20:34.116434Z",
     "shell.execute_reply": "2023-08-15T09:20:34.115636Z"
    },
    "papermill": {
     "duration": 0.044041,
     "end_time": "2023-08-15T09:20:34.118544",
     "exception": false,
     "start_time": "2023-08-15T09:20:34.074503",
     "status": "completed"
    },
    "tags": []
   },
   "outputs": [],
   "source": [
    "from sklearn.svm import SVC"
   ]
  },
  {
   "cell_type": "code",
   "execution_count": 50,
   "id": "2fdf47b6",
   "metadata": {
    "execution": {
     "iopub.execute_input": "2023-08-15T09:20:34.193084Z",
     "iopub.status.busy": "2023-08-15T09:20:34.192327Z",
     "iopub.status.idle": "2023-08-15T09:20:34.196474Z",
     "shell.execute_reply": "2023-08-15T09:20:34.195711Z"
    },
    "papermill": {
     "duration": 0.043631,
     "end_time": "2023-08-15T09:20:34.198418",
     "exception": false,
     "start_time": "2023-08-15T09:20:34.154787",
     "status": "completed"
    },
    "tags": []
   },
   "outputs": [],
   "source": [
    "model = SVC()"
   ]
  },
  {
   "cell_type": "code",
   "execution_count": 51,
   "id": "fb12738f",
   "metadata": {
    "execution": {
     "iopub.execute_input": "2023-08-15T09:20:34.272975Z",
     "iopub.status.busy": "2023-08-15T09:20:34.272239Z",
     "iopub.status.idle": "2023-08-15T09:20:34.374420Z",
     "shell.execute_reply": "2023-08-15T09:20:34.373584Z"
    },
    "papermill": {
     "duration": 0.142086,
     "end_time": "2023-08-15T09:20:34.376815",
     "exception": false,
     "start_time": "2023-08-15T09:20:34.234729",
     "status": "completed"
    },
    "tags": []
   },
   "outputs": [
    {
     "data": {
      "text/html": [
       "<style>#sk-container-id-2 {color: black;background-color: white;}#sk-container-id-2 pre{padding: 0;}#sk-container-id-2 div.sk-toggleable {background-color: white;}#sk-container-id-2 label.sk-toggleable__label {cursor: pointer;display: block;width: 100%;margin-bottom: 0;padding: 0.3em;box-sizing: border-box;text-align: center;}#sk-container-id-2 label.sk-toggleable__label-arrow:before {content: \"▸\";float: left;margin-right: 0.25em;color: #696969;}#sk-container-id-2 label.sk-toggleable__label-arrow:hover:before {color: black;}#sk-container-id-2 div.sk-estimator:hover label.sk-toggleable__label-arrow:before {color: black;}#sk-container-id-2 div.sk-toggleable__content {max-height: 0;max-width: 0;overflow: hidden;text-align: left;background-color: #f0f8ff;}#sk-container-id-2 div.sk-toggleable__content pre {margin: 0.2em;color: black;border-radius: 0.25em;background-color: #f0f8ff;}#sk-container-id-2 input.sk-toggleable__control:checked~div.sk-toggleable__content {max-height: 200px;max-width: 100%;overflow: auto;}#sk-container-id-2 input.sk-toggleable__control:checked~label.sk-toggleable__label-arrow:before {content: \"▾\";}#sk-container-id-2 div.sk-estimator input.sk-toggleable__control:checked~label.sk-toggleable__label {background-color: #d4ebff;}#sk-container-id-2 div.sk-label input.sk-toggleable__control:checked~label.sk-toggleable__label {background-color: #d4ebff;}#sk-container-id-2 input.sk-hidden--visually {border: 0;clip: rect(1px 1px 1px 1px);clip: rect(1px, 1px, 1px, 1px);height: 1px;margin: -1px;overflow: hidden;padding: 0;position: absolute;width: 1px;}#sk-container-id-2 div.sk-estimator {font-family: monospace;background-color: #f0f8ff;border: 1px dotted black;border-radius: 0.25em;box-sizing: border-box;margin-bottom: 0.5em;}#sk-container-id-2 div.sk-estimator:hover {background-color: #d4ebff;}#sk-container-id-2 div.sk-parallel-item::after {content: \"\";width: 100%;border-bottom: 1px solid gray;flex-grow: 1;}#sk-container-id-2 div.sk-label:hover label.sk-toggleable__label {background-color: #d4ebff;}#sk-container-id-2 div.sk-serial::before {content: \"\";position: absolute;border-left: 1px solid gray;box-sizing: border-box;top: 0;bottom: 0;left: 50%;z-index: 0;}#sk-container-id-2 div.sk-serial {display: flex;flex-direction: column;align-items: center;background-color: white;padding-right: 0.2em;padding-left: 0.2em;position: relative;}#sk-container-id-2 div.sk-item {position: relative;z-index: 1;}#sk-container-id-2 div.sk-parallel {display: flex;align-items: stretch;justify-content: center;background-color: white;position: relative;}#sk-container-id-2 div.sk-item::before, #sk-container-id-2 div.sk-parallel-item::before {content: \"\";position: absolute;border-left: 1px solid gray;box-sizing: border-box;top: 0;bottom: 0;left: 50%;z-index: -1;}#sk-container-id-2 div.sk-parallel-item {display: flex;flex-direction: column;z-index: 1;position: relative;background-color: white;}#sk-container-id-2 div.sk-parallel-item:first-child::after {align-self: flex-end;width: 50%;}#sk-container-id-2 div.sk-parallel-item:last-child::after {align-self: flex-start;width: 50%;}#sk-container-id-2 div.sk-parallel-item:only-child::after {width: 0;}#sk-container-id-2 div.sk-dashed-wrapped {border: 1px dashed gray;margin: 0 0.4em 0.5em 0.4em;box-sizing: border-box;padding-bottom: 0.4em;background-color: white;}#sk-container-id-2 div.sk-label label {font-family: monospace;font-weight: bold;display: inline-block;line-height: 1.2em;}#sk-container-id-2 div.sk-label-container {text-align: center;}#sk-container-id-2 div.sk-container {/* jupyter's `normalize.less` sets `[hidden] { display: none; }` but bootstrap.min.css set `[hidden] { display: none !important; }` so we also need the `!important` here to be able to override the default hidden behavior on the sphinx rendered scikit-learn.org. See: https://github.com/scikit-learn/scikit-learn/issues/21755 */display: inline-block !important;position: relative;}#sk-container-id-2 div.sk-text-repr-fallback {display: none;}</style><div id=\"sk-container-id-2\" class=\"sk-top-container\"><div class=\"sk-text-repr-fallback\"><pre>SVC()</pre><b>In a Jupyter environment, please rerun this cell to show the HTML representation or trust the notebook. <br />On GitHub, the HTML representation is unable to render, please try loading this page with nbviewer.org.</b></div><div class=\"sk-container\" hidden><div class=\"sk-item\"><div class=\"sk-estimator sk-toggleable\"><input class=\"sk-toggleable__control sk-hidden--visually\" id=\"sk-estimator-id-2\" type=\"checkbox\" checked><label for=\"sk-estimator-id-2\" class=\"sk-toggleable__label sk-toggleable__label-arrow\">SVC</label><div class=\"sk-toggleable__content\"><pre>SVC()</pre></div></div></div></div></div>"
      ],
      "text/plain": [
       "SVC()"
      ]
     },
     "execution_count": 51,
     "metadata": {},
     "output_type": "execute_result"
    }
   ],
   "source": [
    "model.fit(X_train,y_train)"
   ]
  },
  {
   "cell_type": "code",
   "execution_count": 52,
   "id": "f316c995",
   "metadata": {
    "execution": {
     "iopub.execute_input": "2023-08-15T09:20:34.452865Z",
     "iopub.status.busy": "2023-08-15T09:20:34.452239Z",
     "iopub.status.idle": "2023-08-15T09:20:34.488525Z",
     "shell.execute_reply": "2023-08-15T09:20:34.487525Z"
    },
    "papermill": {
     "duration": 0.077559,
     "end_time": "2023-08-15T09:20:34.491081",
     "exception": false,
     "start_time": "2023-08-15T09:20:34.413522",
     "status": "completed"
    },
    "tags": []
   },
   "outputs": [
    {
     "data": {
      "text/plain": [
       "(109,)"
      ]
     },
     "execution_count": 52,
     "metadata": {},
     "output_type": "execute_result"
    }
   ],
   "source": [
    "y_predict = model.predict(X_test)\n",
    "y_predict.shape"
   ]
  },
  {
   "cell_type": "code",
   "execution_count": 53,
   "id": "a83dc062",
   "metadata": {
    "execution": {
     "iopub.execute_input": "2023-08-15T09:20:34.566281Z",
     "iopub.status.busy": "2023-08-15T09:20:34.565319Z",
     "iopub.status.idle": "2023-08-15T09:20:34.602009Z",
     "shell.execute_reply": "2023-08-15T09:20:34.601165Z"
    },
    "papermill": {
     "duration": 0.076608,
     "end_time": "2023-08-15T09:20:34.604236",
     "exception": false,
     "start_time": "2023-08-15T09:20:34.527628",
     "status": "completed"
    },
    "tags": []
   },
   "outputs": [
    {
     "data": {
      "text/plain": [
       "0.027522935779816515"
      ]
     },
     "execution_count": 53,
     "metadata": {},
     "output_type": "execute_result"
    }
   ],
   "source": [
    "model.score(X_test,y_test)"
   ]
  },
  {
   "cell_type": "code",
   "execution_count": 54,
   "id": "3655e762",
   "metadata": {
    "execution": {
     "iopub.execute_input": "2023-08-15T09:20:34.679989Z",
     "iopub.status.busy": "2023-08-15T09:20:34.679521Z",
     "iopub.status.idle": "2023-08-15T09:20:34.688637Z",
     "shell.execute_reply": "2023-08-15T09:20:34.687425Z"
    },
    "papermill": {
     "duration": 0.049971,
     "end_time": "2023-08-15T09:20:34.691255",
     "exception": false,
     "start_time": "2023-08-15T09:20:34.641284",
     "status": "completed"
    },
    "tags": []
   },
   "outputs": [
    {
     "data": {
      "text/plain": [
       "0.027522935779816515"
      ]
     },
     "execution_count": 54,
     "metadata": {},
     "output_type": "execute_result"
    }
   ],
   "source": [
    "accuracy_score(y_test,y_predict)"
   ]
  },
  {
   "cell_type": "code",
   "execution_count": 55,
   "id": "940c7558",
   "metadata": {
    "execution": {
     "iopub.execute_input": "2023-08-15T09:20:34.769197Z",
     "iopub.status.busy": "2023-08-15T09:20:34.768123Z",
     "iopub.status.idle": "2023-08-15T09:20:34.775923Z",
     "shell.execute_reply": "2023-08-15T09:20:34.775028Z"
    },
    "papermill": {
     "duration": 0.048671,
     "end_time": "2023-08-15T09:20:34.778172",
     "exception": false,
     "start_time": "2023-08-15T09:20:34.729501",
     "status": "completed"
    },
    "tags": []
   },
   "outputs": [
    {
     "data": {
      "text/plain": [
       "1376848.623853211"
      ]
     },
     "execution_count": 55,
     "metadata": {},
     "output_type": "execute_result"
    }
   ],
   "source": [
    "mae = mean_absolute_error(y_test,y_predict)\n",
    "mae"
   ]
  },
  {
   "cell_type": "markdown",
   "id": "d52bc7e8",
   "metadata": {
    "papermill": {
     "duration": 0.037026,
     "end_time": "2023-08-15T09:20:34.854108",
     "exception": false,
     "start_time": "2023-08-15T09:20:34.817082",
     "status": "completed"
    },
    "tags": []
   },
   "source": [
    "# DecisionTreeClassifier"
   ]
  },
  {
   "cell_type": "code",
   "execution_count": 56,
   "id": "ccefcb5f",
   "metadata": {
    "execution": {
     "iopub.execute_input": "2023-08-15T09:20:34.930794Z",
     "iopub.status.busy": "2023-08-15T09:20:34.930019Z",
     "iopub.status.idle": "2023-08-15T09:20:35.107752Z",
     "shell.execute_reply": "2023-08-15T09:20:35.106790Z"
    },
    "papermill": {
     "duration": 0.218761,
     "end_time": "2023-08-15T09:20:35.110404",
     "exception": false,
     "start_time": "2023-08-15T09:20:34.891643",
     "status": "completed"
    },
    "tags": []
   },
   "outputs": [],
   "source": [
    "from sklearn.tree import DecisionTreeClassifier"
   ]
  },
  {
   "cell_type": "code",
   "execution_count": 57,
   "id": "2b198dff",
   "metadata": {
    "execution": {
     "iopub.execute_input": "2023-08-15T09:20:35.187087Z",
     "iopub.status.busy": "2023-08-15T09:20:35.186671Z",
     "iopub.status.idle": "2023-08-15T09:20:35.190913Z",
     "shell.execute_reply": "2023-08-15T09:20:35.189947Z"
    },
    "papermill": {
     "duration": 0.044974,
     "end_time": "2023-08-15T09:20:35.193000",
     "exception": false,
     "start_time": "2023-08-15T09:20:35.148026",
     "status": "completed"
    },
    "tags": []
   },
   "outputs": [],
   "source": [
    "model = DecisionTreeClassifier()"
   ]
  },
  {
   "cell_type": "code",
   "execution_count": 58,
   "id": "e4692d78",
   "metadata": {
    "execution": {
     "iopub.execute_input": "2023-08-15T09:20:35.270171Z",
     "iopub.status.busy": "2023-08-15T09:20:35.269128Z",
     "iopub.status.idle": "2023-08-15T09:20:35.288235Z",
     "shell.execute_reply": "2023-08-15T09:20:35.286942Z"
    },
    "papermill": {
     "duration": 0.060549,
     "end_time": "2023-08-15T09:20:35.290886",
     "exception": false,
     "start_time": "2023-08-15T09:20:35.230337",
     "status": "completed"
    },
    "tags": []
   },
   "outputs": [
    {
     "data": {
      "text/html": [
       "<style>#sk-container-id-3 {color: black;background-color: white;}#sk-container-id-3 pre{padding: 0;}#sk-container-id-3 div.sk-toggleable {background-color: white;}#sk-container-id-3 label.sk-toggleable__label {cursor: pointer;display: block;width: 100%;margin-bottom: 0;padding: 0.3em;box-sizing: border-box;text-align: center;}#sk-container-id-3 label.sk-toggleable__label-arrow:before {content: \"▸\";float: left;margin-right: 0.25em;color: #696969;}#sk-container-id-3 label.sk-toggleable__label-arrow:hover:before {color: black;}#sk-container-id-3 div.sk-estimator:hover label.sk-toggleable__label-arrow:before {color: black;}#sk-container-id-3 div.sk-toggleable__content {max-height: 0;max-width: 0;overflow: hidden;text-align: left;background-color: #f0f8ff;}#sk-container-id-3 div.sk-toggleable__content pre {margin: 0.2em;color: black;border-radius: 0.25em;background-color: #f0f8ff;}#sk-container-id-3 input.sk-toggleable__control:checked~div.sk-toggleable__content {max-height: 200px;max-width: 100%;overflow: auto;}#sk-container-id-3 input.sk-toggleable__control:checked~label.sk-toggleable__label-arrow:before {content: \"▾\";}#sk-container-id-3 div.sk-estimator input.sk-toggleable__control:checked~label.sk-toggleable__label {background-color: #d4ebff;}#sk-container-id-3 div.sk-label input.sk-toggleable__control:checked~label.sk-toggleable__label {background-color: #d4ebff;}#sk-container-id-3 input.sk-hidden--visually {border: 0;clip: rect(1px 1px 1px 1px);clip: rect(1px, 1px, 1px, 1px);height: 1px;margin: -1px;overflow: hidden;padding: 0;position: absolute;width: 1px;}#sk-container-id-3 div.sk-estimator {font-family: monospace;background-color: #f0f8ff;border: 1px dotted black;border-radius: 0.25em;box-sizing: border-box;margin-bottom: 0.5em;}#sk-container-id-3 div.sk-estimator:hover {background-color: #d4ebff;}#sk-container-id-3 div.sk-parallel-item::after {content: \"\";width: 100%;border-bottom: 1px solid gray;flex-grow: 1;}#sk-container-id-3 div.sk-label:hover label.sk-toggleable__label {background-color: #d4ebff;}#sk-container-id-3 div.sk-serial::before {content: \"\";position: absolute;border-left: 1px solid gray;box-sizing: border-box;top: 0;bottom: 0;left: 50%;z-index: 0;}#sk-container-id-3 div.sk-serial {display: flex;flex-direction: column;align-items: center;background-color: white;padding-right: 0.2em;padding-left: 0.2em;position: relative;}#sk-container-id-3 div.sk-item {position: relative;z-index: 1;}#sk-container-id-3 div.sk-parallel {display: flex;align-items: stretch;justify-content: center;background-color: white;position: relative;}#sk-container-id-3 div.sk-item::before, #sk-container-id-3 div.sk-parallel-item::before {content: \"\";position: absolute;border-left: 1px solid gray;box-sizing: border-box;top: 0;bottom: 0;left: 50%;z-index: -1;}#sk-container-id-3 div.sk-parallel-item {display: flex;flex-direction: column;z-index: 1;position: relative;background-color: white;}#sk-container-id-3 div.sk-parallel-item:first-child::after {align-self: flex-end;width: 50%;}#sk-container-id-3 div.sk-parallel-item:last-child::after {align-self: flex-start;width: 50%;}#sk-container-id-3 div.sk-parallel-item:only-child::after {width: 0;}#sk-container-id-3 div.sk-dashed-wrapped {border: 1px dashed gray;margin: 0 0.4em 0.5em 0.4em;box-sizing: border-box;padding-bottom: 0.4em;background-color: white;}#sk-container-id-3 div.sk-label label {font-family: monospace;font-weight: bold;display: inline-block;line-height: 1.2em;}#sk-container-id-3 div.sk-label-container {text-align: center;}#sk-container-id-3 div.sk-container {/* jupyter's `normalize.less` sets `[hidden] { display: none; }` but bootstrap.min.css set `[hidden] { display: none !important; }` so we also need the `!important` here to be able to override the default hidden behavior on the sphinx rendered scikit-learn.org. See: https://github.com/scikit-learn/scikit-learn/issues/21755 */display: inline-block !important;position: relative;}#sk-container-id-3 div.sk-text-repr-fallback {display: none;}</style><div id=\"sk-container-id-3\" class=\"sk-top-container\"><div class=\"sk-text-repr-fallback\"><pre>DecisionTreeClassifier()</pre><b>In a Jupyter environment, please rerun this cell to show the HTML representation or trust the notebook. <br />On GitHub, the HTML representation is unable to render, please try loading this page with nbviewer.org.</b></div><div class=\"sk-container\" hidden><div class=\"sk-item\"><div class=\"sk-estimator sk-toggleable\"><input class=\"sk-toggleable__control sk-hidden--visually\" id=\"sk-estimator-id-3\" type=\"checkbox\" checked><label for=\"sk-estimator-id-3\" class=\"sk-toggleable__label sk-toggleable__label-arrow\">DecisionTreeClassifier</label><div class=\"sk-toggleable__content\"><pre>DecisionTreeClassifier()</pre></div></div></div></div></div>"
      ],
      "text/plain": [
       "DecisionTreeClassifier()"
      ]
     },
     "execution_count": 58,
     "metadata": {},
     "output_type": "execute_result"
    }
   ],
   "source": [
    "model.fit(X_train,y_train)"
   ]
  },
  {
   "cell_type": "code",
   "execution_count": 59,
   "id": "84a10211",
   "metadata": {
    "execution": {
     "iopub.execute_input": "2023-08-15T09:20:35.370361Z",
     "iopub.status.busy": "2023-08-15T09:20:35.369969Z",
     "iopub.status.idle": "2023-08-15T09:20:35.379859Z",
     "shell.execute_reply": "2023-08-15T09:20:35.378779Z"
    },
    "papermill": {
     "duration": 0.052646,
     "end_time": "2023-08-15T09:20:35.382099",
     "exception": false,
     "start_time": "2023-08-15T09:20:35.329453",
     "status": "completed"
    },
    "tags": []
   },
   "outputs": [
    {
     "data": {
      "text/plain": [
       "(109,)"
      ]
     },
     "execution_count": 59,
     "metadata": {},
     "output_type": "execute_result"
    }
   ],
   "source": [
    "y_predict = model.predict(X_test)\n",
    "y_predict.shape"
   ]
  },
  {
   "cell_type": "code",
   "execution_count": 60,
   "id": "32b8997c",
   "metadata": {
    "execution": {
     "iopub.execute_input": "2023-08-15T09:20:35.459283Z",
     "iopub.status.busy": "2023-08-15T09:20:35.458616Z",
     "iopub.status.idle": "2023-08-15T09:20:35.469885Z",
     "shell.execute_reply": "2023-08-15T09:20:35.468802Z"
    },
    "papermill": {
     "duration": 0.052247,
     "end_time": "2023-08-15T09:20:35.472124",
     "exception": false,
     "start_time": "2023-08-15T09:20:35.419877",
     "status": "completed"
    },
    "tags": []
   },
   "outputs": [
    {
     "data": {
      "text/plain": [
       "0.027522935779816515"
      ]
     },
     "execution_count": 60,
     "metadata": {},
     "output_type": "execute_result"
    }
   ],
   "source": [
    "model.score(X_test,y_test)"
   ]
  },
  {
   "cell_type": "code",
   "execution_count": 61,
   "id": "ab811403",
   "metadata": {
    "execution": {
     "iopub.execute_input": "2023-08-15T09:20:35.549258Z",
     "iopub.status.busy": "2023-08-15T09:20:35.548845Z",
     "iopub.status.idle": "2023-08-15T09:20:35.556630Z",
     "shell.execute_reply": "2023-08-15T09:20:35.555498Z"
    },
    "papermill": {
     "duration": 0.049075,
     "end_time": "2023-08-15T09:20:35.558870",
     "exception": false,
     "start_time": "2023-08-15T09:20:35.509795",
     "status": "completed"
    },
    "tags": []
   },
   "outputs": [
    {
     "data": {
      "text/plain": [
       "0.027522935779816515"
      ]
     },
     "execution_count": 61,
     "metadata": {},
     "output_type": "execute_result"
    }
   ],
   "source": [
    "accuracy_score(y_test,y_predict)"
   ]
  },
  {
   "cell_type": "code",
   "execution_count": 62,
   "id": "527b322e",
   "metadata": {
    "execution": {
     "iopub.execute_input": "2023-08-15T09:20:35.638286Z",
     "iopub.status.busy": "2023-08-15T09:20:35.637861Z",
     "iopub.status.idle": "2023-08-15T09:20:35.645475Z",
     "shell.execute_reply": "2023-08-15T09:20:35.644291Z"
    },
    "papermill": {
     "duration": 0.050012,
     "end_time": "2023-08-15T09:20:35.648170",
     "exception": false,
     "start_time": "2023-08-15T09:20:35.598158",
     "status": "completed"
    },
    "tags": []
   },
   "outputs": [
    {
     "data": {
      "text/plain": [
       "1123344.5871559633"
      ]
     },
     "execution_count": 62,
     "metadata": {},
     "output_type": "execute_result"
    }
   ],
   "source": [
    "mae = mean_absolute_error(y_test,y_predict)\n",
    "mae"
   ]
  },
  {
   "cell_type": "markdown",
   "id": "1d32c080",
   "metadata": {
    "papermill": {
     "duration": 0.038074,
     "end_time": "2023-08-15T09:20:35.724534",
     "exception": false,
     "start_time": "2023-08-15T09:20:35.686460",
     "status": "completed"
    },
    "tags": []
   },
   "source": [
    "# LinearRegression"
   ]
  },
  {
   "cell_type": "code",
   "execution_count": 63,
   "id": "11455d9b",
   "metadata": {
    "execution": {
     "iopub.execute_input": "2023-08-15T09:20:35.802136Z",
     "iopub.status.busy": "2023-08-15T09:20:35.801696Z",
     "iopub.status.idle": "2023-08-15T09:20:35.806939Z",
     "shell.execute_reply": "2023-08-15T09:20:35.805669Z"
    },
    "papermill": {
     "duration": 0.046996,
     "end_time": "2023-08-15T09:20:35.809352",
     "exception": false,
     "start_time": "2023-08-15T09:20:35.762356",
     "status": "completed"
    },
    "tags": []
   },
   "outputs": [],
   "source": [
    "from sklearn.linear_model import LinearRegression"
   ]
  },
  {
   "cell_type": "code",
   "execution_count": 64,
   "id": "aa4852e5",
   "metadata": {
    "execution": {
     "iopub.execute_input": "2023-08-15T09:20:35.887773Z",
     "iopub.status.busy": "2023-08-15T09:20:35.887386Z",
     "iopub.status.idle": "2023-08-15T09:20:35.892407Z",
     "shell.execute_reply": "2023-08-15T09:20:35.891211Z"
    },
    "papermill": {
     "duration": 0.047434,
     "end_time": "2023-08-15T09:20:35.894714",
     "exception": false,
     "start_time": "2023-08-15T09:20:35.847280",
     "status": "completed"
    },
    "tags": []
   },
   "outputs": [],
   "source": [
    "model = LinearRegression()"
   ]
  },
  {
   "cell_type": "code",
   "execution_count": 65,
   "id": "339ebd24",
   "metadata": {
    "execution": {
     "iopub.execute_input": "2023-08-15T09:20:35.973997Z",
     "iopub.status.busy": "2023-08-15T09:20:35.973613Z",
     "iopub.status.idle": "2023-08-15T09:20:36.000670Z",
     "shell.execute_reply": "2023-08-15T09:20:35.999314Z"
    },
    "papermill": {
     "duration": 0.068801,
     "end_time": "2023-08-15T09:20:36.003112",
     "exception": false,
     "start_time": "2023-08-15T09:20:35.934311",
     "status": "completed"
    },
    "tags": []
   },
   "outputs": [
    {
     "data": {
      "text/html": [
       "<style>#sk-container-id-4 {color: black;background-color: white;}#sk-container-id-4 pre{padding: 0;}#sk-container-id-4 div.sk-toggleable {background-color: white;}#sk-container-id-4 label.sk-toggleable__label {cursor: pointer;display: block;width: 100%;margin-bottom: 0;padding: 0.3em;box-sizing: border-box;text-align: center;}#sk-container-id-4 label.sk-toggleable__label-arrow:before {content: \"▸\";float: left;margin-right: 0.25em;color: #696969;}#sk-container-id-4 label.sk-toggleable__label-arrow:hover:before {color: black;}#sk-container-id-4 div.sk-estimator:hover label.sk-toggleable__label-arrow:before {color: black;}#sk-container-id-4 div.sk-toggleable__content {max-height: 0;max-width: 0;overflow: hidden;text-align: left;background-color: #f0f8ff;}#sk-container-id-4 div.sk-toggleable__content pre {margin: 0.2em;color: black;border-radius: 0.25em;background-color: #f0f8ff;}#sk-container-id-4 input.sk-toggleable__control:checked~div.sk-toggleable__content {max-height: 200px;max-width: 100%;overflow: auto;}#sk-container-id-4 input.sk-toggleable__control:checked~label.sk-toggleable__label-arrow:before {content: \"▾\";}#sk-container-id-4 div.sk-estimator input.sk-toggleable__control:checked~label.sk-toggleable__label {background-color: #d4ebff;}#sk-container-id-4 div.sk-label input.sk-toggleable__control:checked~label.sk-toggleable__label {background-color: #d4ebff;}#sk-container-id-4 input.sk-hidden--visually {border: 0;clip: rect(1px 1px 1px 1px);clip: rect(1px, 1px, 1px, 1px);height: 1px;margin: -1px;overflow: hidden;padding: 0;position: absolute;width: 1px;}#sk-container-id-4 div.sk-estimator {font-family: monospace;background-color: #f0f8ff;border: 1px dotted black;border-radius: 0.25em;box-sizing: border-box;margin-bottom: 0.5em;}#sk-container-id-4 div.sk-estimator:hover {background-color: #d4ebff;}#sk-container-id-4 div.sk-parallel-item::after {content: \"\";width: 100%;border-bottom: 1px solid gray;flex-grow: 1;}#sk-container-id-4 div.sk-label:hover label.sk-toggleable__label {background-color: #d4ebff;}#sk-container-id-4 div.sk-serial::before {content: \"\";position: absolute;border-left: 1px solid gray;box-sizing: border-box;top: 0;bottom: 0;left: 50%;z-index: 0;}#sk-container-id-4 div.sk-serial {display: flex;flex-direction: column;align-items: center;background-color: white;padding-right: 0.2em;padding-left: 0.2em;position: relative;}#sk-container-id-4 div.sk-item {position: relative;z-index: 1;}#sk-container-id-4 div.sk-parallel {display: flex;align-items: stretch;justify-content: center;background-color: white;position: relative;}#sk-container-id-4 div.sk-item::before, #sk-container-id-4 div.sk-parallel-item::before {content: \"\";position: absolute;border-left: 1px solid gray;box-sizing: border-box;top: 0;bottom: 0;left: 50%;z-index: -1;}#sk-container-id-4 div.sk-parallel-item {display: flex;flex-direction: column;z-index: 1;position: relative;background-color: white;}#sk-container-id-4 div.sk-parallel-item:first-child::after {align-self: flex-end;width: 50%;}#sk-container-id-4 div.sk-parallel-item:last-child::after {align-self: flex-start;width: 50%;}#sk-container-id-4 div.sk-parallel-item:only-child::after {width: 0;}#sk-container-id-4 div.sk-dashed-wrapped {border: 1px dashed gray;margin: 0 0.4em 0.5em 0.4em;box-sizing: border-box;padding-bottom: 0.4em;background-color: white;}#sk-container-id-4 div.sk-label label {font-family: monospace;font-weight: bold;display: inline-block;line-height: 1.2em;}#sk-container-id-4 div.sk-label-container {text-align: center;}#sk-container-id-4 div.sk-container {/* jupyter's `normalize.less` sets `[hidden] { display: none; }` but bootstrap.min.css set `[hidden] { display: none !important; }` so we also need the `!important` here to be able to override the default hidden behavior on the sphinx rendered scikit-learn.org. See: https://github.com/scikit-learn/scikit-learn/issues/21755 */display: inline-block !important;position: relative;}#sk-container-id-4 div.sk-text-repr-fallback {display: none;}</style><div id=\"sk-container-id-4\" class=\"sk-top-container\"><div class=\"sk-text-repr-fallback\"><pre>LinearRegression()</pre><b>In a Jupyter environment, please rerun this cell to show the HTML representation or trust the notebook. <br />On GitHub, the HTML representation is unable to render, please try loading this page with nbviewer.org.</b></div><div class=\"sk-container\" hidden><div class=\"sk-item\"><div class=\"sk-estimator sk-toggleable\"><input class=\"sk-toggleable__control sk-hidden--visually\" id=\"sk-estimator-id-4\" type=\"checkbox\" checked><label for=\"sk-estimator-id-4\" class=\"sk-toggleable__label sk-toggleable__label-arrow\">LinearRegression</label><div class=\"sk-toggleable__content\"><pre>LinearRegression()</pre></div></div></div></div></div>"
      ],
      "text/plain": [
       "LinearRegression()"
      ]
     },
     "execution_count": 65,
     "metadata": {},
     "output_type": "execute_result"
    }
   ],
   "source": [
    "model.fit(X_train,y_train)"
   ]
  },
  {
   "cell_type": "code",
   "execution_count": 66,
   "id": "797cf566",
   "metadata": {
    "execution": {
     "iopub.execute_input": "2023-08-15T09:20:36.083526Z",
     "iopub.status.busy": "2023-08-15T09:20:36.083135Z",
     "iopub.status.idle": "2023-08-15T09:20:36.092196Z",
     "shell.execute_reply": "2023-08-15T09:20:36.091084Z"
    },
    "papermill": {
     "duration": 0.053152,
     "end_time": "2023-08-15T09:20:36.094581",
     "exception": false,
     "start_time": "2023-08-15T09:20:36.041429",
     "status": "completed"
    },
    "tags": []
   },
   "outputs": [
    {
     "data": {
      "text/plain": [
       "(109,)"
      ]
     },
     "execution_count": 66,
     "metadata": {},
     "output_type": "execute_result"
    }
   ],
   "source": [
    "y_predict = model.predict(X_test)\n",
    "y_predict.shape"
   ]
  },
  {
   "cell_type": "code",
   "execution_count": 67,
   "id": "7b4b742c",
   "metadata": {
    "execution": {
     "iopub.execute_input": "2023-08-15T09:20:36.174375Z",
     "iopub.status.busy": "2023-08-15T09:20:36.173980Z",
     "iopub.status.idle": "2023-08-15T09:20:36.183584Z",
     "shell.execute_reply": "2023-08-15T09:20:36.182475Z"
    },
    "papermill": {
     "duration": 0.052012,
     "end_time": "2023-08-15T09:20:36.185793",
     "exception": false,
     "start_time": "2023-08-15T09:20:36.133781",
     "status": "completed"
    },
    "tags": []
   },
   "outputs": [
    {
     "data": {
      "text/plain": [
       "0.6611214250980093"
      ]
     },
     "execution_count": 67,
     "metadata": {},
     "output_type": "execute_result"
    }
   ],
   "source": [
    "model.score(X_test,y_test)"
   ]
  },
  {
   "cell_type": "code",
   "execution_count": 68,
   "id": "d0309eec",
   "metadata": {
    "execution": {
     "iopub.execute_input": "2023-08-15T09:20:36.266808Z",
     "iopub.status.busy": "2023-08-15T09:20:36.266386Z",
     "iopub.status.idle": "2023-08-15T09:20:36.274180Z",
     "shell.execute_reply": "2023-08-15T09:20:36.273084Z"
    },
    "papermill": {
     "duration": 0.051444,
     "end_time": "2023-08-15T09:20:36.276384",
     "exception": false,
     "start_time": "2023-08-15T09:20:36.224940",
     "status": "completed"
    },
    "tags": []
   },
   "outputs": [
    {
     "data": {
      "text/plain": [
       "716231.1189748812"
      ]
     },
     "execution_count": 68,
     "metadata": {},
     "output_type": "execute_result"
    }
   ],
   "source": [
    "mae = mean_absolute_error(y_test,y_predict)\n",
    "mae"
   ]
  },
  {
   "cell_type": "markdown",
   "id": "d0321bef",
   "metadata": {
    "papermill": {
     "duration": 0.040411,
     "end_time": "2023-08-15T09:20:36.356187",
     "exception": false,
     "start_time": "2023-08-15T09:20:36.315776",
     "status": "completed"
    },
    "tags": []
   },
   "source": [
    "# KNeighborsClassifier"
   ]
  },
  {
   "cell_type": "code",
   "execution_count": 69,
   "id": "23542243",
   "metadata": {
    "execution": {
     "iopub.execute_input": "2023-08-15T09:20:36.436812Z",
     "iopub.status.busy": "2023-08-15T09:20:36.436423Z",
     "iopub.status.idle": "2023-08-15T09:20:36.441184Z",
     "shell.execute_reply": "2023-08-15T09:20:36.440186Z"
    },
    "papermill": {
     "duration": 0.047441,
     "end_time": "2023-08-15T09:20:36.443371",
     "exception": false,
     "start_time": "2023-08-15T09:20:36.395930",
     "status": "completed"
    },
    "tags": []
   },
   "outputs": [],
   "source": [
    "from sklearn.neighbors import KNeighborsClassifier"
   ]
  },
  {
   "cell_type": "code",
   "execution_count": 70,
   "id": "64629bf7",
   "metadata": {
    "execution": {
     "iopub.execute_input": "2023-08-15T09:20:36.527374Z",
     "iopub.status.busy": "2023-08-15T09:20:36.526342Z",
     "iopub.status.idle": "2023-08-15T09:20:36.530998Z",
     "shell.execute_reply": "2023-08-15T09:20:36.530191Z"
    },
    "papermill": {
     "duration": 0.05128,
     "end_time": "2023-08-15T09:20:36.533061",
     "exception": false,
     "start_time": "2023-08-15T09:20:36.481781",
     "status": "completed"
    },
    "tags": []
   },
   "outputs": [],
   "source": [
    "model = KNeighborsClassifier(n_neighbors=5)"
   ]
  },
  {
   "cell_type": "code",
   "execution_count": 71,
   "id": "b19f1f97",
   "metadata": {
    "execution": {
     "iopub.execute_input": "2023-08-15T09:20:36.612321Z",
     "iopub.status.busy": "2023-08-15T09:20:36.611468Z",
     "iopub.status.idle": "2023-08-15T09:20:36.622476Z",
     "shell.execute_reply": "2023-08-15T09:20:36.621454Z"
    },
    "papermill": {
     "duration": 0.053119,
     "end_time": "2023-08-15T09:20:36.624744",
     "exception": false,
     "start_time": "2023-08-15T09:20:36.571625",
     "status": "completed"
    },
    "tags": []
   },
   "outputs": [
    {
     "data": {
      "text/html": [
       "<style>#sk-container-id-5 {color: black;background-color: white;}#sk-container-id-5 pre{padding: 0;}#sk-container-id-5 div.sk-toggleable {background-color: white;}#sk-container-id-5 label.sk-toggleable__label {cursor: pointer;display: block;width: 100%;margin-bottom: 0;padding: 0.3em;box-sizing: border-box;text-align: center;}#sk-container-id-5 label.sk-toggleable__label-arrow:before {content: \"▸\";float: left;margin-right: 0.25em;color: #696969;}#sk-container-id-5 label.sk-toggleable__label-arrow:hover:before {color: black;}#sk-container-id-5 div.sk-estimator:hover label.sk-toggleable__label-arrow:before {color: black;}#sk-container-id-5 div.sk-toggleable__content {max-height: 0;max-width: 0;overflow: hidden;text-align: left;background-color: #f0f8ff;}#sk-container-id-5 div.sk-toggleable__content pre {margin: 0.2em;color: black;border-radius: 0.25em;background-color: #f0f8ff;}#sk-container-id-5 input.sk-toggleable__control:checked~div.sk-toggleable__content {max-height: 200px;max-width: 100%;overflow: auto;}#sk-container-id-5 input.sk-toggleable__control:checked~label.sk-toggleable__label-arrow:before {content: \"▾\";}#sk-container-id-5 div.sk-estimator input.sk-toggleable__control:checked~label.sk-toggleable__label {background-color: #d4ebff;}#sk-container-id-5 div.sk-label input.sk-toggleable__control:checked~label.sk-toggleable__label {background-color: #d4ebff;}#sk-container-id-5 input.sk-hidden--visually {border: 0;clip: rect(1px 1px 1px 1px);clip: rect(1px, 1px, 1px, 1px);height: 1px;margin: -1px;overflow: hidden;padding: 0;position: absolute;width: 1px;}#sk-container-id-5 div.sk-estimator {font-family: monospace;background-color: #f0f8ff;border: 1px dotted black;border-radius: 0.25em;box-sizing: border-box;margin-bottom: 0.5em;}#sk-container-id-5 div.sk-estimator:hover {background-color: #d4ebff;}#sk-container-id-5 div.sk-parallel-item::after {content: \"\";width: 100%;border-bottom: 1px solid gray;flex-grow: 1;}#sk-container-id-5 div.sk-label:hover label.sk-toggleable__label {background-color: #d4ebff;}#sk-container-id-5 div.sk-serial::before {content: \"\";position: absolute;border-left: 1px solid gray;box-sizing: border-box;top: 0;bottom: 0;left: 50%;z-index: 0;}#sk-container-id-5 div.sk-serial {display: flex;flex-direction: column;align-items: center;background-color: white;padding-right: 0.2em;padding-left: 0.2em;position: relative;}#sk-container-id-5 div.sk-item {position: relative;z-index: 1;}#sk-container-id-5 div.sk-parallel {display: flex;align-items: stretch;justify-content: center;background-color: white;position: relative;}#sk-container-id-5 div.sk-item::before, #sk-container-id-5 div.sk-parallel-item::before {content: \"\";position: absolute;border-left: 1px solid gray;box-sizing: border-box;top: 0;bottom: 0;left: 50%;z-index: -1;}#sk-container-id-5 div.sk-parallel-item {display: flex;flex-direction: column;z-index: 1;position: relative;background-color: white;}#sk-container-id-5 div.sk-parallel-item:first-child::after {align-self: flex-end;width: 50%;}#sk-container-id-5 div.sk-parallel-item:last-child::after {align-self: flex-start;width: 50%;}#sk-container-id-5 div.sk-parallel-item:only-child::after {width: 0;}#sk-container-id-5 div.sk-dashed-wrapped {border: 1px dashed gray;margin: 0 0.4em 0.5em 0.4em;box-sizing: border-box;padding-bottom: 0.4em;background-color: white;}#sk-container-id-5 div.sk-label label {font-family: monospace;font-weight: bold;display: inline-block;line-height: 1.2em;}#sk-container-id-5 div.sk-label-container {text-align: center;}#sk-container-id-5 div.sk-container {/* jupyter's `normalize.less` sets `[hidden] { display: none; }` but bootstrap.min.css set `[hidden] { display: none !important; }` so we also need the `!important` here to be able to override the default hidden behavior on the sphinx rendered scikit-learn.org. See: https://github.com/scikit-learn/scikit-learn/issues/21755 */display: inline-block !important;position: relative;}#sk-container-id-5 div.sk-text-repr-fallback {display: none;}</style><div id=\"sk-container-id-5\" class=\"sk-top-container\"><div class=\"sk-text-repr-fallback\"><pre>KNeighborsClassifier()</pre><b>In a Jupyter environment, please rerun this cell to show the HTML representation or trust the notebook. <br />On GitHub, the HTML representation is unable to render, please try loading this page with nbviewer.org.</b></div><div class=\"sk-container\" hidden><div class=\"sk-item\"><div class=\"sk-estimator sk-toggleable\"><input class=\"sk-toggleable__control sk-hidden--visually\" id=\"sk-estimator-id-5\" type=\"checkbox\" checked><label for=\"sk-estimator-id-5\" class=\"sk-toggleable__label sk-toggleable__label-arrow\">KNeighborsClassifier</label><div class=\"sk-toggleable__content\"><pre>KNeighborsClassifier()</pre></div></div></div></div></div>"
      ],
      "text/plain": [
       "KNeighborsClassifier()"
      ]
     },
     "execution_count": 71,
     "metadata": {},
     "output_type": "execute_result"
    }
   ],
   "source": [
    "model.fit(X_train,y_train)"
   ]
  },
  {
   "cell_type": "code",
   "execution_count": 72,
   "id": "b6989002",
   "metadata": {
    "execution": {
     "iopub.execute_input": "2023-08-15T09:20:36.704761Z",
     "iopub.status.busy": "2023-08-15T09:20:36.704045Z",
     "iopub.status.idle": "2023-08-15T09:20:36.717484Z",
     "shell.execute_reply": "2023-08-15T09:20:36.716696Z"
    },
    "papermill": {
     "duration": 0.056044,
     "end_time": "2023-08-15T09:20:36.719746",
     "exception": false,
     "start_time": "2023-08-15T09:20:36.663702",
     "status": "completed"
    },
    "tags": []
   },
   "outputs": [
    {
     "data": {
      "text/plain": [
       "(109,)"
      ]
     },
     "execution_count": 72,
     "metadata": {},
     "output_type": "execute_result"
    }
   ],
   "source": [
    "y_predict = model.predict(X_test)\n",
    "y_predict.shape"
   ]
  },
  {
   "cell_type": "code",
   "execution_count": 73,
   "id": "f82fe49b",
   "metadata": {
    "execution": {
     "iopub.execute_input": "2023-08-15T09:20:36.800178Z",
     "iopub.status.busy": "2023-08-15T09:20:36.799699Z",
     "iopub.status.idle": "2023-08-15T09:20:36.815767Z",
     "shell.execute_reply": "2023-08-15T09:20:36.814895Z"
    },
    "papermill": {
     "duration": 0.058682,
     "end_time": "2023-08-15T09:20:36.817989",
     "exception": false,
     "start_time": "2023-08-15T09:20:36.759307",
     "status": "completed"
    },
    "tags": []
   },
   "outputs": [
    {
     "data": {
      "text/plain": [
       "0.0"
      ]
     },
     "execution_count": 73,
     "metadata": {},
     "output_type": "execute_result"
    }
   ],
   "source": [
    "model.score(X_test,y_test)"
   ]
  },
  {
   "cell_type": "code",
   "execution_count": 74,
   "id": "6767c8b4",
   "metadata": {
    "execution": {
     "iopub.execute_input": "2023-08-15T09:20:36.898510Z",
     "iopub.status.busy": "2023-08-15T09:20:36.897714Z",
     "iopub.status.idle": "2023-08-15T09:20:36.907521Z",
     "shell.execute_reply": "2023-08-15T09:20:36.906435Z"
    },
    "papermill": {
     "duration": 0.05265,
     "end_time": "2023-08-15T09:20:36.909779",
     "exception": false,
     "start_time": "2023-08-15T09:20:36.857129",
     "status": "completed"
    },
    "tags": []
   },
   "outputs": [
    {
     "data": {
      "text/plain": [
       "0.0"
      ]
     },
     "execution_count": 74,
     "metadata": {},
     "output_type": "execute_result"
    }
   ],
   "source": [
    "accuracy_score(y_test,y_predict)"
   ]
  },
  {
   "cell_type": "code",
   "execution_count": 75,
   "id": "f4c0f4af",
   "metadata": {
    "execution": {
     "iopub.execute_input": "2023-08-15T09:20:36.993045Z",
     "iopub.status.busy": "2023-08-15T09:20:36.992354Z",
     "iopub.status.idle": "2023-08-15T09:20:37.000048Z",
     "shell.execute_reply": "2023-08-15T09:20:36.999063Z"
    },
    "papermill": {
     "duration": 0.050797,
     "end_time": "2023-08-15T09:20:37.002163",
     "exception": false,
     "start_time": "2023-08-15T09:20:36.951366",
     "status": "completed"
    },
    "tags": []
   },
   "outputs": [
    {
     "data": {
      "text/plain": [
       "1537052.2935779816"
      ]
     },
     "execution_count": 75,
     "metadata": {},
     "output_type": "execute_result"
    }
   ],
   "source": [
    "mae = mean_absolute_error(y_test,y_predict)\n",
    "mae"
   ]
  },
  {
   "cell_type": "code",
   "execution_count": 76,
   "id": "75aa3943",
   "metadata": {
    "execution": {
     "iopub.execute_input": "2023-08-15T09:20:37.100906Z",
     "iopub.status.busy": "2023-08-15T09:20:37.099973Z",
     "iopub.status.idle": "2023-08-15T09:20:37.106479Z",
     "shell.execute_reply": "2023-08-15T09:20:37.105404Z"
    },
    "papermill": {
     "duration": 0.061839,
     "end_time": "2023-08-15T09:20:37.108649",
     "exception": false,
     "start_time": "2023-08-15T09:20:37.046810",
     "status": "completed"
    },
    "tags": []
   },
   "outputs": [],
   "source": [
    "neighbors = np.arange(1,10)"
   ]
  },
  {
   "cell_type": "code",
   "execution_count": 77,
   "id": "dac239b9",
   "metadata": {
    "execution": {
     "iopub.execute_input": "2023-08-15T09:20:37.190179Z",
     "iopub.status.busy": "2023-08-15T09:20:37.189735Z",
     "iopub.status.idle": "2023-08-15T09:20:37.194369Z",
     "shell.execute_reply": "2023-08-15T09:20:37.193354Z"
    },
    "papermill": {
     "duration": 0.04822,
     "end_time": "2023-08-15T09:20:37.196911",
     "exception": false,
     "start_time": "2023-08-15T09:20:37.148691",
     "status": "completed"
    },
    "tags": []
   },
   "outputs": [],
   "source": [
    "train_score = {}\n",
    "test_score = {}"
   ]
  },
  {
   "cell_type": "code",
   "execution_count": 78,
   "id": "942954e7",
   "metadata": {
    "execution": {
     "iopub.execute_input": "2023-08-15T09:20:37.278198Z",
     "iopub.status.busy": "2023-08-15T09:20:37.277766Z",
     "iopub.status.idle": "2023-08-15T09:20:37.617814Z",
     "shell.execute_reply": "2023-08-15T09:20:37.616992Z"
    },
    "papermill": {
     "duration": 0.383371,
     "end_time": "2023-08-15T09:20:37.620438",
     "exception": false,
     "start_time": "2023-08-15T09:20:37.237067",
     "status": "completed"
    },
    "tags": []
   },
   "outputs": [],
   "source": [
    "for neighbor in neighbors :\n",
    "    model = KNeighborsClassifier(n_neighbors=neighbor)\n",
    "    model.fit(X_train,y_train)\n",
    "    y_predict = model.predict(X_test)\n",
    "    train_score[neighbor] = model.score(X_train,y_train)\n",
    "    test_score[neighbor] = model.score(X_test,y_test)"
   ]
  },
  {
   "cell_type": "code",
   "execution_count": 79,
   "id": "96b1b521",
   "metadata": {
    "execution": {
     "iopub.execute_input": "2023-08-15T09:20:37.702197Z",
     "iopub.status.busy": "2023-08-15T09:20:37.701281Z",
     "iopub.status.idle": "2023-08-15T09:20:37.970369Z",
     "shell.execute_reply": "2023-08-15T09:20:37.969184Z"
    },
    "papermill": {
     "duration": 0.31298,
     "end_time": "2023-08-15T09:20:37.972871",
     "exception": false,
     "start_time": "2023-08-15T09:20:37.659891",
     "status": "completed"
    },
    "tags": []
   },
   "outputs": [
    {
     "data": {
      "image/png": "[encoded data removed]",
      "text/plain": [
       "<Figure size 640x480 with 1 Axes>"
      ]
     },
     "metadata": {},
     "output_type": "display_data"
    }
   ],
   "source": [
    "plt.plot(neighbors,train_score.values(),label='train score')\n",
    "plt.plot(neighbors,test_score.values(),label='test score')\n",
    "plt.legend()\n",
    "plt.xlabel(\"Number of Neighbors\")\n",
    "plt.ylabel(\"Accuracy\")\n",
    "plt.show()"
   ]
  },
  {
   "cell_type": "markdown",
   "id": "5581339f",
   "metadata": {
    "papermill": {
     "duration": 0.040399,
     "end_time": "2023-08-15T09:20:38.053275",
     "exception": false,
     "start_time": "2023-08-15T09:20:38.012876",
     "status": "completed"
    },
    "tags": []
   },
   "source": [
    "# LinearRegression is the best algorithm."
   ]
  },
  {
   "cell_type": "markdown",
   "id": "a9a8af50",
   "metadata": {
    "papermill": {
     "duration": 0.039601,
     "end_time": "2023-08-15T09:20:38.135041",
     "exception": false,
     "start_time": "2023-08-15T09:20:38.095440",
     "status": "completed"
    },
    "tags": []
   },
   "source": [
    "# Thank You"
   ]
  }
 ],
 "metadata": {
  "kernelspec": {
   "display_name": "Python 3",
   "language": "python",
   "name": "python3"
  },
  "language_info": {
   "codemirror_mode": {
    "name": "ipython",
    "version": 3
   },
   "file_extension": ".py",
   "mimetype": "text/x-python",
   "name": "python",
   "nbconvert_exporter": "python",
   "pygments_lexer": "ipython3",
   "version": "3.10.12"
  },
  "papermill": {
   "default_parameters": {},
   "duration": 32.072991,
   "end_time": "2023-08-15T09:20:39.298529",
   "environment_variables": {},
   "exception": null,
   "input_path": "__notebook__.ipynb",
   "output_path": "__notebook__.ipynb",
   "parameters": {},
   "start_time": "2023-08-15T09:20:07.225538",
   "version": "2.4.0"
  }
 },
 "nbformat": 4,
 "nbformat_minor": 5
}
